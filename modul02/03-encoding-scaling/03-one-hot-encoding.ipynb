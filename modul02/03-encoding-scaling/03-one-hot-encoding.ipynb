{
 "cells": [
  {
   "cell_type": "markdown",
   "metadata": {},
   "source": [
    "### **One Hot Encoding**\n",
    "Binary encoding'ten farklı olarak eğer nominal ölçek türüne sahip (sınıfların arasında fark olmayan (dereceli değil) örneğin: Takım=Fb,Gs,Bjk,Ts) değişkenleri kukla değişkenlere çevirmek için kullanılır.\n",
    "\n",
    "\n",
    "<table><tbody><tr><th>TEAM</th></tr><tr><td>FB</td></tr><tr><td>GS</td></tr><tr><td>BJK</td></tr><tr><td>TS</td></tr><tr><td>BC</td></tr><tr><td>RM</td></tr></tbody></table>\n",
    "\n",
    "şeklinde olan değişkeni:\n",
    "\n",
    "<table><tbody><tr><th>FB</th><th>GS</th><th>BJK</th><th>TS</th><th>BC</th><th>RC</th></tr><tr><td>1</td><td>0</td><td>0</td><td>0</td><td>0</td><td>0</td></tr><tr><td>0</td><td>1</td><td>0</td><td>0</td><td>0</td><td>0</td></tr><tr><td>0</td><td>0</td><td>1</td><td>0</td><td>0</td><td>0</td></tr><tr><td>0</td><td>0</td><td>0</td><td>1</td><td>0</td><td>0</td></tr><tr><td>0</td><td>0</td><td>0</td><td>0</td><td>1</td><td>0</td></tr><tr><td>0</td><td>0</td><td>0</td><td>0</td><td>0</td><td>1</td></tr></tbody></table>\n",
    "\n",
    "şekline çevirir. Buna one hot encoding denir.\n",
    "\n",
    "TEAM değişkenini numerik olarak ifade etmemizi sağlar.\n",
    "\n",
    "> Dummy değişken tuzağı nedir?\n",
    "\n",
    "One hot encoding yaptığımızda ortaya bir sorun çıkar: DUMMY (Kukla) DEĞİŞKEN TUZAĞI\n",
    "\n",
    "Buradaki sorun yukarıdaki değişkenin verilerini oluşturan sınıflar 6 tanedir ama numerik olarak 0 ve 1 ile ifade ettiğimiz için fazladan bir değişkenin verisini tutarız. Nasıl mı?\n",
    "\n",
    "<table><tbody><tr><th>FB</th><th>GS</th><th>BJK</th><th>TS</th><th>BC</th><th>RC</th></tr><tr><td>1</td><td>0</td><td>0</td><td>0</td><td>0</td><td>0</td></tr><tr><td>0</td><td>1</td><td>0</td><td>0</td><td>0</td><td>0</td></tr><tr><td>0</td><td>0</td><td>1</td><td>0</td><td>0</td><td>0</td></tr><tr><td>0</td><td>0</td><td>0</td><td>1</td><td>0</td><td>0</td></tr><tr><td>0</td><td>0</td><td>0</td><td>0</td><td>1</td><td>0</td></tr><tr><td>0</td><td>0</td><td>0</td><td>0</td><td>0</td><td>1</td></tr></tbody></table>\n",
    "\n",
    "Buradaki tabloda eğer FB değişkenini kaldırırsak FB değişkenlerinin gözlemlerine yine de ulaşabiliriz. Çünkü eğer diğer 5 değişken 0 değerini alan bir gözlem varsa FB değişkeni kesinlikle 1 değerini alır. Bu yüzden one hot encoding de ilk değişken her zaman drop edilir (silinir). Gereksiz yere tutulmaz. Gereksiz yere tutma olayına Dummy değişken tuzağı denir."
   ]
  }
 ],
 "metadata": {
  "kernelspec": {
   "display_name": "Python 3.10.5 64-bit (windows store)",
   "language": "python",
   "name": "python3"
  },
  "language_info": {
   "name": "python",
   "version": "3.10.5"
  },
  "orig_nbformat": 4,
  "vscode": {
   "interpreter": {
    "hash": "bdeb59d3b64914835d647b3375aaf9a9a525da8506b206b2e4c562ce2d2d091a"
   }
  }
 },
 "nbformat": 4,
 "nbformat_minor": 2
}
