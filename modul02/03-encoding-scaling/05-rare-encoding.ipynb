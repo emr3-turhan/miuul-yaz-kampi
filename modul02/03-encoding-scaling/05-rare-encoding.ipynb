{
 "cells": [
  {
   "cell_type": "markdown",
   "metadata": {},
   "source": [
    "### **Rare Encoding**"
   ]
  },
  {
   "cell_type": "markdown",
   "metadata": {},
   "source": [
    "<table><tbody><tr><th>CITY</th><th>CITY_COUNT</th></tr><tr><td>A</td><td>56</td></tr><tr><td>B</td><td>84</td></tr><tr><td>C</td><td>54</td></tr><tr><td>D</td><td>2</td></tr><tr><td>E</td><td>12</td></tr><tr><td>F</td><td>60</td></tr><tr><td>G</td><td>3</td></tr><tr><td>H</td><td>5</td></tr><tr><td>K</td><td>25</td></tr><tr><td>L</td><td>1</td></tr><tr><td>M</td><td>36</td></tr><tr><td>Z</td><td>45</td></tr></tbody></table>\n",
    "\n",
    "Yukarıdaki tabloda şehirler ve gözlem frekansları verilmiştir.\n",
    "\n",
    "Frekansı az olan şehirler one hot encoding işlemi uygulandığında ayırt edici özellik gösterememektedirler.\n",
    "\n",
    "Rare encoding ile bu ayırt edici olmayan gözlemlerden (one hot encoding sonrası değişken) kurtulabiliriz.\n",
    "\n",
    "Rare encoding çok faydalı olabileceği gibi zararlı da olabilir dikkat edilmelidir.\n",
    "\n",
    "Diyelim ki ayırt edici eşik de 20 olsun. Frekansı 20 nin altında olan gözlemler için rare encoding işlemi yapılır. Çıktısı:\n",
    "\n",
    "<table><tbody><tr><th>CITY</th><th>CITY_COUNT</th></tr><tr><td>A</td><td>56</td></tr><tr><td>B</td><td>84</td></tr><tr><td>C</td><td>54</td></tr><tr><td>F</td><td>60</td></tr><tr><td>K</td><td>25</td></tr><tr><td>M</td><td>36</td></tr><tr><td>Z</td><td>45</td></tr><tr><td>RARE (D,E,G,H,L)</td><td>23</td></tr></tbody></table>\n",
    "\n",
    "gibi olur. Yani gözlem sayısı 20 nin altında olanlar bir araya getirilir. Rare encoding frekans veya oran (%) olarak uygulanabilir."
   ]
  }
 ],
 "metadata": {
  "kernelspec": {
   "display_name": "Python 3.10.5 64-bit (windows store)",
   "language": "python",
   "name": "python3"
  },
  "language_info": {
   "codemirror_mode": {
    "name": "ipython",
    "version": 3
   },
   "file_extension": ".py",
   "mimetype": "text/x-python",
   "name": "python",
   "nbconvert_exporter": "python",
   "pygments_lexer": "ipython3",
   "version": "3.10.5"
  },
  "orig_nbformat": 4,
  "vscode": {
   "interpreter": {
    "hash": "bdeb59d3b64914835d647b3375aaf9a9a525da8506b206b2e4c562ce2d2d091a"
   }
  }
 },
 "nbformat": 4,
 "nbformat_minor": 2
}
