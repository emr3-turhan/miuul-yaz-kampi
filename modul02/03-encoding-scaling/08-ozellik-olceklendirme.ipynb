{
 "cells": [
  {
   "cell_type": "markdown",
   "metadata": {},
   "source": [
    "### **Özellik Ölçeklendirme (Feature Scaling)**\n",
    "\n",
    "1. Tüm değişkenler eşit şartlar altında değerlendirilebilmek için ölçeklendirilmelidir.\n",
    "\n",
    "2. Eğitim sürelerini kısaltmak için (Hata yönetimi ve hataların daha kısa sürede çözülmesi)\n",
    "\n",
    "3. Uzaklık temelli yöntemlerde büyük değerler dominantlık göstermektedirler. Bu nedenle özelliklerin ölçeklenmesi gereklidir.\n",
    "\n",
    "Ağaca dayalı yöntemlerin birçoğu aykırı, eksik, standartlaştırmalardan etkilenmez."
   ]
  }
 ],
 "metadata": {
  "kernelspec": {
   "display_name": "Python 3.10.5 64-bit (windows store)",
   "language": "python",
   "name": "python3"
  },
  "language_info": {
   "name": "python",
   "version": "3.10.5"
  },
  "orig_nbformat": 4,
  "vscode": {
   "interpreter": {
    "hash": "bdeb59d3b64914835d647b3375aaf9a9a525da8506b206b2e4c562ce2d2d091a"
   }
  }
 },
 "nbformat": 4,
 "nbformat_minor": 2
}
