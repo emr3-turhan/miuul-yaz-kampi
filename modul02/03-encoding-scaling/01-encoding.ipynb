{
 "cells": [
  {
   "cell_type": "markdown",
   "metadata": {},
   "source": [
    "## **Encoding**\n",
    "\n",
    "> Encoding nedir?\n",
    "\n",
    "Değişkenlerin temsil şekillerinin değiştirilmesi."
   ]
  },
  {
   "cell_type": "markdown",
   "metadata": {},
   "source": [
    "### Label Encoding\n",
    "\n",
    "Kategorik değişkenlerin sınıflarını yeniden kodlamak demektir.\n",
    "\n",
    "Örneğin titanic verisetindeki 'Sex' değişkeni için (male,female) numerik görünümlü IS_FEMALE değişkeni (0,1) oluşturup numerikleştirebiliriz."
   ]
  },
  {
   "cell_type": "code",
   "execution_count": null,
   "metadata": {},
   "outputs": [],
   "source": []
  }
 ],
 "metadata": {
  "kernelspec": {
   "display_name": "Python 3.10.5 64-bit (windows store)",
   "language": "python",
   "name": "python3"
  },
  "language_info": {
   "name": "python",
   "version": "3.10.5"
  },
  "orig_nbformat": 4,
  "vscode": {
   "interpreter": {
    "hash": "bdeb59d3b64914835d647b3375aaf9a9a525da8506b206b2e4c562ce2d2d091a"
   }
  }
 },
 "nbformat": 4,
 "nbformat_minor": 2
}
