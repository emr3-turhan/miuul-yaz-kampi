{
 "cells": [
  {
   "cell_type": "markdown",
   "metadata": {},
   "source": [
    "## **Uygulama**\n",
    "\n",
    "### Tüm uygulama kısımları birleştirilmiştir.\n",
    "\n",
    "titanic.csv dosyası verileri kullanılmıştır."
   ]
  },
  {
   "cell_type": "code",
   "execution_count": 169,
   "metadata": {},
   "outputs": [],
   "source": [
    "##################### GEÇMİŞ TANIMLAMALAR ##############################\n",
    "\n",
    "# Kütüphaneler\n",
    "import numpy as np\n",
    "import pandas as pd\n",
    "import seaborn as sns\n",
    "from matplotlib import pyplot as plt\n",
    "# pip install missingno\n",
    "import missingno as msno\n",
    "from datetime import date\n",
    "from sklearn.metrics import accuracy_score\n",
    "from sklearn.model_selection import train_test_split\n",
    "from sklearn.neighbors import LocalOutlierFactor\n",
    "from sklearn.preprocessing import MinMaxScaler, LabelEncoder, StandardScaler, RobustScaler\n",
    "\n",
    "\n",
    "# Pandas ayarları\n",
    "pd.set_option('display.max_columns', None)\n",
    "pd.set_option('display.max_rows', None)\n",
    "pd.set_option('display.float_format', lambda x: '%.3f' % x)\n",
    "pd.set_option('display.width', 500)\n",
    "\n",
    "\n",
    "# Veri setleri\n",
    "def load_application_train():\n",
    "    data = pd.read_csv('../01-outliers/application_train.csv')\n",
    "    return data\n",
    "\n",
    "def load():\n",
    "    data = pd.read_csv('../01-outliers/titanic.csv')\n",
    "    return data\n",
    "\n",
    "# Fonksiyonlar\n",
    "# outlier_thresholds fonksiyonu\n",
    "# Alt ve üst sınırlarının belirlemek için kullanılacak\n",
    "def outlier_thresholds(dataframe, col_name, q1 = 0.25, q3 = 0.75):\n",
    "    quartile1 = dataframe[col_name].quantile(q1)\n",
    "    quartile3 = dataframe[col_name].quantile(q3)\n",
    "    interquartile_range = quartile3 - quartile1\n",
    "    up_limit = quartile3 + 1.5 * interquartile_range\n",
    "    low_limit = quartile1 - 1.5 * interquartile_range\n",
    "    return low_limit, up_limit\n",
    "\n",
    "# Aykırı değer var mı yok mu kontrol eden fonksiyonu tanımlayalım. (return: True/False)(bool)\n",
    "def check_outlier(dataframe, col_name):\n",
    "    low_limit, up_limit = outlier_thresholds(dataframe, col_name)\n",
    "    if dataframe[(dataframe[col_name] > up_limit) | (dataframe[col_name] < low_limit)].any(axis=None):\n",
    "        return True\n",
    "    else:\n",
    "        return False\n",
    "\n",
    "    # Bunu da kullanabiliriz.\n",
    "    # if dataframe[(dataframe[col_name] > up_limit) | (dataframe[col_name] < low_limit)].empty:\n",
    "    #     return False\n",
    "    # else:\n",
    "    #     return True\n",
    "        \n",
    "# Efsane fonksiyon\n",
    "\n",
    "def grab_col_names(dataframe, cat_th=10, car_th=20):\n",
    "    \"\"\"\n",
    "    \n",
    "    Veri setindeki kategorik, numerik ve kategorik fakat kardinal değişkenlerin isimlerini verir.\n",
    "    Not: Kategorik değişkenlerin içerisine numerik görünümlü kategorik değişkenler de dahildir.\n",
    "\n",
    "    Parameters\n",
    "    -------\n",
    "        dataframe: dataframe\n",
    "                Değişken isimleri alınmak istenilen dataframe.\n",
    "        cat_th: int, optinal\n",
    "                Kategorik değişkenlerinin sayısının üst sınırı.\n",
    "        car_th: int, optional\n",
    "                Kategorik fakat kardinal değişkenler için sınıf eşik değeri.\n",
    "    \n",
    "    Returns\n",
    "    -------\n",
    "        cat_cols: list\n",
    "                Kategorik değişken listesi.\n",
    "        num_cols: list\n",
    "                Numerik değişken listesi.\n",
    "        cat_but_car: list\n",
    "                Kategorik kardinal değişken listesi.\n",
    "    \"\"\"\n",
    "\n",
    "    # cat_cols, cat_but_car\n",
    "    cat_cols = [col for col in dataframe.columns if dataframe[col].dtype == 'O']\n",
    "    num_but_cat = [col for col in dataframe.columns if dataframe[col].nunique() < cat_th and\n",
    "                   dataframe[col].dtype != 'O']\n",
    "                   \n",
    "    cat_but_car = [col for col in dataframe.columns if dataframe[col].nunique() > car_th and\n",
    "                     dataframe[col].dtype == 'O']\n",
    "    cat_cols = cat_cols + num_but_cat\n",
    "    cat_cols = [col for col in cat_cols if col not in cat_but_car]\n",
    "\n",
    "    # num_cols\n",
    "    num_cols = [col for col in dataframe.columns if dataframe[col].dtype != 'O']\n",
    "    num_cols = [col for col in num_cols if col not in num_but_cat]\n",
    "\n",
    "    print(f\"Observations: {dataframe.shape[0]}\")\n",
    "    print(f\"Variables: {dataframe.shape[1]}\")\n",
    "    print(f\"cat_cols: {len(cat_cols)}\")\n",
    "    print(f\"num_cols: {len(num_cols)}\")\n",
    "    print(f\"cat_but_car: {len(cat_but_car)}\")\n",
    "    print(\"******************\")\n",
    "    print(f\"num_but_cat: {len(num_but_cat)}\")\n",
    "    return cat_cols, num_cols, cat_but_car\n",
    "\n",
    "# grab_outliers fonksiyonu (eğer değişkene ait aykırı değer sayısı 10 dan fazla ise ilk 5 değerini göster, az ise hepsini göster)\n",
    "def grab_outliers(dataframe, col_name, index=False):\n",
    "    low, up = outlier_thresholds(dataframe, col_name)\n",
    "\n",
    "    if dataframe[((dataframe[col_name] < low) | (dataframe[col_name] > up))].shape[0] > 0:\n",
    "        print(dataframe[((dataframe[col_name] < low) | (dataframe[col_name] > up))].head())\n",
    "    else:\n",
    "        print(dataframe[((dataframe[col_name] < low) | (dataframe[col_name] > up))])\n",
    "\n",
    "    if index:\n",
    "        outlier_index = dataframe[((dataframe[col_name] < low) | (dataframe[col_name] > up))].index\n",
    "        return outlier_index\n",
    "        \n",
    "\n",
    "# Aykırı olmayan gözlemleri dönen fonksiyonları yazalım.\n",
    "def remove_outlier(dataframe, col_name):\n",
    "    low_limit, up_limit = outlier_thresholds(dataframe, col_name)\n",
    "    df_wıthout_outliers = dataframe[~((dataframe[col_name] < low_limit) | (dataframe[col_name] > up_limit))]\n",
    "    return df_wıthout_outliers\n",
    "\n",
    "\n",
    "def replace_with_thresholds(dataframe, variable):\n",
    "    low_limit, up_limit = outlier_thresholds(dataframe,variable)\n",
    "    dataframe.loc[(dataframe[variable] < low_limit), variable] = low_limit\n",
    "    dataframe.loc[(dataframe[variable] > up_limit), variable] = up_limit\n",
    "\n",
    "def missing_values_table(dataframe, na_name=False):\n",
    "    na_columns = [col for col in dataframe.columns if dataframe[col].isnull().sum() > 0]\n",
    "    n_miss = dataframe[na_columns].isnull().sum().sort_values(ascending=False)\n",
    "    ratio = (dataframe[na_columns].isnull().sum() / dataframe.shape[0] * 100).sort_values(ascending=False)\n",
    "    missing_df = pd.concat([n_miss, np.round(ratio, 2)], axis=1, keys=['n_miss', 'ratio'])\n",
    "    print(missing_df,end='\\n')\n",
    "    if na_name:\n",
    "        return na_columns\n",
    "\n",
    "# Label encoding için fonksiyon\n",
    "def label_encoder(dataframe,binary_col):\n",
    "    labelencoder = LabelEncoder()\n",
    "    dataframe[binary_col] = labelencoder.fit_transform(dataframe[binary_col])\n",
    "    return dataframe\n",
    "\n",
    "# Rare değişkenler için\n",
    "def rare_analyser(dataframe, target, cat_cols):\n",
    "    for col in  cat_cols:\n",
    "        print(col,\":\",len(dataframe[col].value_counts()))\n",
    "        print(pd.DataFrame({\"COUNT\": dataframe[col].value_counts(),\n",
    "                            \"RATIO\": dataframe[col].value_counts() / len(dataframe),\n",
    "                            \"TARGET_MEAN\": dataframe.groupby(col)[target].mean()}),end=\"\\n\\n\\n\")\n",
    "                    \n",
    "# Rare encoding işlemini kriterlere göre uygulamak için fonksiyonumuzu yazalım.\n",
    "def rare_encoder(dataframe, rare_perc):\n",
    "    temp_df = dataframe.copy()\n",
    "\n",
    "    rare_columns = [col for col in temp_df.columns if temp_df[col].dtypes == \"O\"\n",
    "                    and (temp_df[col].value_counts() / len(temp_df) < rare_perc).any(axis=None)]\n",
    "\n",
    "    for var in rare_columns:\n",
    "        tmp = temp_df[var].value_counts() / len(temp_df)\n",
    "        rare_labels = tmp[tmp < rare_perc].index\n",
    "        temp_df[var] = np.where(temp_df[var].isin(rare_labels), \"Rare\", temp_df[var])\n",
    "    \n",
    "    return temp_df\n",
    "\n",
    "# One hot encoding için fonksiyon tanımlayalım:\n",
    "def one_hot_encoder(dataframe, categorical_cols, drop_first=True):\n",
    "    dataframe = pd.get_dummies(dataframe, columns=categorical_cols, drop_first=drop_first)\n",
    "    return dataframe"
   ]
  },
  {
   "cell_type": "code",
   "execution_count": 170,
   "metadata": {},
   "outputs": [
    {
     "data": {
      "text/plain": [
       "(891, 12)"
      ]
     },
     "execution_count": 170,
     "metadata": {},
     "output_type": "execute_result"
    }
   ],
   "source": [
    "df = load()\n",
    "df.shape"
   ]
  },
  {
   "cell_type": "code",
   "execution_count": 171,
   "metadata": {},
   "outputs": [],
   "source": [
    "# Tüm column adlarını büyütmek için\n",
    "df.columns = [col.upper() for col in df.columns]"
   ]
  },
  {
   "cell_type": "code",
   "execution_count": 172,
   "metadata": {},
   "outputs": [],
   "source": [
    "#############################################################################\n",
    "# 1. Feature Engineering (Değişken Mühendisliği)\n",
    "#############################################################################"
   ]
  },
  {
   "cell_type": "code",
   "execution_count": 173,
   "metadata": {},
   "outputs": [],
   "source": [
    "# Cabin var mi yok mu?\n",
    "df[\"NEW_CABIN_BOOL\"] = df[\"CABIN\"].notnull().astype(\"int64\")"
   ]
  },
  {
   "cell_type": "code",
   "execution_count": 174,
   "metadata": {},
   "outputs": [],
   "source": [
    "# Name değişken uzunluğu\n",
    "df[\"NEW_NAME_COUNT\"] = df[\"NAME\"].str.len()"
   ]
  },
  {
   "cell_type": "code",
   "execution_count": 175,
   "metadata": {},
   "outputs": [],
   "source": [
    "# Name değişken kelime sayısı\n",
    "df[\"NEW_NAME_WORD_COUNT\"] = df[\"NAME\"].apply(lambda x: len(str(x).split(\" \")))"
   ]
  },
  {
   "cell_type": "code",
   "execution_count": 176,
   "metadata": {},
   "outputs": [],
   "source": [
    "# Name değişken doktor mu?\n",
    "df[\"NEW_NAME_DR\"] = df[\"NAME\"].apply(lambda x: len([x for x in x.split() if x.startswith(\"Dr\")]))"
   ]
  },
  {
   "cell_type": "code",
   "execution_count": 177,
   "metadata": {},
   "outputs": [],
   "source": [
    "# Name değişken ünvanları\n",
    "df[\"SPECIAL_TITLE\"] = df.NAME.str.extract(' ([A-Za-z]+)\\.', expand=False)"
   ]
  },
  {
   "cell_type": "code",
   "execution_count": 178,
   "metadata": {},
   "outputs": [],
   "source": [
    "# Aile büyüklüğü\n",
    "df[\"NEW_FAMILY_SIZE\"] = df[\"SIBSP\"] + df[\"PARCH\"] + 1 "
   ]
  },
  {
   "cell_type": "code",
   "execution_count": 179,
   "metadata": {},
   "outputs": [],
   "source": [
    "# Age pclass\n",
    "df[\"NEW_AGE_PCLASS\"] = df[\"AGE\"] * df[\"PCLASS\"] # Ayni satandart formda olamali"
   ]
  },
  {
   "cell_type": "code",
   "execution_count": 180,
   "metadata": {},
   "outputs": [],
   "source": [
    "# is alone\n",
    "df.loc[((df[\"SIBSP\"] + df[\"PARCH\"]) > 0), \"NEW_IS_ALONE\"] = 'NO'\n",
    "df.loc[((df[\"SIBSP\"] + df[\"PARCH\"]) == 0), \"NEW_IS_ALONE\"] = 'YES'"
   ]
  },
  {
   "cell_type": "code",
   "execution_count": 181,
   "metadata": {},
   "outputs": [],
   "source": [
    "# age level\n",
    "df.loc[(df[\"AGE\"]< 18), \"NEW_AGE_CAT\"] = 'young'\n",
    "df.loc[(df[\"AGE\"]>= 18 ) & (df[\"AGE\"]< 56), \"NEW_AGE_CAT\"] = 'mature'\n",
    "df.loc[(df[\"AGE\"]>= 56), \"NEW_AGE_CAT\"] = 'senior'\n"
   ]
  },
  {
   "cell_type": "code",
   "execution_count": 182,
   "metadata": {},
   "outputs": [],
   "source": [
    "# sex X age\n",
    "df.loc[(df[\"SEX\"] == \"male\") & (df[\"AGE\"] <= 21), \"NEW_SEX_CAT\"] = \"youngmale\"\n",
    "df.loc[(df[\"SEX\"] == \"male\") & ((df[\"AGE\"] >21) & (df[\"AGE\"]) <= 50), \"NEW_SEX_CAT\"] = \"maturemale\"\n",
    "df.loc[(df[\"SEX\"] == \"male\") & (df[\"AGE\"] > 50), \"NEW_SEX_CAT\"] = \"seniormale\"\n",
    "df.loc[(df[\"SEX\"] == \"female\") & (df[\"AGE\"] <= 21), \"NEW_SEX_CAT\"] = \"youngfemale\"\n",
    "df.loc[(df[\"SEX\"] == \"female\") & ((df[\"AGE\"] >21) & (df[\"AGE\"]) <= 50), \"NEW_SEX_CAT\"] = \"maturefemale\"\n",
    "df.loc[(df[\"SEX\"] == \"female\") & (df[\"AGE\"] > 50), \"NEW_SEX_CAT\"] = \"seniorfemale\""
   ]
  },
  {
   "cell_type": "code",
   "execution_count": 183,
   "metadata": {},
   "outputs": [
    {
     "data": {
      "text/html": [
       "<div>\n",
       "<style scoped>\n",
       "    .dataframe tbody tr th:only-of-type {\n",
       "        vertical-align: middle;\n",
       "    }\n",
       "\n",
       "    .dataframe tbody tr th {\n",
       "        vertical-align: top;\n",
       "    }\n",
       "\n",
       "    .dataframe thead th {\n",
       "        text-align: right;\n",
       "    }\n",
       "</style>\n",
       "<table border=\"1\" class=\"dataframe\">\n",
       "  <thead>\n",
       "    <tr style=\"text-align: right;\">\n",
       "      <th></th>\n",
       "      <th>PASSENGERID</th>\n",
       "      <th>SURVIVED</th>\n",
       "      <th>PCLASS</th>\n",
       "      <th>NAME</th>\n",
       "      <th>SEX</th>\n",
       "      <th>AGE</th>\n",
       "      <th>SIBSP</th>\n",
       "      <th>PARCH</th>\n",
       "      <th>TICKET</th>\n",
       "      <th>FARE</th>\n",
       "      <th>CABIN</th>\n",
       "      <th>EMBARKED</th>\n",
       "      <th>NEW_CABIN_BOOL</th>\n",
       "      <th>NEW_NAME_COUNT</th>\n",
       "      <th>NEW_NAME_WORD_COUNT</th>\n",
       "      <th>NEW_NAME_DR</th>\n",
       "      <th>SPECIAL_TITLE</th>\n",
       "      <th>NEW_FAMILY_SIZE</th>\n",
       "      <th>NEW_AGE_PCLASS</th>\n",
       "      <th>NEW_IS_ALONE</th>\n",
       "      <th>NEW_AGE_CAT</th>\n",
       "      <th>NEW_SEX_CAT</th>\n",
       "    </tr>\n",
       "  </thead>\n",
       "  <tbody>\n",
       "    <tr>\n",
       "      <th>0</th>\n",
       "      <td>1</td>\n",
       "      <td>0</td>\n",
       "      <td>3</td>\n",
       "      <td>Braund, Mr. Owen Harris</td>\n",
       "      <td>male</td>\n",
       "      <td>22.000</td>\n",
       "      <td>1</td>\n",
       "      <td>0</td>\n",
       "      <td>A/5 21171</td>\n",
       "      <td>7.250</td>\n",
       "      <td>NaN</td>\n",
       "      <td>S</td>\n",
       "      <td>0</td>\n",
       "      <td>23</td>\n",
       "      <td>4</td>\n",
       "      <td>0</td>\n",
       "      <td>Mr</td>\n",
       "      <td>2</td>\n",
       "      <td>66.000</td>\n",
       "      <td>NO</td>\n",
       "      <td>mature</td>\n",
       "      <td>maturemale</td>\n",
       "    </tr>\n",
       "    <tr>\n",
       "      <th>1</th>\n",
       "      <td>2</td>\n",
       "      <td>1</td>\n",
       "      <td>1</td>\n",
       "      <td>Cumings, Mrs. John Bradley (Florence Briggs Th...</td>\n",
       "      <td>female</td>\n",
       "      <td>38.000</td>\n",
       "      <td>1</td>\n",
       "      <td>0</td>\n",
       "      <td>PC 17599</td>\n",
       "      <td>71.283</td>\n",
       "      <td>C85</td>\n",
       "      <td>C</td>\n",
       "      <td>1</td>\n",
       "      <td>51</td>\n",
       "      <td>7</td>\n",
       "      <td>0</td>\n",
       "      <td>Mrs</td>\n",
       "      <td>2</td>\n",
       "      <td>38.000</td>\n",
       "      <td>NO</td>\n",
       "      <td>mature</td>\n",
       "      <td>maturefemale</td>\n",
       "    </tr>\n",
       "    <tr>\n",
       "      <th>2</th>\n",
       "      <td>3</td>\n",
       "      <td>1</td>\n",
       "      <td>3</td>\n",
       "      <td>Heikkinen, Miss. Laina</td>\n",
       "      <td>female</td>\n",
       "      <td>26.000</td>\n",
       "      <td>0</td>\n",
       "      <td>0</td>\n",
       "      <td>STON/O2. 3101282</td>\n",
       "      <td>7.925</td>\n",
       "      <td>NaN</td>\n",
       "      <td>S</td>\n",
       "      <td>0</td>\n",
       "      <td>22</td>\n",
       "      <td>3</td>\n",
       "      <td>0</td>\n",
       "      <td>Miss</td>\n",
       "      <td>1</td>\n",
       "      <td>78.000</td>\n",
       "      <td>YES</td>\n",
       "      <td>mature</td>\n",
       "      <td>maturefemale</td>\n",
       "    </tr>\n",
       "    <tr>\n",
       "      <th>3</th>\n",
       "      <td>4</td>\n",
       "      <td>1</td>\n",
       "      <td>1</td>\n",
       "      <td>Futrelle, Mrs. Jacques Heath (Lily May Peel)</td>\n",
       "      <td>female</td>\n",
       "      <td>35.000</td>\n",
       "      <td>1</td>\n",
       "      <td>0</td>\n",
       "      <td>113803</td>\n",
       "      <td>53.100</td>\n",
       "      <td>C123</td>\n",
       "      <td>S</td>\n",
       "      <td>1</td>\n",
       "      <td>44</td>\n",
       "      <td>7</td>\n",
       "      <td>0</td>\n",
       "      <td>Mrs</td>\n",
       "      <td>2</td>\n",
       "      <td>35.000</td>\n",
       "      <td>NO</td>\n",
       "      <td>mature</td>\n",
       "      <td>maturefemale</td>\n",
       "    </tr>\n",
       "    <tr>\n",
       "      <th>4</th>\n",
       "      <td>5</td>\n",
       "      <td>0</td>\n",
       "      <td>3</td>\n",
       "      <td>Allen, Mr. William Henry</td>\n",
       "      <td>male</td>\n",
       "      <td>35.000</td>\n",
       "      <td>0</td>\n",
       "      <td>0</td>\n",
       "      <td>373450</td>\n",
       "      <td>8.050</td>\n",
       "      <td>NaN</td>\n",
       "      <td>S</td>\n",
       "      <td>0</td>\n",
       "      <td>24</td>\n",
       "      <td>4</td>\n",
       "      <td>0</td>\n",
       "      <td>Mr</td>\n",
       "      <td>1</td>\n",
       "      <td>105.000</td>\n",
       "      <td>YES</td>\n",
       "      <td>mature</td>\n",
       "      <td>maturemale</td>\n",
       "    </tr>\n",
       "  </tbody>\n",
       "</table>\n",
       "</div>"
      ],
      "text/plain": [
       "   PASSENGERID  SURVIVED  PCLASS                                               NAME     SEX    AGE  SIBSP  PARCH            TICKET   FARE CABIN EMBARKED  NEW_CABIN_BOOL  NEW_NAME_COUNT  NEW_NAME_WORD_COUNT  NEW_NAME_DR SPECIAL_TITLE  NEW_FAMILY_SIZE  NEW_AGE_PCLASS NEW_IS_ALONE NEW_AGE_CAT   NEW_SEX_CAT\n",
       "0            1         0       3                            Braund, Mr. Owen Harris    male 22.000      1      0         A/5 21171  7.250   NaN        S               0              23                    4            0            Mr                2          66.000           NO      mature    maturemale\n",
       "1            2         1       1  Cumings, Mrs. John Bradley (Florence Briggs Th...  female 38.000      1      0          PC 17599 71.283   C85        C               1              51                    7            0           Mrs                2          38.000           NO      mature  maturefemale\n",
       "2            3         1       3                             Heikkinen, Miss. Laina  female 26.000      0      0  STON/O2. 3101282  7.925   NaN        S               0              22                    3            0          Miss                1          78.000          YES      mature  maturefemale\n",
       "3            4         1       1       Futrelle, Mrs. Jacques Heath (Lily May Peel)  female 35.000      1      0            113803 53.100  C123        S               1              44                    7            0           Mrs                2          35.000           NO      mature  maturefemale\n",
       "4            5         0       3                           Allen, Mr. William Henry    male 35.000      0      0            373450  8.050   NaN        S               0              24                    4            0            Mr                1         105.000          YES      mature    maturemale"
      ]
     },
     "execution_count": 183,
     "metadata": {},
     "output_type": "execute_result"
    }
   ],
   "source": [
    "df.head()"
   ]
  },
  {
   "cell_type": "code",
   "execution_count": 184,
   "metadata": {},
   "outputs": [
    {
     "data": {
      "text/plain": [
       "(891, 22)"
      ]
     },
     "execution_count": 184,
     "metadata": {},
     "output_type": "execute_result"
    }
   ],
   "source": [
    "df.shape\n",
    "#  Değişken sayısı 22 ye çıktı"
   ]
  },
  {
   "cell_type": "code",
   "execution_count": 185,
   "metadata": {},
   "outputs": [
    {
     "name": "stdout",
     "output_type": "stream",
     "text": [
      "Observations: 891\n",
      "Variables: 22\n",
      "cat_cols: 14\n",
      "num_cols: 5\n",
      "cat_but_car: 3\n",
      "******************\n",
      "num_but_cat: 8\n"
     ]
    }
   ],
   "source": [
    "# Değişkenlerin türlerini bulalım.\n",
    "cat_cols, num_cols, cat_but_car = grab_col_names(df) "
   ]
  },
  {
   "cell_type": "code",
   "execution_count": 186,
   "metadata": {},
   "outputs": [
    {
     "data": {
      "text/plain": [
       "['SEX',\n",
       " 'EMBARKED',\n",
       " 'SPECIAL_TITLE',\n",
       " 'NEW_IS_ALONE',\n",
       " 'NEW_AGE_CAT',\n",
       " 'NEW_SEX_CAT',\n",
       " 'SURVIVED',\n",
       " 'PCLASS',\n",
       " 'SIBSP',\n",
       " 'PARCH',\n",
       " 'NEW_CABIN_BOOL',\n",
       " 'NEW_NAME_WORD_COUNT',\n",
       " 'NEW_NAME_DR',\n",
       " 'NEW_FAMILY_SIZE']"
      ]
     },
     "execution_count": 186,
     "metadata": {},
     "output_type": "execute_result"
    }
   ],
   "source": [
    "cat_cols"
   ]
  },
  {
   "cell_type": "code",
   "execution_count": 187,
   "metadata": {},
   "outputs": [
    {
     "data": {
      "text/plain": [
       "['PASSENGERID', 'AGE', 'FARE', 'NEW_NAME_COUNT', 'NEW_AGE_PCLASS']"
      ]
     },
     "execution_count": 187,
     "metadata": {},
     "output_type": "execute_result"
    }
   ],
   "source": [
    "num_cols"
   ]
  },
  {
   "cell_type": "code",
   "execution_count": 188,
   "metadata": {},
   "outputs": [
    {
     "data": {
      "text/plain": [
       "['NAME', 'TICKET', 'CABIN']"
      ]
     },
     "execution_count": 188,
     "metadata": {},
     "output_type": "execute_result"
    }
   ],
   "source": [
    "cat_but_car"
   ]
  },
  {
   "cell_type": "code",
   "execution_count": 189,
   "metadata": {},
   "outputs": [
    {
     "data": {
      "text/plain": [
       "['AGE', 'FARE', 'NEW_NAME_COUNT', 'NEW_AGE_PCLASS']"
      ]
     },
     "execution_count": 189,
     "metadata": {},
     "output_type": "execute_result"
    }
   ],
   "source": [
    "# PASSENGERID ' yi istemiyorum.\n",
    "num_cols.remove(\"PASSENGERID\")\n",
    "num_cols"
   ]
  },
  {
   "cell_type": "code",
   "execution_count": 190,
   "metadata": {},
   "outputs": [],
   "source": [
    "#############################################################################\n",
    "# 2. Outliers (Aykırı Değerler)\n",
    "#############################################################################"
   ]
  },
  {
   "cell_type": "code",
   "execution_count": 191,
   "metadata": {},
   "outputs": [
    {
     "name": "stdout",
     "output_type": "stream",
     "text": [
      "AGE True\n",
      "FARE True\n",
      "NEW_NAME_COUNT True\n",
      "NEW_AGE_PCLASS True\n"
     ]
    }
   ],
   "source": [
    "for col in num_cols:\n",
    "    print(col, check_outlier(df, col))\n",
    "# Aykırı değerler var."
   ]
  },
  {
   "cell_type": "code",
   "execution_count": 192,
   "metadata": {},
   "outputs": [],
   "source": [
    "# Aykırı değerleri baskılayalım.\n",
    "for col in num_cols:\n",
    "    replace_with_thresholds(df,col)"
   ]
  },
  {
   "cell_type": "code",
   "execution_count": 193,
   "metadata": {},
   "outputs": [
    {
     "name": "stdout",
     "output_type": "stream",
     "text": [
      "AGE False\n",
      "FARE False\n",
      "NEW_NAME_COUNT False\n",
      "NEW_AGE_PCLASS False\n"
     ]
    }
   ],
   "source": [
    "for col in num_cols:\n",
    "    print(col, check_outlier(df, col))\n",
    "# Aykırı değerler artık yok."
   ]
  },
  {
   "cell_type": "code",
   "execution_count": 194,
   "metadata": {},
   "outputs": [],
   "source": [
    "#############################################################################\n",
    "# 3. Missing Values (Eksik Değerler)\n",
    "#############################################################################"
   ]
  },
  {
   "cell_type": "code",
   "execution_count": 195,
   "metadata": {},
   "outputs": [
    {
     "name": "stdout",
     "output_type": "stream",
     "text": [
      "                n_miss  ratio\n",
      "CABIN              687 77.100\n",
      "AGE                177 19.870\n",
      "NEW_AGE_PCLASS     177 19.870\n",
      "NEW_AGE_CAT        177 19.870\n",
      "EMBARKED             2  0.220\n"
     ]
    }
   ],
   "source": [
    "missing_values_table(df)"
   ]
  },
  {
   "cell_type": "code",
   "execution_count": 196,
   "metadata": {},
   "outputs": [],
   "source": [
    "# CABIN_BOOL değişkeni olduğu için CABIN değişkenini veri setinden kaldırıyoruz.\n",
    "df.drop([\"CABIN\"], axis=1, inplace=True)"
   ]
  },
  {
   "cell_type": "code",
   "execution_count": 197,
   "metadata": {},
   "outputs": [
    {
     "name": "stdout",
     "output_type": "stream",
     "text": [
      "                n_miss  ratio\n",
      "AGE                177 19.870\n",
      "NEW_AGE_PCLASS     177 19.870\n",
      "NEW_AGE_CAT        177 19.870\n",
      "EMBARKED             2  0.220\n"
     ]
    }
   ],
   "source": [
    "missing_values_table(df)"
   ]
  },
  {
   "cell_type": "code",
   "execution_count": 198,
   "metadata": {},
   "outputs": [],
   "source": [
    "# Aynı durum diğer değişkenler olan TICKET ve NAME değişkenleri için de geçerlidir.\n",
    "remove_cols = [\"TICKET\", \"NAME\"]\n",
    "df.drop(remove_cols, axis=1, inplace=True)"
   ]
  },
  {
   "cell_type": "code",
   "execution_count": 199,
   "metadata": {},
   "outputs": [
    {
     "name": "stdout",
     "output_type": "stream",
     "text": [
      "                n_miss  ratio\n",
      "AGE                177 19.870\n",
      "NEW_AGE_PCLASS     177 19.870\n",
      "NEW_AGE_CAT        177 19.870\n",
      "EMBARKED             2  0.220\n"
     ]
    }
   ],
   "source": [
    "missing_values_table(df)"
   ]
  },
  {
   "cell_type": "code",
   "execution_count": 200,
   "metadata": {},
   "outputs": [],
   "source": [
    "df[\"AGE\"] = df[\"AGE\"].fillna(df.groupby('SPECIAL_TITLE')['AGE'].transform('median'))"
   ]
  },
  {
   "cell_type": "code",
   "execution_count": 201,
   "metadata": {},
   "outputs": [
    {
     "name": "stdout",
     "output_type": "stream",
     "text": [
      "                n_miss  ratio\n",
      "NEW_AGE_PCLASS     177 19.870\n",
      "NEW_AGE_CAT        177 19.870\n",
      "EMBARKED             2  0.220\n"
     ]
    }
   ],
   "source": [
    "missing_values_table(df)"
   ]
  },
  {
   "cell_type": "code",
   "execution_count": 202,
   "metadata": {},
   "outputs": [],
   "source": [
    "# NEW_AGE_PCLASS ve NEW_AGE_CAT değişkenlerini tekrar oluşturmamız gerekir.\n",
    "df[\"NEW_AGE_PCLASS\"] = df[\"AGE\"] * df[\"PCLASS\"]\n",
    "\n",
    "# age level\n",
    "df.loc[(df[\"AGE\"]< 18), \"NEW_AGE_CAT\"] = 'young'\n",
    "df.loc[(df[\"AGE\"]>= 18 ) & (df[\"AGE\"]< 56), \"NEW_AGE_CAT\"] = 'mature'\n",
    "df.loc[(df[\"AGE\"]>= 56), \"NEW_AGE_CAT\"] = 'senior'\n",
    "\n",
    "# sex X age\n",
    "df.loc[(df[\"SEX\"] == \"male\") & (df[\"AGE\"] <= 21), \"NEW_SEX_CAT\"] = \"youngmale\"\n",
    "df.loc[(df[\"SEX\"] == \"male\") & ((df[\"AGE\"] >21) & (df[\"AGE\"]) <= 50), \"NEW_SEX_CAT\"] = \"maturemale\"\n",
    "df.loc[(df[\"SEX\"] == \"male\") & (df[\"AGE\"] > 50), \"NEW_SEX_CAT\"] = \"seniormale\"\n",
    "df.loc[(df[\"SEX\"] == \"female\") & (df[\"AGE\"] <= 21), \"NEW_SEX_CAT\"] = \"youngfemale\"\n",
    "df.loc[(df[\"SEX\"] == \"female\") & ((df[\"AGE\"] >21) & (df[\"AGE\"]) <= 50), \"NEW_SEX_CAT\"] = \"maturefemale\"\n",
    "df.loc[(df[\"SEX\"] == \"female\") & (df[\"AGE\"] > 50), \"NEW_SEX_CAT\"] = \"seniorfemale\""
   ]
  },
  {
   "cell_type": "code",
   "execution_count": 203,
   "metadata": {},
   "outputs": [
    {
     "name": "stdout",
     "output_type": "stream",
     "text": [
      "          n_miss  ratio\n",
      "EMBARKED       2  0.220\n"
     ]
    }
   ],
   "source": [
    "missing_values_table(df)"
   ]
  },
  {
   "cell_type": "code",
   "execution_count": 204,
   "metadata": {},
   "outputs": [],
   "source": [
    "# Geriye kalan kategorik değişkenleri moduna göre dolduruyoruz.\n",
    "df = df.apply(lambda x: x.fillna(x.mode()[0]) if (x.dtype == \"O\" and len(x.unique()) <= 10) else x, axis=0)"
   ]
  },
  {
   "cell_type": "code",
   "execution_count": 205,
   "metadata": {},
   "outputs": [
    {
     "name": "stdout",
     "output_type": "stream",
     "text": [
      "Empty DataFrame\n",
      "Columns: [n_miss, ratio]\n",
      "Index: []\n"
     ]
    }
   ],
   "source": [
    "missing_values_table(df)"
   ]
  },
  {
   "cell_type": "code",
   "execution_count": 206,
   "metadata": {},
   "outputs": [],
   "source": [
    "#############################################################################\n",
    "# 4. Label Encodding\n",
    "#############################################################################"
   ]
  },
  {
   "cell_type": "code",
   "execution_count": 207,
   "metadata": {},
   "outputs": [],
   "source": [
    "binary_cols = [col for col in df.columns if df[col].dtype not in [int,float]\n",
    "                and df[col].nunique() == 2]"
   ]
  },
  {
   "cell_type": "code",
   "execution_count": 208,
   "metadata": {},
   "outputs": [],
   "source": [
    "for col in binary_cols:\n",
    "    df = label_encoder(df, col)"
   ]
  },
  {
   "cell_type": "code",
   "execution_count": 209,
   "metadata": {},
   "outputs": [],
   "source": [
    "#############################################################################\n",
    "# 5. Rare Encoding\n",
    "#############################################################################"
   ]
  },
  {
   "cell_type": "code",
   "execution_count": 210,
   "metadata": {},
   "outputs": [
    {
     "name": "stdout",
     "output_type": "stream",
     "text": [
      "SEX : 2\n",
      "   COUNT  RATIO  TARGET_MEAN\n",
      "0    314  0.352        0.742\n",
      "1    577  0.648        0.189\n",
      "\n",
      "\n",
      "EMBARKED : 3\n",
      "   COUNT  RATIO  TARGET_MEAN\n",
      "C    168  0.189        0.554\n",
      "Q     77  0.086        0.390\n",
      "S    646  0.725        0.339\n",
      "\n",
      "\n",
      "SPECIAL_TITLE : 17\n",
      "          COUNT  RATIO  TARGET_MEAN\n",
      "Capt          1  0.001        0.000\n",
      "Col           2  0.002        0.500\n",
      "Countess      1  0.001        1.000\n",
      "Don           1  0.001        0.000\n",
      "Dr            7  0.008        0.429\n",
      "Jonkheer      1  0.001        0.000\n",
      "Lady          1  0.001        1.000\n",
      "Major         2  0.002        0.500\n",
      "Master       40  0.045        0.575\n",
      "Miss        182  0.204        0.698\n",
      "Mlle          2  0.002        1.000\n",
      "Mme           1  0.001        1.000\n",
      "Mr          517  0.580        0.157\n",
      "Mrs         125  0.140        0.792\n",
      "Ms            1  0.001        1.000\n",
      "Rev           6  0.007        0.000\n",
      "Sir           1  0.001        1.000\n",
      "\n",
      "\n",
      "NEW_IS_ALONE : 2\n",
      "   COUNT  RATIO  TARGET_MEAN\n",
      "0    354  0.397        0.506\n",
      "1    537  0.603        0.304\n",
      "\n",
      "\n",
      "NEW_AGE_CAT : 3\n",
      "        COUNT  RATIO  TARGET_MEAN\n",
      "mature    735  0.825        0.363\n",
      "senior     39  0.044        0.308\n",
      "young     117  0.131        0.538\n",
      "\n",
      "\n",
      "NEW_SEX_CAT : 4\n",
      "              COUNT  RATIO  TARGET_MEAN\n",
      "maturefemale    297  0.333        0.731\n",
      "maturemale      530  0.595        0.194\n",
      "seniorfemale     17  0.019        0.941\n",
      "seniormale       47  0.053        0.128\n",
      "\n",
      "\n",
      "SURVIVED : 2\n",
      "   COUNT  RATIO  TARGET_MEAN\n",
      "0    549  0.616        0.000\n",
      "1    342  0.384        1.000\n",
      "\n",
      "\n",
      "PCLASS : 3\n",
      "   COUNT  RATIO  TARGET_MEAN\n",
      "1    216  0.242        0.630\n",
      "2    184  0.207        0.473\n",
      "3    491  0.551        0.242\n",
      "\n",
      "\n",
      "SIBSP : 7\n",
      "   COUNT  RATIO  TARGET_MEAN\n",
      "0    608  0.682        0.345\n",
      "1    209  0.235        0.536\n",
      "2     28  0.031        0.464\n",
      "3     16  0.018        0.250\n",
      "4     18  0.020        0.167\n",
      "5      5  0.006        0.000\n",
      "8      7  0.008        0.000\n",
      "\n",
      "\n",
      "PARCH : 7\n",
      "   COUNT  RATIO  TARGET_MEAN\n",
      "0    678  0.761        0.344\n",
      "1    118  0.132        0.551\n",
      "2     80  0.090        0.500\n",
      "3      5  0.006        0.600\n",
      "4      4  0.004        0.000\n",
      "5      5  0.006        0.200\n",
      "6      1  0.001        0.000\n",
      "\n",
      "\n",
      "NEW_CABIN_BOOL : 2\n",
      "   COUNT  RATIO  TARGET_MEAN\n",
      "0    687  0.771        0.300\n",
      "1    204  0.229        0.667\n",
      "\n",
      "\n",
      "NEW_NAME_WORD_COUNT : 8\n",
      "    COUNT  RATIO  TARGET_MEAN\n",
      "3     305  0.342        0.292\n",
      "4     388  0.435        0.340\n",
      "5      96  0.108        0.427\n",
      "6      53  0.059        0.774\n",
      "7      38  0.043        0.842\n",
      "8       9  0.010        0.556\n",
      "9       1  0.001        1.000\n",
      "14      1  0.001        1.000\n",
      "\n",
      "\n",
      "NEW_NAME_DR : 2\n",
      "   COUNT  RATIO  TARGET_MEAN\n",
      "0    881  0.989        0.383\n",
      "1     10  0.011        0.500\n",
      "\n",
      "\n",
      "NEW_FAMILY_SIZE : 9\n",
      "    COUNT  RATIO  TARGET_MEAN\n",
      "1     537  0.603        0.304\n",
      "2     161  0.181        0.553\n",
      "3     102  0.114        0.578\n",
      "4      29  0.033        0.724\n",
      "5      15  0.017        0.200\n",
      "6      22  0.025        0.136\n",
      "7      12  0.013        0.333\n",
      "8       6  0.007        0.000\n",
      "11      7  0.008        0.000\n",
      "\n",
      "\n"
     ]
    }
   ],
   "source": [
    "rare_analyser(df,\"SURVIVED\",cat_cols)"
   ]
  },
  {
   "cell_type": "code",
   "execution_count": 211,
   "metadata": {},
   "outputs": [],
   "source": [
    "df = rare_encoder(df,0.01)"
   ]
  },
  {
   "cell_type": "code",
   "execution_count": 212,
   "metadata": {},
   "outputs": [
    {
     "data": {
      "text/plain": [
       "Mr        517\n",
       "Miss      182\n",
       "Mrs       125\n",
       "Master     40\n",
       "Rare       27\n",
       "Name: SPECIAL_TITLE, dtype: int64"
      ]
     },
     "execution_count": 212,
     "metadata": {},
     "output_type": "execute_result"
    }
   ],
   "source": [
    "df[\"SPECIAL_TITLE\"].value_counts()"
   ]
  },
  {
   "cell_type": "code",
   "execution_count": 213,
   "metadata": {},
   "outputs": [],
   "source": [
    "#############################################################################\n",
    "# 6. One Hot Encoding\n",
    "#############################################################################"
   ]
  },
  {
   "cell_type": "code",
   "execution_count": 214,
   "metadata": {},
   "outputs": [],
   "source": [
    "ohe_cols = [col for col in df.columns if 10 >= df[col].nunique() > 2]"
   ]
  },
  {
   "cell_type": "code",
   "execution_count": 215,
   "metadata": {},
   "outputs": [],
   "source": [
    "df = one_hot_encoder(df, ohe_cols)"
   ]
  },
  {
   "cell_type": "code",
   "execution_count": 216,
   "metadata": {},
   "outputs": [
    {
     "data": {
      "text/html": [
       "<div>\n",
       "<style scoped>\n",
       "    .dataframe tbody tr th:only-of-type {\n",
       "        vertical-align: middle;\n",
       "    }\n",
       "\n",
       "    .dataframe tbody tr th {\n",
       "        vertical-align: top;\n",
       "    }\n",
       "\n",
       "    .dataframe thead th {\n",
       "        text-align: right;\n",
       "    }\n",
       "</style>\n",
       "<table border=\"1\" class=\"dataframe\">\n",
       "  <thead>\n",
       "    <tr style=\"text-align: right;\">\n",
       "      <th></th>\n",
       "      <th>PASSENGERID</th>\n",
       "      <th>SURVIVED</th>\n",
       "      <th>SEX</th>\n",
       "      <th>AGE</th>\n",
       "      <th>FARE</th>\n",
       "      <th>NEW_CABIN_BOOL</th>\n",
       "      <th>NEW_NAME_COUNT</th>\n",
       "      <th>NEW_NAME_DR</th>\n",
       "      <th>NEW_AGE_PCLASS</th>\n",
       "      <th>NEW_IS_ALONE</th>\n",
       "      <th>PCLASS_2</th>\n",
       "      <th>PCLASS_3</th>\n",
       "      <th>SIBSP_1</th>\n",
       "      <th>SIBSP_2</th>\n",
       "      <th>SIBSP_3</th>\n",
       "      <th>SIBSP_4</th>\n",
       "      <th>SIBSP_5</th>\n",
       "      <th>SIBSP_8</th>\n",
       "      <th>PARCH_1</th>\n",
       "      <th>PARCH_2</th>\n",
       "      <th>PARCH_3</th>\n",
       "      <th>PARCH_4</th>\n",
       "      <th>PARCH_5</th>\n",
       "      <th>PARCH_6</th>\n",
       "      <th>EMBARKED_Q</th>\n",
       "      <th>EMBARKED_S</th>\n",
       "      <th>NEW_NAME_WORD_COUNT_4</th>\n",
       "      <th>NEW_NAME_WORD_COUNT_5</th>\n",
       "      <th>NEW_NAME_WORD_COUNT_6</th>\n",
       "      <th>NEW_NAME_WORD_COUNT_7</th>\n",
       "      <th>NEW_NAME_WORD_COUNT_8</th>\n",
       "      <th>NEW_NAME_WORD_COUNT_9</th>\n",
       "      <th>NEW_NAME_WORD_COUNT_14</th>\n",
       "      <th>SPECIAL_TITLE_Miss</th>\n",
       "      <th>SPECIAL_TITLE_Mr</th>\n",
       "      <th>SPECIAL_TITLE_Mrs</th>\n",
       "      <th>SPECIAL_TITLE_Rare</th>\n",
       "      <th>NEW_FAMILY_SIZE_2</th>\n",
       "      <th>NEW_FAMILY_SIZE_3</th>\n",
       "      <th>NEW_FAMILY_SIZE_4</th>\n",
       "      <th>NEW_FAMILY_SIZE_5</th>\n",
       "      <th>NEW_FAMILY_SIZE_6</th>\n",
       "      <th>NEW_FAMILY_SIZE_7</th>\n",
       "      <th>NEW_FAMILY_SIZE_8</th>\n",
       "      <th>NEW_FAMILY_SIZE_11</th>\n",
       "      <th>NEW_AGE_CAT_senior</th>\n",
       "      <th>NEW_AGE_CAT_young</th>\n",
       "      <th>NEW_SEX_CAT_maturemale</th>\n",
       "      <th>NEW_SEX_CAT_seniorfemale</th>\n",
       "      <th>NEW_SEX_CAT_seniormale</th>\n",
       "    </tr>\n",
       "  </thead>\n",
       "  <tbody>\n",
       "    <tr>\n",
       "      <th>0</th>\n",
       "      <td>1</td>\n",
       "      <td>0</td>\n",
       "      <td>1</td>\n",
       "      <td>22.000</td>\n",
       "      <td>7.250</td>\n",
       "      <td>0</td>\n",
       "      <td>23</td>\n",
       "      <td>0</td>\n",
       "      <td>66.000</td>\n",
       "      <td>0</td>\n",
       "      <td>0</td>\n",
       "      <td>1</td>\n",
       "      <td>1</td>\n",
       "      <td>0</td>\n",
       "      <td>0</td>\n",
       "      <td>0</td>\n",
       "      <td>0</td>\n",
       "      <td>0</td>\n",
       "      <td>0</td>\n",
       "      <td>0</td>\n",
       "      <td>0</td>\n",
       "      <td>0</td>\n",
       "      <td>0</td>\n",
       "      <td>0</td>\n",
       "      <td>0</td>\n",
       "      <td>1</td>\n",
       "      <td>1</td>\n",
       "      <td>0</td>\n",
       "      <td>0</td>\n",
       "      <td>0</td>\n",
       "      <td>0</td>\n",
       "      <td>0</td>\n",
       "      <td>0</td>\n",
       "      <td>0</td>\n",
       "      <td>1</td>\n",
       "      <td>0</td>\n",
       "      <td>0</td>\n",
       "      <td>1</td>\n",
       "      <td>0</td>\n",
       "      <td>0</td>\n",
       "      <td>0</td>\n",
       "      <td>0</td>\n",
       "      <td>0</td>\n",
       "      <td>0</td>\n",
       "      <td>0</td>\n",
       "      <td>0</td>\n",
       "      <td>0</td>\n",
       "      <td>1</td>\n",
       "      <td>0</td>\n",
       "      <td>0</td>\n",
       "    </tr>\n",
       "    <tr>\n",
       "      <th>1</th>\n",
       "      <td>2</td>\n",
       "      <td>1</td>\n",
       "      <td>0</td>\n",
       "      <td>38.000</td>\n",
       "      <td>65.634</td>\n",
       "      <td>1</td>\n",
       "      <td>45</td>\n",
       "      <td>0</td>\n",
       "      <td>38.000</td>\n",
       "      <td>0</td>\n",
       "      <td>0</td>\n",
       "      <td>0</td>\n",
       "      <td>1</td>\n",
       "      <td>0</td>\n",
       "      <td>0</td>\n",
       "      <td>0</td>\n",
       "      <td>0</td>\n",
       "      <td>0</td>\n",
       "      <td>0</td>\n",
       "      <td>0</td>\n",
       "      <td>0</td>\n",
       "      <td>0</td>\n",
       "      <td>0</td>\n",
       "      <td>0</td>\n",
       "      <td>0</td>\n",
       "      <td>0</td>\n",
       "      <td>0</td>\n",
       "      <td>0</td>\n",
       "      <td>0</td>\n",
       "      <td>1</td>\n",
       "      <td>0</td>\n",
       "      <td>0</td>\n",
       "      <td>0</td>\n",
       "      <td>0</td>\n",
       "      <td>0</td>\n",
       "      <td>1</td>\n",
       "      <td>0</td>\n",
       "      <td>1</td>\n",
       "      <td>0</td>\n",
       "      <td>0</td>\n",
       "      <td>0</td>\n",
       "      <td>0</td>\n",
       "      <td>0</td>\n",
       "      <td>0</td>\n",
       "      <td>0</td>\n",
       "      <td>0</td>\n",
       "      <td>0</td>\n",
       "      <td>0</td>\n",
       "      <td>0</td>\n",
       "      <td>0</td>\n",
       "    </tr>\n",
       "    <tr>\n",
       "      <th>2</th>\n",
       "      <td>3</td>\n",
       "      <td>1</td>\n",
       "      <td>0</td>\n",
       "      <td>26.000</td>\n",
       "      <td>7.925</td>\n",
       "      <td>0</td>\n",
       "      <td>22</td>\n",
       "      <td>0</td>\n",
       "      <td>78.000</td>\n",
       "      <td>1</td>\n",
       "      <td>0</td>\n",
       "      <td>1</td>\n",
       "      <td>0</td>\n",
       "      <td>0</td>\n",
       "      <td>0</td>\n",
       "      <td>0</td>\n",
       "      <td>0</td>\n",
       "      <td>0</td>\n",
       "      <td>0</td>\n",
       "      <td>0</td>\n",
       "      <td>0</td>\n",
       "      <td>0</td>\n",
       "      <td>0</td>\n",
       "      <td>0</td>\n",
       "      <td>0</td>\n",
       "      <td>1</td>\n",
       "      <td>0</td>\n",
       "      <td>0</td>\n",
       "      <td>0</td>\n",
       "      <td>0</td>\n",
       "      <td>0</td>\n",
       "      <td>0</td>\n",
       "      <td>0</td>\n",
       "      <td>1</td>\n",
       "      <td>0</td>\n",
       "      <td>0</td>\n",
       "      <td>0</td>\n",
       "      <td>0</td>\n",
       "      <td>0</td>\n",
       "      <td>0</td>\n",
       "      <td>0</td>\n",
       "      <td>0</td>\n",
       "      <td>0</td>\n",
       "      <td>0</td>\n",
       "      <td>0</td>\n",
       "      <td>0</td>\n",
       "      <td>0</td>\n",
       "      <td>0</td>\n",
       "      <td>0</td>\n",
       "      <td>0</td>\n",
       "    </tr>\n",
       "    <tr>\n",
       "      <th>3</th>\n",
       "      <td>4</td>\n",
       "      <td>1</td>\n",
       "      <td>0</td>\n",
       "      <td>35.000</td>\n",
       "      <td>53.100</td>\n",
       "      <td>1</td>\n",
       "      <td>44</td>\n",
       "      <td>0</td>\n",
       "      <td>35.000</td>\n",
       "      <td>0</td>\n",
       "      <td>0</td>\n",
       "      <td>0</td>\n",
       "      <td>1</td>\n",
       "      <td>0</td>\n",
       "      <td>0</td>\n",
       "      <td>0</td>\n",
       "      <td>0</td>\n",
       "      <td>0</td>\n",
       "      <td>0</td>\n",
       "      <td>0</td>\n",
       "      <td>0</td>\n",
       "      <td>0</td>\n",
       "      <td>0</td>\n",
       "      <td>0</td>\n",
       "      <td>0</td>\n",
       "      <td>1</td>\n",
       "      <td>0</td>\n",
       "      <td>0</td>\n",
       "      <td>0</td>\n",
       "      <td>1</td>\n",
       "      <td>0</td>\n",
       "      <td>0</td>\n",
       "      <td>0</td>\n",
       "      <td>0</td>\n",
       "      <td>0</td>\n",
       "      <td>1</td>\n",
       "      <td>0</td>\n",
       "      <td>1</td>\n",
       "      <td>0</td>\n",
       "      <td>0</td>\n",
       "      <td>0</td>\n",
       "      <td>0</td>\n",
       "      <td>0</td>\n",
       "      <td>0</td>\n",
       "      <td>0</td>\n",
       "      <td>0</td>\n",
       "      <td>0</td>\n",
       "      <td>0</td>\n",
       "      <td>0</td>\n",
       "      <td>0</td>\n",
       "    </tr>\n",
       "    <tr>\n",
       "      <th>4</th>\n",
       "      <td>5</td>\n",
       "      <td>0</td>\n",
       "      <td>1</td>\n",
       "      <td>35.000</td>\n",
       "      <td>8.050</td>\n",
       "      <td>0</td>\n",
       "      <td>24</td>\n",
       "      <td>0</td>\n",
       "      <td>105.000</td>\n",
       "      <td>1</td>\n",
       "      <td>0</td>\n",
       "      <td>1</td>\n",
       "      <td>0</td>\n",
       "      <td>0</td>\n",
       "      <td>0</td>\n",
       "      <td>0</td>\n",
       "      <td>0</td>\n",
       "      <td>0</td>\n",
       "      <td>0</td>\n",
       "      <td>0</td>\n",
       "      <td>0</td>\n",
       "      <td>0</td>\n",
       "      <td>0</td>\n",
       "      <td>0</td>\n",
       "      <td>0</td>\n",
       "      <td>1</td>\n",
       "      <td>1</td>\n",
       "      <td>0</td>\n",
       "      <td>0</td>\n",
       "      <td>0</td>\n",
       "      <td>0</td>\n",
       "      <td>0</td>\n",
       "      <td>0</td>\n",
       "      <td>0</td>\n",
       "      <td>1</td>\n",
       "      <td>0</td>\n",
       "      <td>0</td>\n",
       "      <td>0</td>\n",
       "      <td>0</td>\n",
       "      <td>0</td>\n",
       "      <td>0</td>\n",
       "      <td>0</td>\n",
       "      <td>0</td>\n",
       "      <td>0</td>\n",
       "      <td>0</td>\n",
       "      <td>0</td>\n",
       "      <td>0</td>\n",
       "      <td>1</td>\n",
       "      <td>0</td>\n",
       "      <td>0</td>\n",
       "    </tr>\n",
       "  </tbody>\n",
       "</table>\n",
       "</div>"
      ],
      "text/plain": [
       "   PASSENGERID  SURVIVED  SEX    AGE   FARE  NEW_CABIN_BOOL  NEW_NAME_COUNT  NEW_NAME_DR  NEW_AGE_PCLASS  NEW_IS_ALONE  PCLASS_2  PCLASS_3  SIBSP_1  SIBSP_2  SIBSP_3  SIBSP_4  SIBSP_5  SIBSP_8  PARCH_1  PARCH_2  PARCH_3  PARCH_4  PARCH_5  PARCH_6  EMBARKED_Q  EMBARKED_S  NEW_NAME_WORD_COUNT_4  NEW_NAME_WORD_COUNT_5  NEW_NAME_WORD_COUNT_6  NEW_NAME_WORD_COUNT_7  NEW_NAME_WORD_COUNT_8  NEW_NAME_WORD_COUNT_9  NEW_NAME_WORD_COUNT_14  SPECIAL_TITLE_Miss  SPECIAL_TITLE_Mr  SPECIAL_TITLE_Mrs  \\\n",
       "0            1         0    1 22.000  7.250               0              23            0          66.000             0         0         1        1        0        0        0        0        0        0        0        0        0        0        0           0           1                      1                      0                      0                      0                      0                      0                       0                   0                 1                  0   \n",
       "1            2         1    0 38.000 65.634               1              45            0          38.000             0         0         0        1        0        0        0        0        0        0        0        0        0        0        0           0           0                      0                      0                      0                      1                      0                      0                       0                   0                 0                  1   \n",
       "2            3         1    0 26.000  7.925               0              22            0          78.000             1         0         1        0        0        0        0        0        0        0        0        0        0        0        0           0           1                      0                      0                      0                      0                      0                      0                       0                   1                 0                  0   \n",
       "3            4         1    0 35.000 53.100               1              44            0          35.000             0         0         0        1        0        0        0        0        0        0        0        0        0        0        0           0           1                      0                      0                      0                      1                      0                      0                       0                   0                 0                  1   \n",
       "4            5         0    1 35.000  8.050               0              24            0         105.000             1         0         1        0        0        0        0        0        0        0        0        0        0        0        0           0           1                      1                      0                      0                      0                      0                      0                       0                   0                 1                  0   \n",
       "\n",
       "   SPECIAL_TITLE_Rare  NEW_FAMILY_SIZE_2  NEW_FAMILY_SIZE_3  NEW_FAMILY_SIZE_4  NEW_FAMILY_SIZE_5  NEW_FAMILY_SIZE_6  NEW_FAMILY_SIZE_7  NEW_FAMILY_SIZE_8  NEW_FAMILY_SIZE_11  NEW_AGE_CAT_senior  NEW_AGE_CAT_young  NEW_SEX_CAT_maturemale  NEW_SEX_CAT_seniorfemale  NEW_SEX_CAT_seniormale  \n",
       "0                   0                  1                  0                  0                  0                  0                  0                  0                   0                   0                  0                       1                         0                       0  \n",
       "1                   0                  1                  0                  0                  0                  0                  0                  0                   0                   0                  0                       0                         0                       0  \n",
       "2                   0                  0                  0                  0                  0                  0                  0                  0                   0                   0                  0                       0                         0                       0  \n",
       "3                   0                  1                  0                  0                  0                  0                  0                  0                   0                   0                  0                       0                         0                       0  \n",
       "4                   0                  0                  0                  0                  0                  0                  0                  0                   0                   0                  0                       1                         0                       0  "
      ]
     },
     "execution_count": 216,
     "metadata": {},
     "output_type": "execute_result"
    }
   ],
   "source": [
    "df.head()"
   ]
  },
  {
   "cell_type": "code",
   "execution_count": 217,
   "metadata": {},
   "outputs": [
    {
     "data": {
      "text/plain": [
       "(891, 50)"
      ]
     },
     "execution_count": 217,
     "metadata": {},
     "output_type": "execute_result"
    }
   ],
   "source": [
    "df.shape"
   ]
  },
  {
   "cell_type": "code",
   "execution_count": 218,
   "metadata": {},
   "outputs": [
    {
     "name": "stdout",
     "output_type": "stream",
     "text": [
      "Observations: 891\n",
      "Variables: 50\n",
      "cat_cols: 45\n",
      "num_cols: 5\n",
      "cat_but_car: 0\n",
      "******************\n",
      "num_but_cat: 45\n"
     ]
    }
   ],
   "source": [
    "# Rare ifadeleri tekrardan kontrol etmemiz gerekir.\n",
    "# Önce kategorik sayısal olanları belirleyeilim.\n",
    "\n",
    "cat_cols, num_cols, cat_but_car = grab_col_names(df)"
   ]
  },
  {
   "cell_type": "code",
   "execution_count": 219,
   "metadata": {},
   "outputs": [],
   "source": [
    "num_cols.remove(\"PASSENGERID\")"
   ]
  },
  {
   "cell_type": "code",
   "execution_count": 220,
   "metadata": {},
   "outputs": [
    {
     "name": "stdout",
     "output_type": "stream",
     "text": [
      "SURVIVED : 2\n",
      "   COUNT  RATIO  TARGET_MEAN\n",
      "0    549  0.616        0.000\n",
      "1    342  0.384        1.000\n",
      "\n",
      "\n",
      "SEX : 2\n",
      "   COUNT  RATIO  TARGET_MEAN\n",
      "0    314  0.352        0.742\n",
      "1    577  0.648        0.189\n",
      "\n",
      "\n",
      "NEW_CABIN_BOOL : 2\n",
      "   COUNT  RATIO  TARGET_MEAN\n",
      "0    687  0.771        0.300\n",
      "1    204  0.229        0.667\n",
      "\n",
      "\n",
      "NEW_NAME_DR : 2\n",
      "   COUNT  RATIO  TARGET_MEAN\n",
      "0    881  0.989        0.383\n",
      "1     10  0.011        0.500\n",
      "\n",
      "\n",
      "NEW_IS_ALONE : 2\n",
      "   COUNT  RATIO  TARGET_MEAN\n",
      "0    354  0.397        0.506\n",
      "1    537  0.603        0.304\n",
      "\n",
      "\n",
      "PCLASS_2 : 2\n",
      "   COUNT  RATIO  TARGET_MEAN\n",
      "0    707  0.793        0.361\n",
      "1    184  0.207        0.473\n",
      "\n",
      "\n",
      "PCLASS_3 : 2\n",
      "   COUNT  RATIO  TARGET_MEAN\n",
      "0    400  0.449        0.557\n",
      "1    491  0.551        0.242\n",
      "\n",
      "\n",
      "SIBSP_1 : 2\n",
      "   COUNT  RATIO  TARGET_MEAN\n",
      "0    682  0.765        0.337\n",
      "1    209  0.235        0.536\n",
      "\n",
      "\n",
      "SIBSP_2 : 2\n",
      "   COUNT  RATIO  TARGET_MEAN\n",
      "0    863  0.969        0.381\n",
      "1     28  0.031        0.464\n",
      "\n",
      "\n",
      "SIBSP_3 : 2\n",
      "   COUNT  RATIO  TARGET_MEAN\n",
      "0    875  0.982        0.386\n",
      "1     16  0.018        0.250\n",
      "\n",
      "\n",
      "SIBSP_4 : 2\n",
      "   COUNT  RATIO  TARGET_MEAN\n",
      "0    873  0.980        0.388\n",
      "1     18  0.020        0.167\n",
      "\n",
      "\n",
      "SIBSP_5 : 2\n",
      "   COUNT  RATIO  TARGET_MEAN\n",
      "0    886  0.994        0.386\n",
      "1      5  0.006        0.000\n",
      "\n",
      "\n",
      "SIBSP_8 : 2\n",
      "   COUNT  RATIO  TARGET_MEAN\n",
      "0    884  0.992        0.387\n",
      "1      7  0.008        0.000\n",
      "\n",
      "\n",
      "PARCH_1 : 2\n",
      "   COUNT  RATIO  TARGET_MEAN\n",
      "0    773  0.868        0.358\n",
      "1    118  0.132        0.551\n",
      "\n",
      "\n",
      "PARCH_2 : 2\n",
      "   COUNT  RATIO  TARGET_MEAN\n",
      "0    811  0.910        0.372\n",
      "1     80  0.090        0.500\n",
      "\n",
      "\n",
      "PARCH_3 : 2\n",
      "   COUNT  RATIO  TARGET_MEAN\n",
      "0    886  0.994        0.383\n",
      "1      5  0.006        0.600\n",
      "\n",
      "\n",
      "PARCH_4 : 2\n",
      "   COUNT  RATIO  TARGET_MEAN\n",
      "0    887  0.996        0.386\n",
      "1      4  0.004        0.000\n",
      "\n",
      "\n",
      "PARCH_5 : 2\n",
      "   COUNT  RATIO  TARGET_MEAN\n",
      "0    886  0.994        0.385\n",
      "1      5  0.006        0.200\n",
      "\n",
      "\n",
      "PARCH_6 : 2\n",
      "   COUNT  RATIO  TARGET_MEAN\n",
      "0    890  0.999        0.384\n",
      "1      1  0.001        0.000\n",
      "\n",
      "\n",
      "EMBARKED_Q : 2\n",
      "   COUNT  RATIO  TARGET_MEAN\n",
      "0    814  0.914        0.383\n",
      "1     77  0.086        0.390\n",
      "\n",
      "\n",
      "EMBARKED_S : 2\n",
      "   COUNT  RATIO  TARGET_MEAN\n",
      "0    245  0.275        0.502\n",
      "1    646  0.725        0.339\n",
      "\n",
      "\n",
      "NEW_NAME_WORD_COUNT_4 : 2\n",
      "   COUNT  RATIO  TARGET_MEAN\n",
      "0    503  0.565        0.417\n",
      "1    388  0.435        0.340\n",
      "\n",
      "\n",
      "NEW_NAME_WORD_COUNT_5 : 2\n",
      "   COUNT  RATIO  TARGET_MEAN\n",
      "0    795  0.892        0.379\n",
      "1     96  0.108        0.427\n",
      "\n",
      "\n",
      "NEW_NAME_WORD_COUNT_6 : 2\n",
      "   COUNT  RATIO  TARGET_MEAN\n",
      "0    838  0.941        0.359\n",
      "1     53  0.059        0.774\n",
      "\n",
      "\n",
      "NEW_NAME_WORD_COUNT_7 : 2\n",
      "   COUNT  RATIO  TARGET_MEAN\n",
      "0    853  0.957        0.363\n",
      "1     38  0.043        0.842\n",
      "\n",
      "\n",
      "NEW_NAME_WORD_COUNT_8 : 2\n",
      "   COUNT  RATIO  TARGET_MEAN\n",
      "0    882  0.990        0.382\n",
      "1      9  0.010        0.556\n",
      "\n",
      "\n",
      "NEW_NAME_WORD_COUNT_9 : 2\n",
      "   COUNT  RATIO  TARGET_MEAN\n",
      "0    890  0.999        0.383\n",
      "1      1  0.001        1.000\n",
      "\n",
      "\n",
      "NEW_NAME_WORD_COUNT_14 : 2\n",
      "   COUNT  RATIO  TARGET_MEAN\n",
      "0    890  0.999        0.383\n",
      "1      1  0.001        1.000\n",
      "\n",
      "\n",
      "SPECIAL_TITLE_Miss : 2\n",
      "   COUNT  RATIO  TARGET_MEAN\n",
      "0    709  0.796        0.303\n",
      "1    182  0.204        0.698\n",
      "\n",
      "\n",
      "SPECIAL_TITLE_Mr : 2\n",
      "   COUNT  RATIO  TARGET_MEAN\n",
      "0    374  0.420        0.698\n",
      "1    517  0.580        0.157\n",
      "\n",
      "\n",
      "SPECIAL_TITLE_Mrs : 2\n",
      "   COUNT  RATIO  TARGET_MEAN\n",
      "0    766  0.860        0.317\n",
      "1    125  0.140        0.792\n",
      "\n",
      "\n",
      "SPECIAL_TITLE_Rare : 2\n",
      "   COUNT  RATIO  TARGET_MEAN\n",
      "0    864  0.970        0.382\n",
      "1     27  0.030        0.444\n",
      "\n",
      "\n",
      "NEW_FAMILY_SIZE_2 : 2\n",
      "   COUNT  RATIO  TARGET_MEAN\n",
      "0    730  0.819        0.347\n",
      "1    161  0.181        0.553\n",
      "\n",
      "\n",
      "NEW_FAMILY_SIZE_3 : 2\n",
      "   COUNT  RATIO  TARGET_MEAN\n",
      "0    789  0.886        0.359\n",
      "1    102  0.114        0.578\n",
      "\n",
      "\n",
      "NEW_FAMILY_SIZE_4 : 2\n",
      "   COUNT  RATIO  TARGET_MEAN\n",
      "0    862  0.967        0.372\n",
      "1     29  0.033        0.724\n",
      "\n",
      "\n",
      "NEW_FAMILY_SIZE_5 : 2\n",
      "   COUNT  RATIO  TARGET_MEAN\n",
      "0    876  0.983        0.387\n",
      "1     15  0.017        0.200\n",
      "\n",
      "\n",
      "NEW_FAMILY_SIZE_6 : 2\n",
      "   COUNT  RATIO  TARGET_MEAN\n",
      "0    869  0.975        0.390\n",
      "1     22  0.025        0.136\n",
      "\n",
      "\n",
      "NEW_FAMILY_SIZE_7 : 2\n",
      "   COUNT  RATIO  TARGET_MEAN\n",
      "0    879  0.987        0.385\n",
      "1     12  0.013        0.333\n",
      "\n",
      "\n",
      "NEW_FAMILY_SIZE_8 : 2\n",
      "   COUNT  RATIO  TARGET_MEAN\n",
      "0    885  0.993        0.386\n",
      "1      6  0.007        0.000\n",
      "\n",
      "\n",
      "NEW_FAMILY_SIZE_11 : 2\n",
      "   COUNT  RATIO  TARGET_MEAN\n",
      "0    884  0.992        0.387\n",
      "1      7  0.008        0.000\n",
      "\n",
      "\n",
      "NEW_AGE_CAT_senior : 2\n",
      "   COUNT  RATIO  TARGET_MEAN\n",
      "0    852  0.956        0.387\n",
      "1     39  0.044        0.308\n",
      "\n",
      "\n",
      "NEW_AGE_CAT_young : 2\n",
      "   COUNT  RATIO  TARGET_MEAN\n",
      "0    774  0.869        0.360\n",
      "1    117  0.131        0.538\n",
      "\n",
      "\n",
      "NEW_SEX_CAT_maturemale : 2\n",
      "   COUNT  RATIO  TARGET_MEAN\n",
      "0    361  0.405        0.662\n",
      "1    530  0.595        0.194\n",
      "\n",
      "\n",
      "NEW_SEX_CAT_seniorfemale : 2\n",
      "   COUNT  RATIO  TARGET_MEAN\n",
      "0    874  0.981        0.373\n",
      "1     17  0.019        0.941\n",
      "\n",
      "\n",
      "NEW_SEX_CAT_seniormale : 2\n",
      "   COUNT  RATIO  TARGET_MEAN\n",
      "0    844  0.947        0.398\n",
      "1     47  0.053        0.128\n",
      "\n",
      "\n"
     ]
    }
   ],
   "source": [
    "rare_analyser(df,\"SURVIVED\",cat_cols)\n",
    "# Yeni problem: Oluşturulan yeni değişkenler bilgi taşıyor mu? (Oranları dengeli mi?)\n",
    "# DEĞİL"
   ]
  },
  {
   "cell_type": "code",
   "execution_count": 221,
   "metadata": {},
   "outputs": [],
   "source": [
    "useless_cols = [col for col in df.columns if df[col].nunique() == 2 and (df[col].value_counts() / len(df) < 0.01).any(axis=None)]"
   ]
  },
  {
   "cell_type": "code",
   "execution_count": 222,
   "metadata": {},
   "outputs": [
    {
     "data": {
      "text/plain": [
       "['SIBSP_5',\n",
       " 'SIBSP_8',\n",
       " 'PARCH_3',\n",
       " 'PARCH_4',\n",
       " 'PARCH_5',\n",
       " 'PARCH_6',\n",
       " 'NEW_NAME_WORD_COUNT_9',\n",
       " 'NEW_NAME_WORD_COUNT_14',\n",
       " 'NEW_FAMILY_SIZE_8',\n",
       " 'NEW_FAMILY_SIZE_11']"
      ]
     },
     "execution_count": 222,
     "metadata": {},
     "output_type": "execute_result"
    }
   ],
   "source": [
    "useless_cols"
   ]
  },
  {
   "cell_type": "code",
   "execution_count": 223,
   "metadata": {},
   "outputs": [],
   "source": [
    "# Silmek için:\n",
    "# df.drop(useless_cols, axis=1, inplace=True)"
   ]
  },
  {
   "cell_type": "code",
   "execution_count": 224,
   "metadata": {},
   "outputs": [
    {
     "data": {
      "text/html": [
       "<div>\n",
       "<style scoped>\n",
       "    .dataframe tbody tr th:only-of-type {\n",
       "        vertical-align: middle;\n",
       "    }\n",
       "\n",
       "    .dataframe tbody tr th {\n",
       "        vertical-align: top;\n",
       "    }\n",
       "\n",
       "    .dataframe thead th {\n",
       "        text-align: right;\n",
       "    }\n",
       "</style>\n",
       "<table border=\"1\" class=\"dataframe\">\n",
       "  <thead>\n",
       "    <tr style=\"text-align: right;\">\n",
       "      <th></th>\n",
       "      <th>AGE</th>\n",
       "      <th>FARE</th>\n",
       "      <th>NEW_NAME_COUNT</th>\n",
       "      <th>NEW_AGE_PCLASS</th>\n",
       "    </tr>\n",
       "  </thead>\n",
       "  <tbody>\n",
       "    <tr>\n",
       "      <th>0</th>\n",
       "      <td>-0.561</td>\n",
       "      <td>-0.821</td>\n",
       "      <td>-0.437</td>\n",
       "      <td>0.066</td>\n",
       "    </tr>\n",
       "    <tr>\n",
       "      <th>1</th>\n",
       "      <td>0.663</td>\n",
       "      <td>2.032</td>\n",
       "      <td>2.248</td>\n",
       "      <td>-0.790</td>\n",
       "    </tr>\n",
       "    <tr>\n",
       "      <th>2</th>\n",
       "      <td>-0.255</td>\n",
       "      <td>-0.788</td>\n",
       "      <td>-0.559</td>\n",
       "      <td>0.434</td>\n",
       "    </tr>\n",
       "    <tr>\n",
       "      <th>3</th>\n",
       "      <td>0.434</td>\n",
       "      <td>1.419</td>\n",
       "      <td>2.126</td>\n",
       "      <td>-0.882</td>\n",
       "    </tr>\n",
       "    <tr>\n",
       "      <th>4</th>\n",
       "      <td>0.434</td>\n",
       "      <td>-0.781</td>\n",
       "      <td>-0.315</td>\n",
       "      <td>1.260</td>\n",
       "    </tr>\n",
       "  </tbody>\n",
       "</table>\n",
       "</div>"
      ],
      "text/plain": [
       "     AGE   FARE  NEW_NAME_COUNT  NEW_AGE_PCLASS\n",
       "0 -0.561 -0.821          -0.437           0.066\n",
       "1  0.663  2.032           2.248          -0.790\n",
       "2 -0.255 -0.788          -0.559           0.434\n",
       "3  0.434  1.419           2.126          -0.882\n",
       "4  0.434 -0.781          -0.315           1.260"
      ]
     },
     "execution_count": 224,
     "metadata": {},
     "output_type": "execute_result"
    }
   ],
   "source": [
    "#############################################################################\n",
    "# 7. Standarlaştırma\n",
    "#############################################################################\n",
    "scaler = StandardScaler()\n",
    "df[num_cols] = scaler.fit_transform(df[num_cols])\n",
    "df[num_cols].head()"
   ]
  },
  {
   "cell_type": "code",
   "execution_count": 231,
   "metadata": {},
   "outputs": [],
   "source": [
    "#############################################################################\n",
    "# 8. Model\n",
    "#############################################################################\n",
    "\n",
    "y = df[\"SURVIVED\"]\n",
    "X = df.drop([\"PASSENGERID\",\"SURVIVED\"], axis=1)"
   ]
  },
  {
   "cell_type": "code",
   "execution_count": 232,
   "metadata": {},
   "outputs": [
    {
     "data": {
      "text/plain": [
       "0.8059701492537313"
      ]
     },
     "execution_count": 232,
     "metadata": {},
     "output_type": "execute_result"
    }
   ],
   "source": [
    "X_train,X_test,y_train,y_test = train_test_split(X,y,test_size=0.30,random_state=17)\n",
    "\n",
    "from sklearn.ensemble import RandomForestClassifier\n",
    "\n",
    "rf_model = RandomForestClassifier(random_state=46).fit(X_train,y_train)\n",
    "y_pred = rf_model.predict(X_test)\n",
    "accuracy_score(y_pred,y_test)"
   ]
  },
  {
   "cell_type": "code",
   "execution_count": 227,
   "metadata": {},
   "outputs": [
    {
     "data": {
      "text/plain": [
       "0.7090909090909091"
      ]
     },
     "execution_count": 227,
     "metadata": {},
     "output_type": "execute_result"
    }
   ],
   "source": [
    "# # Hiçbir işlem yapmasaydık ne olacaktı?\n",
    "# #############################################################################\n",
    "# dff = load()\n",
    "\n",
    "# # Eksik değerleri kaldıralım.\n",
    "# dff.dropna(inplace=True) # Eksik değer olursa RandomForest bu datasetinde çalışmmaz.\n",
    "\n",
    "# # SEX ve EMBARKED değişkenine encoding yapalım.\n",
    "# dff = pd.get_dummies(dff, columns=[\"Sex\",\"Embarked\"],drop_first=True)\n",
    "# y = dff[\"Survived\"]\n",
    "# X = dff.drop([\"PassengerId\",\"Survived\",\"Name\",\"Ticket\",\"Cabin\"],axis=1)\n",
    "# X_train, X_test , y_train, y_test = train_test_split(X,y,test_size=0.30,random_state=17)\n",
    "# rf_model2 = RandomForestClassifier(random_state=46).fit(X_train,y_train)\n",
    "# y_pred = rf_model2.predict(X_test)\n",
    "# accuracy_score(y_pred,y_test)"
   ]
  },
  {
   "cell_type": "code",
   "execution_count": 228,
   "metadata": {},
   "outputs": [],
   "source": [
    "# Yeni ürettiğimiz değişkenler ne alemde?\n",
    "\n",
    "def plot_importance(model,features,num=len(X),save=False):\n",
    "    feature_imp = pd.DataFrame({\"Value\":model.feature_importances_,\"Feature\":features.columns})\n",
    "    plt.figure(figsize=(10,10))\n",
    "    sns.set(font_scale=1)\n",
    "    sns.barplot(x=\"Value\",y=\"Feature\",data=feature_imp.sort_values(by=\"Value\",ascending=False)[0:num])\n",
    "    \n",
    "    plt.title(\"Features\")\n",
    "    plt.tight_layout()\n",
    "    plt.show()\n",
    "    if save:\n",
    "        plt.savefig(\"feature_importance.png\")"
   ]
  },
  {
   "cell_type": "code",
   "execution_count": 234,
   "metadata": {},
   "outputs": [
    {
     "data": {
      "image/png": "[encoded data removed]",
      "text/plain": [
       "<Figure size 720x720 with 1 Axes>"
      ]
     },
     "metadata": {},
     "output_type": "display_data"
    }
   ],
   "source": [
    "# Değişkenlerin anlamlılığın fazladan aza\n",
    "plot_importance(rf_model,X_train)"
   ]
  }
 ],
 "metadata": {
  "kernelspec": {
   "display_name": "Python 3.10.5 64-bit (windows store)",
   "language": "python",
   "name": "python3"
  },
  "language_info": {
   "codemirror_mode": {
    "name": "ipython",
    "version": 3
   },
   "file_extension": ".py",
   "mimetype": "text/x-python",
   "name": "python",
   "nbconvert_exporter": "python",
   "pygments_lexer": "ipython3",
   "version": "3.10.5"
  },
  "orig_nbformat": 4,
  "vscode": {
   "interpreter": {
    "hash": "bdeb59d3b64914835d647b3375aaf9a9a525da8506b206b2e4c562ce2d2d091a"
   }
  }
 },
 "nbformat": 4,
 "nbformat_minor": 2
}
