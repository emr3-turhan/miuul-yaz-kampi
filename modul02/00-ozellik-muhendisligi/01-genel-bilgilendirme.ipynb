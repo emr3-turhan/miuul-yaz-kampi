{
 "cells": [
  {
   "cell_type": "markdown",
   "metadata": {},
   "source": [
    "# **Genel Bilgilendirme**\n",
    "\n",
    "Özellik Mühendisliği eğitimine hoş geldiniz!\n",
    "\n",
    "\n",
    "### Eğitimi tamamladığınız zaman aşağıdaki konular hakkında bilgi sahibi olacaksınız:\n",
    "Outliers\n",
    "\n",
    "Missing Values\n",
    "\n",
    "Encoding Scaling\n",
    "\n",
    "Feature Extraction\n",
    "\n",
    "### **Ödev ve Projeler**\n",
    "\n",
    "Diyabet Verisi Özellik Mühendisliği\n",
    "\n",
    "Telco Müşteri Terk Özellik Mühendisliği\n",
    "\n",
    "> ### **application_train.csv dosyası büyük olduğu için (166mb) github'a yüklenmemiştir. Github'da feature_engineering zip dosyası içerisinden bulabilirsiniz."
   ]
  },
  {
   "cell_type": "markdown",
   "metadata": {},
   "source": []
  }
 ],
 "metadata": {
  "kernelspec": {
   "display_name": "Python 3.10.5 64-bit (windows store)",
   "language": "python",
   "name": "python3"
  },
  "language_info": {
   "name": "python",
   "version": "3.10.5"
  },
  "orig_nbformat": 4,
  "vscode": {
   "interpreter": {
    "hash": "bdeb59d3b64914835d647b3375aaf9a9a525da8506b206b2e4c562ce2d2d091a"
   }
  }
 },
 "nbformat": 4,
 "nbformat_minor": 2
}
