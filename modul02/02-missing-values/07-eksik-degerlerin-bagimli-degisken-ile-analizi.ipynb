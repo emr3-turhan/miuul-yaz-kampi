{
 "cells": [
  {
   "cell_type": "markdown",
   "metadata": {},
   "source": [
    "### **Eksik Değerlerin Bağımlı Değişken ile İlişkisinin İncelenmesi**\n"
   ]
  },
  {
   "cell_type": "code",
   "execution_count": 1,
   "metadata": {},
   "outputs": [],
   "source": [
    "##################### GEÇMİŞ TANIMLAMALAR ##############################\n",
    "\n",
    "# Kütüphaneler\n",
    "import numpy as np\n",
    "import pandas as pd\n",
    "import seaborn as sns\n",
    "from matplotlib import pyplot as plt\n",
    "# pip install missingno\n",
    "import missingno as msno\n",
    "from datetime import date\n",
    "from sklearn.metrics import accuracy_score\n",
    "from sklearn.model_selection import train_test_split\n",
    "from sklearn.neighbors import LocalOutlierFactor\n",
    "from sklearn.preprocessing import MinMaxScaler, LabelEncoder, StandardScaler, RobustScaler\n",
    "\n",
    "\n",
    "# Pandas ayarları\n",
    "pd.set_option('display.max_columns', None)\n",
    "pd.set_option('display.max_rows', None)\n",
    "pd.set_option('display.float_format', lambda x: '%.3f' % x)\n",
    "pd.set_option('display.width', 500)\n",
    "\n",
    "\n",
    "# Veri setleri\n",
    "def load_application_train():\n",
    "    data = pd.read_csv('../01-outliers/application_train.csv')\n",
    "    return data\n",
    "\n",
    "def load():\n",
    "    data = pd.read_csv('../01-outliers/titanic.csv')\n",
    "    return data\n",
    "\n",
    "\n",
    "# Fonksiyonlar\n",
    "# Eksik değer içeren değişkenleri dönen fonksiyon:\n",
    "def missing_values_table(dataframe, na_name=False):\n",
    "    na_columns = [col for col in dataframe.columns if dataframe[col].isnull().sum() > 0]\n",
    "    n_miss = dataframe[na_columns].isnull().sum().sort_values(ascending=False)\n",
    "    ratio = (dataframe[na_columns].isnull().sum() / dataframe.shape[0] * 100).sort_values(ascending=False)\n",
    "    missing_df = pd.concat([n_miss, np.round(ratio, 2)], axis=1, keys=['n_miss', 'ratio'])\n",
    "    print(missing_df,end='\\n')\n",
    "    if na_name:\n",
    "        return na_columns"
   ]
  },
  {
   "cell_type": "code",
   "execution_count": 2,
   "metadata": {},
   "outputs": [
    {
     "name": "stdout",
     "output_type": "stream",
     "text": [
      "          n_miss  ratio\n",
      "Cabin        687 77.100\n",
      "Age          177 19.870\n",
      "Embarked       2  0.220\n",
      "          n_miss  ratio\n",
      "Cabin        687 77.100\n",
      "Age          177 19.870\n",
      "Embarked       2  0.220\n"
     ]
    }
   ],
   "source": [
    "df = load()\n",
    "missing_values_table(df,True)\n",
    "na_cols = missing_values_table(df,True)"
   ]
  },
  {
   "cell_type": "code",
   "execution_count": 4,
   "metadata": {},
   "outputs": [],
   "source": [
    "# Hedef değişken üzerinde diğer değişkenlerin eksik ve eksik olmayan gözlemlerine kırılarak ortalamalarının alındığı durum.\n",
    "def missing_vs_target(dataframe,target,na_columns):\n",
    "    temp_df = dataframe.copy()\n",
    "    for col in na_columns:\n",
    "        temp_df[col + '_NA_FLAG'] = np.where(temp_df[col].isnull(), 1, 0)\n",
    "    na_flags = temp_df.loc[:,temp_df.columns.str.contains('_NA_')].columns\n",
    "    for col in na_flags:\n",
    "        print(pd.DataFrame({\"TARGET_MEAN\": temp_df.groupby(col)[target].mean(),\n",
    "                            \"Count\": temp_df.groupby(col)[target].count()}), end=\"\\n\\n\\n\")"
   ]
  },
  {
   "cell_type": "code",
   "execution_count": 10,
   "metadata": {},
   "outputs": [
    {
     "name": "stdout",
     "output_type": "stream",
     "text": [
      "             TARGET_MEAN  Count\n",
      "Age_NA_FLAG                    \n",
      "0                  0.406    714\n",
      "1                  0.294    177\n",
      "\n",
      "\n",
      "               TARGET_MEAN  Count\n",
      "Cabin_NA_FLAG                    \n",
      "0                    0.667    204\n",
      "1                    0.300    687\n",
      "\n",
      "\n",
      "                  TARGET_MEAN  Count\n",
      "Embarked_NA_FLAG                    \n",
      "0                       0.382    889\n",
      "1                       1.000      2\n",
      "\n",
      "\n"
     ]
    }
   ],
   "source": [
    "missing_vs_target(df,'Survived',na_cols)"
   ]
  },
  {
   "cell_type": "code",
   "execution_count": null,
   "metadata": {},
   "outputs": [],
   "source": []
  }
 ],
 "metadata": {
  "kernelspec": {
   "display_name": "Python 3.10.5 64-bit (windows store)",
   "language": "python",
   "name": "python3"
  },
  "language_info": {
   "codemirror_mode": {
    "name": "ipython",
    "version": 3
   },
   "file_extension": ".py",
   "mimetype": "text/x-python",
   "name": "python",
   "nbconvert_exporter": "python",
   "pygments_lexer": "ipython3",
   "version": "3.10.5"
  },
  "orig_nbformat": 4,
  "vscode": {
   "interpreter": {
    "hash": "bdeb59d3b64914835d647b3375aaf9a9a525da8506b206b2e4c562ce2d2d091a"
   }
  }
 },
 "nbformat": 4,
 "nbformat_minor": 2
}
