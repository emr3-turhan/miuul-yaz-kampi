{
 "cells": [
  {
   "cell_type": "markdown",
   "metadata": {},
   "source": [
    "## **Eksik Değerler (Missing Values)**\n",
    "\n",
    "Gözlemlerde eksiklik olması durumunu ifade etmektedir.\n",
    "\n",
    "> **Eksik veri problemi nasıl çözülür?**\n",
    "\n",
    "1. Silme\n",
    "\n",
    "2. Değer Atama Yöntemleri\n",
    "\n",
    "3. Tahmine Dayalı Yöntemler\n",
    "\n",
    "Eksik veri ile çalışırken göz önünde bulundurulması gereken önemli konulardan birisi: Eksik verinin rassllığı yani eksikliğin rastgele çıkıp çıkmadığının bilinmesi.\n",
    "\n",
    "> Eksik değere sahip gözlemlerinn veri setinden direkt çıkarılması ve rassallığın incelenmemesi, yapılacak istatistiksel çıkarımların ve modelleme çalışmalarının güvenirliliğini düşürecektir. (Alpar, 2011)\n",
    "\n",
    "> Eksik gözlemlerin veri setinden direk çıkarılabilmesi için veri setindeki eksikliğin bazı durumlarda kısmen bazı durumlarda tamamen rastlantısal olarak oluşmuş olması gerekmektedir. Eğer eksiklikler değişkenler ile ilişkili olarak ortaya çıkan yapısal problemler ile meydana gelmiş ise bu durumda yapılacak silme işlemleri ciddi yanlılıklara sebep olabilecektir. (Tabachnick ve Fidell, 1996)"
   ]
  }
 ],
 "metadata": {
  "kernelspec": {
   "display_name": "Python 3.10.5 64-bit (windows store)",
   "language": "python",
   "name": "python3"
  },
  "language_info": {
   "name": "python",
   "version": "3.10.5"
  },
  "orig_nbformat": 4,
  "vscode": {
   "interpreter": {
    "hash": "bdeb59d3b64914835d647b3375aaf9a9a525da8506b206b2e4c562ce2d2d091a"
   }
  }
 },
 "nbformat": 4,
 "nbformat_minor": 2
}
