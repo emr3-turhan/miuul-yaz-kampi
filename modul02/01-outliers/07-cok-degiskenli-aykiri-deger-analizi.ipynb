{
 "cells": [
  {
   "cell_type": "markdown",
   "metadata": {},
   "source": [
    "### **Çok Değişkenli Aykırı Değer Analizi (Local Outlier Factor)** \n",
    "\n",
    "LOF NEDİR?\n",
    "\n",
    "Gözlemleri bulundukları konumda yoğunluk tabanlı skorlayarak buna göre aykırı değer olabilecek tanımlayabilmemize imkan sağlıyor.\n",
    "\n",
    "Bir noktanın kocal yoğunluğu bu noktanın komşuları ile karşılaştırılıyor. Eğer bir nokta  komşularının yoğunluğundan anlamlı bir şekilde düşük ise bu nokta komşularından daha seyrek bir bölgede bulunuyordur yorumu yapılıyor. Dolayısıyla burada bir komşuluk yapısı söz konusu. Bir değerin çevresi yoğun değilse demek ki bu değer aykırı değerdir şeklinde değerlendiriliyor. \n",
    "\n",
    "\n"
   ]
  },
  {
   "cell_type": "code",
   "execution_count": 1,
   "metadata": {},
   "outputs": [],
   "source": [
    "##################### GEÇMİŞ TANIMLAMALAR ##############################\n",
    "\n",
    "# Kütüphaneler\n",
    "\n",
    "import numpy as np\n",
    "import pandas as pd\n",
    "import seaborn as sns\n",
    "from matplotlib import pyplot as plt\n",
    "# pip install missingno\n",
    "import missingno as msno\n",
    "from datetime import date\n",
    "from sklearn.metrics import accuracy_score\n",
    "from sklearn.model_selection import train_test_split\n",
    "from sklearn.neighbors import LocalOutlierFactor\n",
    "from sklearn.preprocessing import MinMaxScaler, LabelEncoder, StandardScaler, RobustScaler\n",
    "\n",
    "\n",
    "# Pandas ayarları\n",
    "pd.set_option('display.max_columns', None)\n",
    "pd.set_option('display.max_rows', None)\n",
    "pd.set_option('display.float_format', lambda x: '%.3f' % x)\n",
    "pd.set_option('display.width', 500)\n",
    "\n",
    "\n",
    "# Veri setleri\n",
    "def load_application_train():\n",
    "    data = pd.read_csv('application_train.csv')\n",
    "    return data\n",
    "\n",
    "def load():\n",
    "    data = pd.read_csv('titanic.csv')\n",
    "    return data\n",
    "\n",
    "\n",
    "# Tanımlama\n",
    "df_train = load_application_train()\n",
    "df = load()\n",
    "\n",
    "\n",
    "# Fonksiyonlar\n",
    "# outlier_thresholds fonksiyonu\n",
    "# Alt ve üst sınırlarının belirlemek için kullanılacak\n",
    "def outlier_thresholds(dataframe, col_name, q1 = 0.25, q3 = 0.75):\n",
    "    quartile1 = dataframe[col_name].quantile(q1)\n",
    "    quartile3 = dataframe[col_name].quantile(q3)\n",
    "    interquartile_range = quartile3 - quartile1\n",
    "    up_limit = quartile3 + 1.5 * interquartile_range\n",
    "    low_limit = quartile1 - 1.5 * interquartile_range\n",
    "    return low_limit, up_limit\n",
    "\n",
    "# Aykırı değer var mı yok mu kontrol eden fonksiyonu tanımlayalım. (return: True/False)(bool)\n",
    "def check_outlier(dataframe, col_name):\n",
    "    low_limit, up_limit = outlier_thresholds(dataframe, col_name)\n",
    "    if dataframe[(dataframe[col_name] > up_limit) | (dataframe[col_name] < low_limit)].any(axis=None):\n",
    "        return True\n",
    "    else:\n",
    "        return False\n",
    "\n",
    "    # Bunu da kullanabiliriz.\n",
    "    # if dataframe[(dataframe[col_name] > up_limit) | (dataframe[col_name] < low_limit)].empty:\n",
    "    #     return False\n",
    "    # else:\n",
    "    #     return True\n",
    "        \n",
    "# Efsane fonksiyon\n",
    "\n",
    "def grab_col_names(dataframe, cat_th=10, car_th=20):\n",
    "    \"\"\"\n",
    "    \n",
    "    Veri setindeki kategorik, numerik ve kategorik fakat kardinal değişkenlerin isimlerini verir.\n",
    "    Not: Kategorik değişkenlerin içerisine numerik görünümlü kategorik değişkenler de dahildir.\n",
    "\n",
    "    Parameters\n",
    "    -------\n",
    "        dataframe: dataframe\n",
    "                Değişken isimleri alınmak istenilen dataframe.\n",
    "        cat_th: int, optinal\n",
    "                Kategorik değişkenlerinin sayısının üst sınırı.\n",
    "        car_th: int, optional\n",
    "                Kategorik fakat kardinal değişkenler için sınıf eşik değeri.\n",
    "    \n",
    "    Returns\n",
    "    -------\n",
    "        cat_cols: list\n",
    "                Kategorik değişken listesi.\n",
    "        num_cols: list\n",
    "                Numerik değişken listesi.\n",
    "        cat_but_car: list\n",
    "                Kategorik kardinal değişken listesi.\n",
    "    \"\"\"\n",
    "\n",
    "    # cat_cols, cat_but_car\n",
    "    cat_cols = [col for col in dataframe.columns if dataframe[col].dtype == 'O']\n",
    "    num_but_cat = [col for col in dataframe.columns if dataframe[col].nunique() < cat_th and\n",
    "                   dataframe[col].dtype != 'O']\n",
    "                   \n",
    "    cat_but_car = [col for col in dataframe.columns if dataframe[col].nunique() > car_th and\n",
    "                     dataframe[col].dtype == 'O']\n",
    "    cat_cols = cat_cols + num_but_cat\n",
    "    cat_cols = [col for col in cat_cols if col not in cat_but_car]\n",
    "\n",
    "    # num_cols\n",
    "    num_cols = [col for col in dataframe.columns if dataframe[col].dtype != 'O']\n",
    "    num_cols = [col for col in num_cols if col not in num_but_cat]\n",
    "\n",
    "    print(f\"Observations: {dataframe.shape[0]}\")\n",
    "    print(f\"Variables: {dataframe.shape[1]}\")\n",
    "    print(f\"cat_cols: {len(cat_cols)}\")\n",
    "    print(f\"num_cols: {len(num_cols)}\")\n",
    "    print(f\"cat_but_car: {len(cat_but_car)}\")\n",
    "    print(\"******************\")\n",
    "    print(f\"num_but_cat: {len(num_but_cat)}\")\n",
    "    return cat_cols, num_cols, cat_but_car\n",
    "\n",
    "# grab_outliers fonksiyonu (eğer değişkene ait aykırı değer sayısı 10 dan fazla ise ilk 5 değerini göster, az ise hepsini göster)\n",
    "def grab_outliers(dataframe, col_name, index=False):\n",
    "    low, up = outlier_thresholds(dataframe, col_name)\n",
    "\n",
    "    if dataframe[((dataframe[col_name] < low) | (dataframe[col_name] > up))].shape[0] > 0:\n",
    "        print(dataframe[((dataframe[col_name] < low) | (dataframe[col_name] > up))].head())\n",
    "    else:\n",
    "        print(dataframe[((dataframe[col_name] < low) | (dataframe[col_name] > up))])\n",
    "\n",
    "    if index:\n",
    "        outlier_index = dataframe[((dataframe[col_name] < low) | (dataframe[col_name] > up))].index\n",
    "        return outlier_index\n",
    "        \n",
    "\n",
    "# Aykırı olmayan gözlemleri dönen fonksiyonları yazalım.\n",
    "def remove_outlier(dataframe, col_name):\n",
    "    low_limit, up_limit = outlier_thresholds(dataframe, col_name)\n",
    "    df_wıthout_outliers = dataframe[~((dataframe[col_name] < low_limit) | (dataframe[col_name] > up_limit))]\n",
    "    return df_wıthout_outliers\n",
    "\n",
    "\n"
   ]
  },
  {
   "cell_type": "markdown",
   "metadata": {},
   "source": [
    "> Tek değişken için bakıldığında aykırı olmayan gözlemler, birden çok değişken için bakıldığında aykırı olabilir.\n",
    "\n",
    "Örneğin: 17 yaşında birinin 3 kere evlenmesi aykırı değerdir ama 17 yaşında olmak ve 3 kere evlenmek ayrı ayrı bakıldığında aykırı değer değildir."
   ]
  },
  {
   "cell_type": "code",
   "execution_count": 3,
   "metadata": {},
   "outputs": [],
   "source": [
    "# Veri setini tanımlayalım.\n",
    "df = sns.load_dataset('diamonds')"
   ]
  },
  {
   "cell_type": "code",
   "execution_count": 4,
   "metadata": {},
   "outputs": [],
   "source": [
    "# Sayısal değişkenleri seçelim.\n",
    "df = df.select_dtypes(include=['float64', 'int64'])"
   ]
  },
  {
   "cell_type": "code",
   "execution_count": 6,
   "metadata": {},
   "outputs": [
    {
     "data": {
      "text/html": [
       "<div>\n",
       "<style scoped>\n",
       "    .dataframe tbody tr th:only-of-type {\n",
       "        vertical-align: middle;\n",
       "    }\n",
       "\n",
       "    .dataframe tbody tr th {\n",
       "        vertical-align: top;\n",
       "    }\n",
       "\n",
       "    .dataframe thead th {\n",
       "        text-align: right;\n",
       "    }\n",
       "</style>\n",
       "<table border=\"1\" class=\"dataframe\">\n",
       "  <thead>\n",
       "    <tr style=\"text-align: right;\">\n",
       "      <th></th>\n",
       "      <th>carat</th>\n",
       "      <th>depth</th>\n",
       "      <th>table</th>\n",
       "      <th>price</th>\n",
       "      <th>x</th>\n",
       "      <th>y</th>\n",
       "      <th>z</th>\n",
       "    </tr>\n",
       "  </thead>\n",
       "  <tbody>\n",
       "    <tr>\n",
       "      <th>0</th>\n",
       "      <td>0.230</td>\n",
       "      <td>61.500</td>\n",
       "      <td>55.000</td>\n",
       "      <td>326</td>\n",
       "      <td>3.950</td>\n",
       "      <td>3.980</td>\n",
       "      <td>2.430</td>\n",
       "    </tr>\n",
       "    <tr>\n",
       "      <th>1</th>\n",
       "      <td>0.210</td>\n",
       "      <td>59.800</td>\n",
       "      <td>61.000</td>\n",
       "      <td>326</td>\n",
       "      <td>3.890</td>\n",
       "      <td>3.840</td>\n",
       "      <td>2.310</td>\n",
       "    </tr>\n",
       "    <tr>\n",
       "      <th>2</th>\n",
       "      <td>0.230</td>\n",
       "      <td>56.900</td>\n",
       "      <td>65.000</td>\n",
       "      <td>327</td>\n",
       "      <td>4.050</td>\n",
       "      <td>4.070</td>\n",
       "      <td>2.310</td>\n",
       "    </tr>\n",
       "    <tr>\n",
       "      <th>3</th>\n",
       "      <td>0.290</td>\n",
       "      <td>62.400</td>\n",
       "      <td>58.000</td>\n",
       "      <td>334</td>\n",
       "      <td>4.200</td>\n",
       "      <td>4.230</td>\n",
       "      <td>2.630</td>\n",
       "    </tr>\n",
       "    <tr>\n",
       "      <th>4</th>\n",
       "      <td>0.310</td>\n",
       "      <td>63.300</td>\n",
       "      <td>58.000</td>\n",
       "      <td>335</td>\n",
       "      <td>4.340</td>\n",
       "      <td>4.350</td>\n",
       "      <td>2.750</td>\n",
       "    </tr>\n",
       "  </tbody>\n",
       "</table>\n",
       "</div>"
      ],
      "text/plain": [
       "   carat  depth  table  price     x     y     z\n",
       "0  0.230 61.500 55.000    326 3.950 3.980 2.430\n",
       "1  0.210 59.800 61.000    326 3.890 3.840 2.310\n",
       "2  0.230 56.900 65.000    327 4.050 4.070 2.310\n",
       "3  0.290 62.400 58.000    334 4.200 4.230 2.630\n",
       "4  0.310 63.300 58.000    335 4.340 4.350 2.750"
      ]
     },
     "execution_count": 6,
     "metadata": {},
     "output_type": "execute_result"
    }
   ],
   "source": [
    "df = df.dropna()\n",
    "df.head()"
   ]
  },
  {
   "cell_type": "code",
   "execution_count": 7,
   "metadata": {},
   "outputs": [
    {
     "data": {
      "text/plain": [
       "(53940, 7)"
      ]
     },
     "execution_count": 7,
     "metadata": {},
     "output_type": "execute_result"
    }
   ],
   "source": [
    "# Veri setindeki gözlemlere bakalım.\n",
    "df.shape"
   ]
  },
  {
   "cell_type": "code",
   "execution_count": 8,
   "metadata": {},
   "outputs": [
    {
     "name": "stdout",
     "output_type": "stream",
     "text": [
      "carat True\n",
      "depth True\n",
      "table True\n",
      "price True\n",
      "x True\n",
      "y True\n",
      "z True\n"
     ]
    }
   ],
   "source": [
    "# Değişkenlerde aykırı gözlem var mı?\n",
    "for col in df.columns:\n",
    "    print(col , check_outlier(df, col))"
   ]
  },
  {
   "cell_type": "code",
   "execution_count": 9,
   "metadata": {},
   "outputs": [],
   "source": [
    "low, up = outlier_thresholds(df, 'carat')"
   ]
  },
  {
   "cell_type": "code",
   "execution_count": 11,
   "metadata": {},
   "outputs": [
    {
     "data": {
      "text/plain": [
       "(1889, 7)"
      ]
     },
     "execution_count": 11,
     "metadata": {},
     "output_type": "execute_result"
    }
   ],
   "source": [
    "# Karat değişkeni için aykırı gözlemlere bakalım.\n",
    "df[((df['carat'] < low) | (df['carat'] > up))].shape"
   ]
  },
  {
   "cell_type": "code",
   "execution_count": 12,
   "metadata": {},
   "outputs": [],
   "source": [
    "low, up = outlier_thresholds(df, 'depth')"
   ]
  },
  {
   "cell_type": "code",
   "execution_count": 13,
   "metadata": {},
   "outputs": [
    {
     "data": {
      "text/plain": [
       "(2545, 7)"
      ]
     },
     "execution_count": 13,
     "metadata": {},
     "output_type": "execute_result"
    }
   ],
   "source": [
    "# Derinlik değişkeni için aykırı gözlemlere bakalım.\n",
    "df[((df['depth'] < low) | (df['depth'] > up))].shape"
   ]
  },
  {
   "cell_type": "code",
   "execution_count": 14,
   "metadata": {},
   "outputs": [],
   "source": [
    "clf = LocalOutlierFactor(n_neighbors=20) # n_neighbors aranan komşuluk sayısıdır."
   ]
  },
  {
   "cell_type": "code",
   "execution_count": 15,
   "metadata": {},
   "outputs": [
    {
     "data": {
      "text/plain": [
       "array([-1, -1, -1, ...,  1,  1,  1])"
      ]
     },
     "execution_count": 15,
     "metadata": {},
     "output_type": "execute_result"
    }
   ],
   "source": [
    "# LOF u veri setine uygulamak için\n",
    "clf.fit_predict(df)"
   ]
  },
  {
   "cell_type": "code",
   "execution_count": 22,
   "metadata": {},
   "outputs": [],
   "source": [
    "# Lof değerlerini takip edebilmek için\n",
    "df_scores = clf.negative_outlier_factor_"
   ]
  },
  {
   "cell_type": "code",
   "execution_count": 23,
   "metadata": {},
   "outputs": [
    {
     "data": {
      "text/plain": [
       "array([-1.58352526, -1.59732899, -1.62278873, ..., -1.06721815,\n",
       "       -1.00809552, -1.00849038])"
      ]
     },
     "execution_count": 23,
     "metadata": {},
     "output_type": "execute_result"
    }
   ],
   "source": [
    "# Skorlara bakalım.\n",
    "df_scores"
   ]
  },
  {
   "cell_type": "code",
   "execution_count": 21,
   "metadata": {},
   "outputs": [],
   "source": [
    "# Eksi değerli gözkükmesini istemiyorsak\n",
    "# df_scores = -df_scores"
   ]
  },
  {
   "cell_type": "code",
   "execution_count": 24,
   "metadata": {},
   "outputs": [
    {
     "data": {
      "text/plain": [
       "array([-8.60430658, -8.20889984, -5.86084355, -4.98415175, -4.81502092])"
      ]
     },
     "execution_count": 24,
     "metadata": {},
     "output_type": "execute_result"
    }
   ],
   "source": [
    "np.sort(df_scores)[0:5]"
   ]
  },
  {
   "cell_type": "code",
   "execution_count": 25,
   "metadata": {},
   "outputs": [
    {
     "data": {
      "image/png": "[encoded data removed]",
      "text/plain": [
       "<Figure size 432x288 with 1 Axes>"
      ]
     },
     "metadata": {
      "needs_background": "light"
     },
     "output_type": "display_data"
    }
   ],
   "source": [
    "# Skor grafiği\n",
    "scores = pd.DataFrame(np.sort(df_scores))\n",
    "scores.plot(stacked=True,xlim=[0,20],style=\".-\")\n",
    "plt.show()"
   ]
  },
  {
   "cell_type": "code",
   "execution_count": 27,
   "metadata": {},
   "outputs": [
    {
     "data": {
      "image/png": "[encoded data removed]",
      "text/plain": [
       "<Figure size 432x288 with 1 Axes>"
      ]
     },
     "metadata": {
      "needs_background": "light"
     },
     "output_type": "display_data"
    }
   ],
   "source": [
    "# Daha detaylı bakalım.\n",
    "scores.plot(stacked=True,xlim=[0,50],style=\".-\")\n",
    "plt.show()"
   ]
  },
  {
   "cell_type": "code",
   "execution_count": 28,
   "metadata": {},
   "outputs": [],
   "source": [
    "# Grafiğe bakarak kırılma noktasını belirleyelim.\n",
    "th = np.sort(df_scores)[3]"
   ]
  },
  {
   "cell_type": "code",
   "execution_count": 29,
   "metadata": {},
   "outputs": [
    {
     "data": {
      "text/html": [
       "<div>\n",
       "<style scoped>\n",
       "    .dataframe tbody tr th:only-of-type {\n",
       "        vertical-align: middle;\n",
       "    }\n",
       "\n",
       "    .dataframe tbody tr th {\n",
       "        vertical-align: top;\n",
       "    }\n",
       "\n",
       "    .dataframe thead th {\n",
       "        text-align: right;\n",
       "    }\n",
       "</style>\n",
       "<table border=\"1\" class=\"dataframe\">\n",
       "  <thead>\n",
       "    <tr style=\"text-align: right;\">\n",
       "      <th></th>\n",
       "      <th>carat</th>\n",
       "      <th>depth</th>\n",
       "      <th>table</th>\n",
       "      <th>price</th>\n",
       "      <th>x</th>\n",
       "      <th>y</th>\n",
       "      <th>z</th>\n",
       "    </tr>\n",
       "  </thead>\n",
       "  <tbody>\n",
       "    <tr>\n",
       "      <th>41918</th>\n",
       "      <td>1.030</td>\n",
       "      <td>78.200</td>\n",
       "      <td>54.000</td>\n",
       "      <td>1262</td>\n",
       "      <td>5.720</td>\n",
       "      <td>5.590</td>\n",
       "      <td>4.420</td>\n",
       "    </tr>\n",
       "    <tr>\n",
       "      <th>48410</th>\n",
       "      <td>0.510</td>\n",
       "      <td>61.800</td>\n",
       "      <td>54.700</td>\n",
       "      <td>1970</td>\n",
       "      <td>5.120</td>\n",
       "      <td>5.150</td>\n",
       "      <td>31.800</td>\n",
       "    </tr>\n",
       "    <tr>\n",
       "      <th>49189</th>\n",
       "      <td>0.510</td>\n",
       "      <td>61.800</td>\n",
       "      <td>55.000</td>\n",
       "      <td>2075</td>\n",
       "      <td>5.150</td>\n",
       "      <td>31.800</td>\n",
       "      <td>5.120</td>\n",
       "    </tr>\n",
       "  </tbody>\n",
       "</table>\n",
       "</div>"
      ],
      "text/plain": [
       "       carat  depth  table  price     x      y      z\n",
       "41918  1.030 78.200 54.000   1262 5.720  5.590  4.420\n",
       "48410  0.510 61.800 54.700   1970 5.120  5.150 31.800\n",
       "49189  0.510 61.800 55.000   2075 5.150 31.800  5.120"
      ]
     },
     "execution_count": 29,
     "metadata": {},
     "output_type": "execute_result"
    }
   ],
   "source": [
    "#  LOF'a göre aykırı değerlere bakalım\n",
    "df[df_scores < th]"
   ]
  },
  {
   "cell_type": "code",
   "execution_count": 30,
   "metadata": {},
   "outputs": [
    {
     "data": {
      "text/html": [
       "<div>\n",
       "<style scoped>\n",
       "    .dataframe tbody tr th:only-of-type {\n",
       "        vertical-align: middle;\n",
       "    }\n",
       "\n",
       "    .dataframe tbody tr th {\n",
       "        vertical-align: top;\n",
       "    }\n",
       "\n",
       "    .dataframe thead th {\n",
       "        text-align: right;\n",
       "    }\n",
       "</style>\n",
       "<table border=\"1\" class=\"dataframe\">\n",
       "  <thead>\n",
       "    <tr style=\"text-align: right;\">\n",
       "      <th></th>\n",
       "      <th>count</th>\n",
       "      <th>mean</th>\n",
       "      <th>std</th>\n",
       "      <th>min</th>\n",
       "      <th>1%</th>\n",
       "      <th>5%</th>\n",
       "      <th>50%</th>\n",
       "      <th>75%</th>\n",
       "      <th>90%</th>\n",
       "      <th>99%</th>\n",
       "      <th>max</th>\n",
       "    </tr>\n",
       "  </thead>\n",
       "  <tbody>\n",
       "    <tr>\n",
       "      <th>carat</th>\n",
       "      <td>53940.000</td>\n",
       "      <td>0.798</td>\n",
       "      <td>0.474</td>\n",
       "      <td>0.200</td>\n",
       "      <td>0.240</td>\n",
       "      <td>0.300</td>\n",
       "      <td>0.700</td>\n",
       "      <td>1.040</td>\n",
       "      <td>1.510</td>\n",
       "      <td>2.180</td>\n",
       "      <td>5.010</td>\n",
       "    </tr>\n",
       "    <tr>\n",
       "      <th>depth</th>\n",
       "      <td>53940.000</td>\n",
       "      <td>61.749</td>\n",
       "      <td>1.433</td>\n",
       "      <td>43.000</td>\n",
       "      <td>57.900</td>\n",
       "      <td>59.300</td>\n",
       "      <td>61.800</td>\n",
       "      <td>62.500</td>\n",
       "      <td>63.300</td>\n",
       "      <td>65.600</td>\n",
       "      <td>79.000</td>\n",
       "    </tr>\n",
       "    <tr>\n",
       "      <th>table</th>\n",
       "      <td>53940.000</td>\n",
       "      <td>57.457</td>\n",
       "      <td>2.234</td>\n",
       "      <td>43.000</td>\n",
       "      <td>53.000</td>\n",
       "      <td>54.000</td>\n",
       "      <td>57.000</td>\n",
       "      <td>59.000</td>\n",
       "      <td>60.000</td>\n",
       "      <td>64.000</td>\n",
       "      <td>95.000</td>\n",
       "    </tr>\n",
       "    <tr>\n",
       "      <th>price</th>\n",
       "      <td>53940.000</td>\n",
       "      <td>3932.800</td>\n",
       "      <td>3989.440</td>\n",
       "      <td>326.000</td>\n",
       "      <td>429.000</td>\n",
       "      <td>544.000</td>\n",
       "      <td>2401.000</td>\n",
       "      <td>5324.250</td>\n",
       "      <td>9821.000</td>\n",
       "      <td>17378.220</td>\n",
       "      <td>18823.000</td>\n",
       "    </tr>\n",
       "    <tr>\n",
       "      <th>x</th>\n",
       "      <td>53940.000</td>\n",
       "      <td>5.731</td>\n",
       "      <td>1.122</td>\n",
       "      <td>0.000</td>\n",
       "      <td>4.020</td>\n",
       "      <td>4.290</td>\n",
       "      <td>5.700</td>\n",
       "      <td>6.540</td>\n",
       "      <td>7.310</td>\n",
       "      <td>8.360</td>\n",
       "      <td>10.740</td>\n",
       "    </tr>\n",
       "    <tr>\n",
       "      <th>y</th>\n",
       "      <td>53940.000</td>\n",
       "      <td>5.735</td>\n",
       "      <td>1.142</td>\n",
       "      <td>0.000</td>\n",
       "      <td>4.040</td>\n",
       "      <td>4.300</td>\n",
       "      <td>5.710</td>\n",
       "      <td>6.540</td>\n",
       "      <td>7.300</td>\n",
       "      <td>8.340</td>\n",
       "      <td>58.900</td>\n",
       "    </tr>\n",
       "    <tr>\n",
       "      <th>z</th>\n",
       "      <td>53940.000</td>\n",
       "      <td>3.539</td>\n",
       "      <td>0.706</td>\n",
       "      <td>0.000</td>\n",
       "      <td>2.480</td>\n",
       "      <td>2.650</td>\n",
       "      <td>3.530</td>\n",
       "      <td>4.040</td>\n",
       "      <td>4.520</td>\n",
       "      <td>5.150</td>\n",
       "      <td>31.800</td>\n",
       "    </tr>\n",
       "  </tbody>\n",
       "</table>\n",
       "</div>"
      ],
      "text/plain": [
       "          count     mean      std     min      1%      5%      50%      75%      90%       99%       max\n",
       "carat 53940.000    0.798    0.474   0.200   0.240   0.300    0.700    1.040    1.510     2.180     5.010\n",
       "depth 53940.000   61.749    1.433  43.000  57.900  59.300   61.800   62.500   63.300    65.600    79.000\n",
       "table 53940.000   57.457    2.234  43.000  53.000  54.000   57.000   59.000   60.000    64.000    95.000\n",
       "price 53940.000 3932.800 3989.440 326.000 429.000 544.000 2401.000 5324.250 9821.000 17378.220 18823.000\n",
       "x     53940.000    5.731    1.122   0.000   4.020   4.290    5.700    6.540    7.310     8.360    10.740\n",
       "y     53940.000    5.735    1.142   0.000   4.040   4.300    5.710    6.540    7.300     8.340    58.900\n",
       "z     53940.000    3.539    0.706   0.000   2.480   2.650    3.530    4.040    4.520     5.150    31.800"
      ]
     },
     "execution_count": 30,
     "metadata": {},
     "output_type": "execute_result"
    }
   ],
   "source": [
    "# Bunlar neden aykırı?\n",
    "df.describe([0.01,0.05,0.75,0.9,0.99]).T"
   ]
  },
  {
   "cell_type": "code",
   "execution_count": null,
   "metadata": {},
   "outputs": [],
   "source": [
    "  "
   ]
  }
 ],
 "metadata": {
  "kernelspec": {
   "display_name": "Python 3.10.5 64-bit (windows store)",
   "language": "python",
   "name": "python3"
  },
  "language_info": {
   "codemirror_mode": {
    "name": "ipython",
    "version": 3
   },
   "file_extension": ".py",
   "mimetype": "text/x-python",
   "name": "python",
   "nbconvert_exporter": "python",
   "pygments_lexer": "ipython3",
   "version": "3.10.5"
  },
  "orig_nbformat": 4,
  "vscode": {
   "interpreter": {
    "hash": "bdeb59d3b64914835d647b3375aaf9a9a525da8506b206b2e4c562ce2d2d091a"
   }
  }
 },
 "nbformat": 4,
 "nbformat_minor": 2
}
