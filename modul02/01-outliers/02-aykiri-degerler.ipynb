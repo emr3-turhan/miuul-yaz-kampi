{
 "cells": [
  {
   "cell_type": "markdown",
   "metadata": {},
   "source": [
    "## **Aykırı Değerler (Outliers)**\n",
    "\n",
    "> Aykırı Değer Nedir?\n",
    "\n",
    "Verideki genel eğilimin oldukça dışına çıkan değerlere aykırı değer denir."
   ]
  },
  {
   "cell_type": "markdown",
   "metadata": {},
   "source": [
    "> Aykırı Değerler Nasıl Belirlenir?\n",
    "\n",
    "1. Sektör Bilgisi\n",
    "\n",
    "2. Standart Sapma Yaklaşımı\n",
    "\n",
    "3. Z-Skoru Yaklaşımı\n",
    "\n",
    "4. Boxplot (interquartile range - IQR) Yöntemi \n",
    "\n",
    "5. Çok değişkenliler için LOF (Local Outlier Factor))"
   ]
  }
 ],
 "metadata": {
  "kernelspec": {
   "display_name": "Python 3.10.5 64-bit (windows store)",
   "language": "python",
   "name": "python3"
  },
  "language_info": {
   "name": "python",
   "version": "3.10.6"
  },
  "orig_nbformat": 4,
  "vscode": {
   "interpreter": {
    "hash": "bdeb59d3b64914835d647b3375aaf9a9a525da8506b206b2e4c562ce2d2d091a"
   }
  }
 },
 "nbformat": 4,
 "nbformat_minor": 2
}
