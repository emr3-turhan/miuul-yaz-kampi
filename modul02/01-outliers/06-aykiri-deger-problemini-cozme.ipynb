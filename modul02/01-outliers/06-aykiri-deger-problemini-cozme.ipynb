{
 "cells": [
  {
   "cell_type": "markdown",
   "metadata": {},
   "source": [
    "### **Aykırı Değer Problemini Çözme**"
   ]
  },
  {
   "cell_type": "code",
   "execution_count": 22,
   "metadata": {},
   "outputs": [],
   "source": [
    "##################### GEÇMİŞ TANIMLAMALAR ##############################\n",
    "\n",
    "# Kütüphaneler\n",
    "\n",
    "import numpy as np\n",
    "import pandas as pd\n",
    "import seaborn as sns\n",
    "from matplotlib import pyplot as plt\n",
    "# pip install missingno\n",
    "import missingno as msno\n",
    "from datetime import date\n",
    "from sklearn.metrics import accuracy_score\n",
    "from sklearn.model_selection import train_test_split\n",
    "from sklearn.neighbors import LocalOutlierFactor\n",
    "from sklearn.preprocessing import MinMaxScaler, LabelEncoder, StandardScaler, RobustScaler\n",
    "\n",
    "\n",
    "# Pandas ayarları\n",
    "pd.set_option('display.max_columns', None)\n",
    "pd.set_option('display.max_rows', None)\n",
    "pd.set_option('display.float_format', lambda x: '%.3f' % x)\n",
    "pd.set_option('display.width', 500)\n",
    "\n",
    "\n",
    "# Veri setleri\n",
    "def load_application_train():\n",
    "    data = pd.read_csv('application_train.csv')\n",
    "    return data\n",
    "\n",
    "def load():\n",
    "    data = pd.read_csv('titanic.csv')\n",
    "    return data\n",
    "\n",
    "\n",
    "# Tanımlama\n",
    "df_train = load_application_train()\n",
    "df = load()\n",
    "\n",
    "\n",
    "# Fonksiyonlar\n",
    "# outlier_thresholds fonksiyonu\n",
    "# Alt ve üst sınırlarının belirlemek için kullanılacak\n",
    "def outlier_thresholds(dataframe, col_name, q1 = 0.25, q3 = 0.75):\n",
    "    quartile1 = dataframe[col_name].quantile(q1)\n",
    "    quartile3 = dataframe[col_name].quantile(q3)\n",
    "    \n",
    "    #IQR\n",
    "    interquartile_range = quartile3 - quartile1\n",
    "    up_limit = quartile3 + 1.5 * interquartile_range\n",
    "    low_limit = quartile1 - 1.5 * interquartile_range\n",
    "    return low_limit, up_limit\n",
    "\n",
    "# Aykırı değer var mı yok mu kontrol eden fonksiyonu tanımlayalım. (return: True/False)(bool)\n",
    "def check_outlier(dataframe, col_name):\n",
    "    low_limit, up_limit = outlier_thresholds(dataframe, col_name)\n",
    "    if dataframe[(dataframe[col_name] > up_limit) | (dataframe[col_name] < low_limit)].any(axis=None):\n",
    "        return True\n",
    "    else:\n",
    "        return False\n",
    "\n",
    "    # Bunu da kullanabiliriz.\n",
    "    # if dataframe[(dataframe[col_name] > up_limit) | (dataframe[col_name] < low_limit)].empty:\n",
    "    #     return False\n",
    "    # else:\n",
    "    #     return True\n",
    "        \n",
    "# Efsane fonksiyon\n",
    "\n",
    "def grab_col_names(dataframe, cat_th=10, car_th=20):\n",
    "    \"\"\"\n",
    "    \n",
    "    Veri setindeki kategorik, numerik ve kategorik fakat kardinal değişkenlerin isimlerini verir.\n",
    "    Not: Kategorik değişkenlerin içerisine numerik görünümlü kategorik değişkenler de dahildir.\n",
    "\n",
    "    Parameters\n",
    "    -------\n",
    "        dataframe: dataframe\n",
    "                Değişken isimleri alınmak istenilen dataframe.\n",
    "        cat_th: int, optinal\n",
    "                Kategorik değişkenlerinin sayısının üst sınırı.\n",
    "        car_th: int, optional\n",
    "                Kategorik fakat kardinal değişkenler için sınıf eşik değeri.\n",
    "    \n",
    "    Returns\n",
    "    -------\n",
    "        cat_cols: list\n",
    "                Kategorik değişken listesi.\n",
    "        num_cols: list\n",
    "                Numerik değişken listesi.\n",
    "        cat_but_car: list\n",
    "                Kategorik kardinal değişken listesi.\n",
    "    \"\"\"\n",
    "\n",
    "    # cat_cols, cat_but_car\n",
    "    cat_cols = [col for col in dataframe.columns if dataframe[col].dtype == 'O']\n",
    "    num_but_cat = [col for col in dataframe.columns if dataframe[col].nunique() < cat_th and\n",
    "                   dataframe[col].dtype != 'O']\n",
    "                   \n",
    "    cat_but_car = [col for col in dataframe.columns if dataframe[col].nunique() > car_th and\n",
    "                     dataframe[col].dtype == 'O']\n",
    "    cat_cols = cat_cols + num_but_cat\n",
    "    cat_cols = [col for col in cat_cols if col not in cat_but_car]\n",
    "\n",
    "    # num_cols\n",
    "    num_cols = [col for col in dataframe.columns if dataframe[col].dtype != 'O']\n",
    "    num_cols = [col for col in num_cols if col not in num_but_cat]\n",
    "\n",
    "    print(f\"Observations: {dataframe.shape[0]}\")\n",
    "    print(f\"Variables: {dataframe.shape[1]}\")\n",
    "    print(f\"cat_cols: {len(cat_cols)}\")\n",
    "    print(f\"num_cols: {len(num_cols)}\")\n",
    "    print(f\"cat_but_car: {len(cat_but_car)}\")\n",
    "    print(\"******************\")\n",
    "    print(f\"num_but_cat: {len(num_but_cat)}\")\n",
    "    return cat_cols, num_cols, cat_but_car\n",
    "\n",
    "# grab_outliers fonksiyonu (eğer değişkene ait aykırı değer sayısı 10 dan fazla ise ilk 5 değerini göster, az ise hepsini göster)\n",
    "def grab_outliers(dataframe, col_name, index=False):\n",
    "    low, up = outlier_thresholds(dataframe, col_name)\n",
    "\n",
    "    if dataframe[((dataframe[col_name] < low) | (dataframe[col_name] > up))].shape[0] > 0:\n",
    "        print(dataframe[((dataframe[col_name] < low) | (dataframe[col_name] > up))].head())\n",
    "    else:\n",
    "        print(dataframe[((dataframe[col_name] < low) | (dataframe[col_name] > up))])\n",
    "\n",
    "    if index:\n",
    "        outlier_index = dataframe[((dataframe[col_name] < low) | (dataframe[col_name] > up))].index\n",
    "        return outlier_index\n",
    "\n",
    "\n"
   ]
  },
  {
   "cell_type": "markdown",
   "metadata": {},
   "source": [
    "#### Silme"
   ]
  },
  {
   "cell_type": "code",
   "execution_count": 23,
   "metadata": {},
   "outputs": [],
   "source": [
    "low, up = outlier_thresholds(df,\"Fare\")"
   ]
  },
  {
   "cell_type": "code",
   "execution_count": 24,
   "metadata": {},
   "outputs": [
    {
     "data": {
      "text/plain": [
       "(891, 12)"
      ]
     },
     "execution_count": 24,
     "metadata": {},
     "output_type": "execute_result"
    }
   ],
   "source": [
    "# Gözlem sayısına bakalım\n",
    "df.shape"
   ]
  },
  {
   "cell_type": "code",
   "execution_count": 25,
   "metadata": {},
   "outputs": [
    {
     "data": {
      "text/plain": [
       "(775, 12)"
      ]
     },
     "execution_count": 25,
     "metadata": {},
     "output_type": "execute_result"
    }
   ],
   "source": [
    "# Aykırı olmayan gözlem sayılarına bakalım\n",
    "df[~((df[\"Fare\"] < low) | (df[\"Fare\"] > up))].shape"
   ]
  },
  {
   "cell_type": "code",
   "execution_count": 26,
   "metadata": {},
   "outputs": [],
   "source": [
    "# Aykırı olmayan gözlemleri dönen fonksiyonları yazalım.\n",
    "def remove_outlier(dataframe, col_name):\n",
    "    low_limit, up_limit = outlier_thresholds(dataframe, col_name)\n",
    "    df_wıthout_outliers = dataframe[~((dataframe[col_name] < low_limit) | (dataframe[col_name] > up_limit))]\n",
    "    return df_wıthout_outliers"
   ]
  },
  {
   "cell_type": "code",
   "execution_count": 27,
   "metadata": {},
   "outputs": [
    {
     "name": "stdout",
     "output_type": "stream",
     "text": [
      "Observations: 891\n",
      "Variables: 12\n",
      "cat_cols: 6\n",
      "num_cols: 3\n",
      "cat_but_car: 3\n",
      "******************\n",
      "num_but_cat: 4\n"
     ]
    },
    {
     "data": {
      "text/plain": [
       "(891, 12)"
      ]
     },
     "execution_count": 27,
     "metadata": {},
     "output_type": "execute_result"
    }
   ],
   "source": [
    "cat_cols, num_cols, cat_but_car = grab_col_names(df)\n",
    "num_cols = [col for col in num_cols if col not in \"PassengerId\"]\n",
    "\n",
    "df.shape"
   ]
  },
  {
   "cell_type": "code",
   "execution_count": 28,
   "metadata": {},
   "outputs": [],
   "source": [
    "# Numerik değişkenlerin aykırı değerlerini kaldırıp yeni\n",
    "for col in num_cols:\n",
    "    new_df = remove_outlier(df, col)"
   ]
  },
  {
   "cell_type": "code",
   "execution_count": 29,
   "metadata": {},
   "outputs": [
    {
     "data": {
      "text/plain": [
       "116"
      ]
     },
     "execution_count": 29,
     "metadata": {},
     "output_type": "execute_result"
    }
   ],
   "source": [
    "# Kaç değişiklik olduğunu görebiliriz.\n",
    "df.shape[0] - new_df.shape[0]"
   ]
  },
  {
   "cell_type": "markdown",
   "metadata": {},
   "source": [
    "#### Baskılama Yöntemi (re-assigment with thresholds)"
   ]
  },
  {
   "cell_type": "code",
   "execution_count": 30,
   "metadata": {},
   "outputs": [],
   "source": [
    "# Fare değişkeni için üst ve alt sınırları belirliyoruz.\n",
    "low, up = outlier_thresholds(df, \"Fare\")"
   ]
  },
  {
   "cell_type": "code",
   "execution_count": 31,
   "metadata": {},
   "outputs": [
    {
     "data": {
      "text/plain": [
       "1      71.283\n",
       "27    263.000\n",
       "31    146.521\n",
       "34     82.171\n",
       "52     76.729\n",
       "61     80.000\n",
       "62     83.475\n",
       "72     73.500\n",
       "88    263.000\n",
       "102    77.287\n",
       "118   247.521\n",
       "120    73.500\n",
       "124    77.287\n",
       "139    79.200\n",
       "151    66.600\n",
       "159    69.550\n",
       "180    69.550\n",
       "195   146.521\n",
       "201    69.550\n",
       "215   113.275\n",
       "218    76.292\n",
       "224    90.000\n",
       "230    83.475\n",
       "245    90.000\n",
       "256    79.200\n",
       "257    86.500\n",
       "258   512.329\n",
       "262    79.650\n",
       "268   153.463\n",
       "269   135.633\n",
       "275    77.958\n",
       "290    78.850\n",
       "291    91.079\n",
       "297   151.550\n",
       "299   247.521\n",
       "305   151.550\n",
       "306   110.883\n",
       "307   108.900\n",
       "310    83.158\n",
       "311   262.375\n",
       "318   164.867\n",
       "319   134.500\n",
       "324    69.550\n",
       "325   135.633\n",
       "332   153.463\n",
       "334   133.650\n",
       "336    66.600\n",
       "337   134.500\n",
       "341   263.000\n",
       "366    75.250\n",
       "369    69.300\n",
       "373   135.633\n",
       "375    82.171\n",
       "377   211.500\n",
       "380   227.525\n",
       "385    73.500\n",
       "390   120.000\n",
       "393   113.275\n",
       "412    90.000\n",
       "435   120.000\n",
       "438   263.000\n",
       "445    81.858\n",
       "453    89.104\n",
       "484    91.079\n",
       "486    90.000\n",
       "496    78.267\n",
       "498   151.550\n",
       "504    86.500\n",
       "505   108.900\n",
       "520    93.500\n",
       "527   221.779\n",
       "537   106.425\n",
       "540    71.000\n",
       "544   106.425\n",
       "550   110.883\n",
       "557   227.525\n",
       "558    79.650\n",
       "581   110.883\n",
       "585    79.650\n",
       "587    79.200\n",
       "591    78.267\n",
       "609   153.463\n",
       "627    77.958\n",
       "641    69.300\n",
       "645    76.729\n",
       "655    73.500\n",
       "659   113.275\n",
       "660   133.650\n",
       "665    73.500\n",
       "679   512.329\n",
       "681    76.729\n",
       "689   211.338\n",
       "698   110.883\n",
       "700   227.525\n",
       "708   151.550\n",
       "716   227.525\n",
       "730   211.338\n",
       "737   512.329\n",
       "741    78.850\n",
       "742   262.375\n",
       "745    71.000\n",
       "759    86.500\n",
       "763   120.000\n",
       "765    77.958\n",
       "779   211.338\n",
       "789    79.200\n",
       "792    69.550\n",
       "802   120.000\n",
       "820    93.500\n",
       "829    80.000\n",
       "835    83.158\n",
       "846    69.550\n",
       "849    89.104\n",
       "856   164.867\n",
       "863    69.550\n",
       "879    83.158\n",
       "Name: Fare, dtype: float64"
      ]
     },
     "execution_count": 31,
     "metadata": {},
     "output_type": "execute_result"
    }
   ],
   "source": [
    "# Aykırı değerleri \n",
    "df[((df[\"Fare\"] < low) | (df[\"Fare\"] > up))][\"Fare\"]"
   ]
  },
  {
   "cell_type": "code",
   "execution_count": 32,
   "metadata": {},
   "outputs": [
    {
     "data": {
      "text/plain": [
       "1      71.283\n",
       "27    263.000\n",
       "31    146.521\n",
       "34     82.171\n",
       "52     76.729\n",
       "61     80.000\n",
       "62     83.475\n",
       "72     73.500\n",
       "88    263.000\n",
       "102    77.287\n",
       "118   247.521\n",
       "120    73.500\n",
       "124    77.287\n",
       "139    79.200\n",
       "151    66.600\n",
       "159    69.550\n",
       "180    69.550\n",
       "195   146.521\n",
       "201    69.550\n",
       "215   113.275\n",
       "218    76.292\n",
       "224    90.000\n",
       "230    83.475\n",
       "245    90.000\n",
       "256    79.200\n",
       "257    86.500\n",
       "258   512.329\n",
       "262    79.650\n",
       "268   153.463\n",
       "269   135.633\n",
       "275    77.958\n",
       "290    78.850\n",
       "291    91.079\n",
       "297   151.550\n",
       "299   247.521\n",
       "305   151.550\n",
       "306   110.883\n",
       "307   108.900\n",
       "310    83.158\n",
       "311   262.375\n",
       "318   164.867\n",
       "319   134.500\n",
       "324    69.550\n",
       "325   135.633\n",
       "332   153.463\n",
       "334   133.650\n",
       "336    66.600\n",
       "337   134.500\n",
       "341   263.000\n",
       "366    75.250\n",
       "369    69.300\n",
       "373   135.633\n",
       "375    82.171\n",
       "377   211.500\n",
       "380   227.525\n",
       "385    73.500\n",
       "390   120.000\n",
       "393   113.275\n",
       "412    90.000\n",
       "435   120.000\n",
       "438   263.000\n",
       "445    81.858\n",
       "453    89.104\n",
       "484    91.079\n",
       "486    90.000\n",
       "496    78.267\n",
       "498   151.550\n",
       "504    86.500\n",
       "505   108.900\n",
       "520    93.500\n",
       "527   221.779\n",
       "537   106.425\n",
       "540    71.000\n",
       "544   106.425\n",
       "550   110.883\n",
       "557   227.525\n",
       "558    79.650\n",
       "581   110.883\n",
       "585    79.650\n",
       "587    79.200\n",
       "591    78.267\n",
       "609   153.463\n",
       "627    77.958\n",
       "641    69.300\n",
       "645    76.729\n",
       "655    73.500\n",
       "659   113.275\n",
       "660   133.650\n",
       "665    73.500\n",
       "679   512.329\n",
       "681    76.729\n",
       "689   211.338\n",
       "698   110.883\n",
       "700   227.525\n",
       "708   151.550\n",
       "716   227.525\n",
       "730   211.338\n",
       "737   512.329\n",
       "741    78.850\n",
       "742   262.375\n",
       "745    71.000\n",
       "759    86.500\n",
       "763   120.000\n",
       "765    77.958\n",
       "779   211.338\n",
       "789    79.200\n",
       "792    69.550\n",
       "802   120.000\n",
       "820    93.500\n",
       "829    80.000\n",
       "835    83.158\n",
       "846    69.550\n",
       "849    89.104\n",
       "856   164.867\n",
       "863    69.550\n",
       "879    83.158\n",
       "Name: Fare, dtype: float64"
      ]
     },
     "execution_count": 32,
     "metadata": {},
     "output_type": "execute_result"
    }
   ],
   "source": [
    "# Loc ile aykırı değerler\n",
    "df.loc[((df[\"Fare\"] < low) | (df[\"Fare\"] > up)), \"Fare\"]"
   ]
  },
  {
   "cell_type": "code",
   "execution_count": 33,
   "metadata": {},
   "outputs": [],
   "source": [
    "# Üst sınırın üzerinde olan değerleri üst değere baskılayalım.\n",
    "df.loc[(df[\"Fare\"] > up), \"Fare\"] = up"
   ]
  },
  {
   "cell_type": "code",
   "execution_count": 34,
   "metadata": {},
   "outputs": [
    {
     "data": {
      "text/plain": [
       "Series([], Name: Fare, dtype: float64)"
      ]
     },
     "execution_count": 34,
     "metadata": {},
     "output_type": "execute_result"
    }
   ],
   "source": [
    "# Bakalim üst sınırın üzerinde değerler kaldı mı?\n",
    "df.loc[(df[\"Fare\"] > up), \"Fare\"] # Boş"
   ]
  },
  {
   "cell_type": "code",
   "execution_count": 35,
   "metadata": {},
   "outputs": [
    {
     "data": {
      "text/plain": [
       "Series([], Name: Fare, dtype: float64)"
      ]
     },
     "execution_count": 35,
     "metadata": {},
     "output_type": "execute_result"
    }
   ],
   "source": [
    "# Alt sınırın altında olan değerler var mı?\n",
    "df.loc[(df[\"Fare\"] < low), \"Fare\"]\n",
    "# Yok, çünkü Fare değişkenin alt sınırı sıfırın altında Fare değişkeninin ölçek türü oran olduğu için sıfırın altında gözleme sahip değildir.\n",
    "# Oran sayısal değişkeni: Başlangıç noktası sıfır kabul edilen sayısal değişkenlerin ölçek türü orandır.\n",
    "\n",
    "# Eğer olsaydı alt sınırın altında olan değerleri alt değere baskılamak için:\n",
    "# df.loc[(df[\"Fare\"] < low), \"Fare\"] = low"
   ]
  },
  {
   "cell_type": "code",
   "execution_count": 37,
   "metadata": {},
   "outputs": [],
   "source": [
    "# Baskılama fonksiyonunu yazalım\n",
    "def replace_with_thresholds(dataframe, variable):\n",
    "    low_limit, up_limit = outlier_thresholds(dataframe,variable)\n",
    "    dataframe.loc[(dataframe[variable] < low_limit), variable] = low_limit\n",
    "    dataframe.loc[(dataframe[variable] > up_limit), variable] = up_limit"
   ]
  },
  {
   "cell_type": "code",
   "execution_count": 40,
   "metadata": {},
   "outputs": [],
   "source": [
    "df = load()"
   ]
  },
  {
   "cell_type": "code",
   "execution_count": 41,
   "metadata": {},
   "outputs": [
    {
     "data": {
      "text/plain": [
       "(891, 12)"
      ]
     },
     "execution_count": 41,
     "metadata": {},
     "output_type": "execute_result"
    }
   ],
   "source": [
    "df.shape"
   ]
  },
  {
   "cell_type": "code",
   "execution_count": 43,
   "metadata": {},
   "outputs": [
    {
     "name": "stdout",
     "output_type": "stream",
     "text": [
      "Observations: 891\n",
      "Variables: 12\n",
      "cat_cols: 6\n",
      "num_cols: 3\n",
      "cat_but_car: 3\n",
      "******************\n",
      "num_but_cat: 4\n"
     ]
    }
   ],
   "source": [
    "cat_cols, num_cols, cat_but_car = grab_col_names(df)\n",
    "num_cols = [col for col in num_cols if col not in \"PassengerId\"]"
   ]
  },
  {
   "cell_type": "code",
   "execution_count": 44,
   "metadata": {},
   "outputs": [
    {
     "name": "stdout",
     "output_type": "stream",
     "text": [
      "Age True\n",
      "Fare True\n"
     ]
    }
   ],
   "source": [
    "# Aykırı değerler var mı?\n",
    "for col in num_cols:\n",
    "    print(col, check_outlier(df, col))"
   ]
  },
  {
   "cell_type": "code",
   "execution_count": 45,
   "metadata": {},
   "outputs": [],
   "source": [
    "# Aykırı değerleri baskılayalım\n",
    "for col in num_cols:\n",
    "    replace_with_thresholds(df, col)"
   ]
  },
  {
   "cell_type": "code",
   "execution_count": 46,
   "metadata": {},
   "outputs": [
    {
     "name": "stdout",
     "output_type": "stream",
     "text": [
      "Age False\n",
      "Fare False\n"
     ]
    }
   ],
   "source": [
    "# Tekrar bakalım aykırı değerler var mı?\n",
    "for col in num_cols:\n",
    "    print(col, check_outlier(df, col))"
   ]
  },
  {
   "cell_type": "code",
   "execution_count": null,
   "metadata": {},
   "outputs": [],
   "source": []
  }
 ],
 "metadata": {
  "kernelspec": {
   "display_name": "Python 3.10.5 64-bit (windows store)",
   "language": "python",
   "name": "python3"
  },
  "language_info": {
   "codemirror_mode": {
    "name": "ipython",
    "version": 3
   },
   "file_extension": ".py",
   "mimetype": "text/x-python",
   "name": "python",
   "nbconvert_exporter": "python",
   "pygments_lexer": "ipython3",
   "version": "3.10.5"
  },
  "orig_nbformat": 4,
  "vscode": {
   "interpreter": {
    "hash": "bdeb59d3b64914835d647b3375aaf9a9a525da8506b206b2e4c562ce2d2d091a"
   }
  }
 },
 "nbformat": 4,
 "nbformat_minor": 2
}
