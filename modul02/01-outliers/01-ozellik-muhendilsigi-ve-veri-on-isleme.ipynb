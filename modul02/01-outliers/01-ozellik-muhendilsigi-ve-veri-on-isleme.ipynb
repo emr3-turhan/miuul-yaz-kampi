{
 "cells": [
  {
   "cell_type": "markdown",
   "metadata": {},
   "source": [
    "## **Özellik Mühendisliği & Veri Ön İşleme**\n",
    "## **(Feature Engineering & Data Pre-Processing)**\n",
    "\n",
    "> Özellik Mühendisliği:\n",
    "\n",
    "Özellikler üzerinde gerçekleştirilen çalışmalar.\n",
    "\n",
    "Ham veriden değişken üretmek.\n",
    "\n",
    "> Veri Ön İşleme:\n",
    "\n",
    "Çalışmalar öncesi verinin uygun hale getirilmesi sürecidir.\n"
   ]
  },
  {
   "cell_type": "markdown",
   "metadata": {},
   "source": [
    "#### IQR\n",
    "\n",
    "IQR = Q3 - Q1\n",
    "\n",
    "Yani \n",
    "\n",
    "IQR = 0.75(Değer) - 0.25(Değer)"
   ]
  },
  {
   "cell_type": "markdown",
   "metadata": {},
   "source": []
  }
 ],
 "metadata": {
  "kernelspec": {
   "display_name": "Python 3.10.5 64-bit (windows store)",
   "language": "python",
   "name": "python3"
  },
  "language_info": {
   "name": "python",
   "version": "3.10.5"
  },
  "orig_nbformat": 4,
  "vscode": {
   "interpreter": {
    "hash": "bdeb59d3b64914835d647b3375aaf9a9a525da8506b206b2e4c562ce2d2d091a"
   }
  }
 },
 "nbformat": 4,
 "nbformat_minor": 2
}
