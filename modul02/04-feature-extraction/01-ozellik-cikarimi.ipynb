{
 "cells": [
  {
   "cell_type": "markdown",
   "metadata": {},
   "source": [
    "### **Özellik Çıkarımı (Feature Extraction)**\n",
    "\n",
    "Ham veriden değişken üretmek demektir. 2 kapsamda düşünülebilir.\n",
    "1. Yapısal verilerden değişken üretmek. (Mevcut veriler üzerinden değişken üretmek)\n",
    "2. Yapısal olmayan verilerden değişken üretmek. (Görüntü, ses, yazı vb...)\n",
    "\n",
    "\n",
    "> Neden özeelik çıkarımı yapılır?\n",
    "\n",
    "Yapısal olmayan verileri bazı algoritmalarda kullanabilmek için matematiksel temsillere dönüştürmek gerekir.\n",
    "\n",
    "<table><tbody><tr><th>Timestamp</th></tr><tr><td>2021-02-05 07:45</td></tr><tr><td>2021-02-04 21:05</td></tr><tr><td>2019-05-17 09:51</td></tr><tr><td>2019-05-16 21:27</td></tr><tr><td>2019-05-16 13:40</td></tr></tbody></table>\n",
    "\n",
    "Timestamp değişkenini düşünelim buradan hangi değişkenler üretilebilir.\n",
    "\n",
    "<table><tbody><tr><th>Timestamp</th><th>Year</th><th>Month</th><th>Day</th><th>Hour</th></tr><tr><td>2021-02-05 07:45</td><td>2021</td><td>2</td><td>5</td><td>7</td></tr><tr><td>2021-02-04 21:05</td><td>2021</td><td>2</td><td>4</td><td>21</td></tr><tr><td>2019-05-17 09:51</td><td>2019</td><td>5</td><td>17</td><td>9</td></tr><tr><td>2019-05-16 21:27</td><td>2019</td><td>5</td><td>16</td><td>21</td></tr><tr><td>2019-05-16 13:40</td><td>2019</td><td>5</td><td>16</td><td>13</td></tr></tbody></table>\n",
    "\n",
    "Şeklinde 4 yeni değişken üretilebilir. (İstenirse Minute (Dakika) değişkeni bile eklenir. Gün isimleri vb.) "
   ]
  },
  {
   "cell_type": "code",
   "execution_count": null,
   "metadata": {},
   "outputs": [],
   "source": []
  }
 ],
 "metadata": {
  "kernelspec": {
   "display_name": "Python 3.10.5 64-bit (windows store)",
   "language": "python",
   "name": "python3"
  },
  "language_info": {
   "name": "python",
   "version": "3.10.5"
  },
  "orig_nbformat": 4,
  "vscode": {
   "interpreter": {
    "hash": "bdeb59d3b64914835d647b3375aaf9a9a525da8506b206b2e4c562ce2d2d091a"
   }
  }
 },
 "nbformat": 4,
 "nbformat_minor": 2
}
