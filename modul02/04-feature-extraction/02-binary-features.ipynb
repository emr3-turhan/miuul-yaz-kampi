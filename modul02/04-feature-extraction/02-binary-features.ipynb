{
 "cells": [
  {
   "cell_type": "markdown",
   "metadata": {},
   "source": [
    "### **Binary Features: Flag, Bool, True-False**"
   ]
  },
  {
   "cell_type": "code",
   "execution_count": 17,
   "metadata": {},
   "outputs": [],
   "source": [
    "##################### GEÇMİŞ TANIMLAMALAR ##############################\n",
    "\n",
    "# Kütüphaneler\n",
    "import numpy as np\n",
    "import pandas as pd\n",
    "import seaborn as sns\n",
    "from matplotlib import pyplot as plt\n",
    "# pip install missingno\n",
    "import missingno as msno\n",
    "from datetime import date\n",
    "from sklearn.metrics import accuracy_score\n",
    "from sklearn.model_selection import train_test_split\n",
    "from sklearn.neighbors import LocalOutlierFactor\n",
    "from sklearn.preprocessing import MinMaxScaler, LabelEncoder, StandardScaler, RobustScaler\n",
    "\n",
    "\n",
    "# Pandas ayarları\n",
    "pd.set_option('display.max_columns', None)\n",
    "pd.set_option('display.max_rows', None)\n",
    "pd.set_option('display.float_format', lambda x: '%.3f' % x)\n",
    "pd.set_option('display.width', 500)\n",
    "\n",
    "\n",
    "# Veri setleri\n",
    "def load_application_train():\n",
    "    data = pd.read_csv('../01-outliers/application_train.csv')\n",
    "    return data\n",
    "\n",
    "def load():\n",
    "    data = pd.read_csv('../01-outliers/titanic.csv')\n",
    "    return data"
   ]
  },
  {
   "cell_type": "code",
   "execution_count": 18,
   "metadata": {},
   "outputs": [
    {
     "data": {
      "text/html": [
       "<div>\n",
       "<style scoped>\n",
       "    .dataframe tbody tr th:only-of-type {\n",
       "        vertical-align: middle;\n",
       "    }\n",
       "\n",
       "    .dataframe tbody tr th {\n",
       "        vertical-align: top;\n",
       "    }\n",
       "\n",
       "    .dataframe thead th {\n",
       "        text-align: right;\n",
       "    }\n",
       "</style>\n",
       "<table border=\"1\" class=\"dataframe\">\n",
       "  <thead>\n",
       "    <tr style=\"text-align: right;\">\n",
       "      <th></th>\n",
       "      <th>PassengerId</th>\n",
       "      <th>Survived</th>\n",
       "      <th>Pclass</th>\n",
       "      <th>Name</th>\n",
       "      <th>Sex</th>\n",
       "      <th>Age</th>\n",
       "      <th>SibSp</th>\n",
       "      <th>Parch</th>\n",
       "      <th>Ticket</th>\n",
       "      <th>Fare</th>\n",
       "      <th>Cabin</th>\n",
       "      <th>Embarked</th>\n",
       "    </tr>\n",
       "  </thead>\n",
       "  <tbody>\n",
       "    <tr>\n",
       "      <th>0</th>\n",
       "      <td>1</td>\n",
       "      <td>0</td>\n",
       "      <td>3</td>\n",
       "      <td>Braund, Mr. Owen Harris</td>\n",
       "      <td>male</td>\n",
       "      <td>22.000</td>\n",
       "      <td>1</td>\n",
       "      <td>0</td>\n",
       "      <td>A/5 21171</td>\n",
       "      <td>7.250</td>\n",
       "      <td>NaN</td>\n",
       "      <td>S</td>\n",
       "    </tr>\n",
       "    <tr>\n",
       "      <th>1</th>\n",
       "      <td>2</td>\n",
       "      <td>1</td>\n",
       "      <td>1</td>\n",
       "      <td>Cumings, Mrs. John Bradley (Florence Briggs Th...</td>\n",
       "      <td>female</td>\n",
       "      <td>38.000</td>\n",
       "      <td>1</td>\n",
       "      <td>0</td>\n",
       "      <td>PC 17599</td>\n",
       "      <td>71.283</td>\n",
       "      <td>C85</td>\n",
       "      <td>C</td>\n",
       "    </tr>\n",
       "    <tr>\n",
       "      <th>2</th>\n",
       "      <td>3</td>\n",
       "      <td>1</td>\n",
       "      <td>3</td>\n",
       "      <td>Heikkinen, Miss. Laina</td>\n",
       "      <td>female</td>\n",
       "      <td>26.000</td>\n",
       "      <td>0</td>\n",
       "      <td>0</td>\n",
       "      <td>STON/O2. 3101282</td>\n",
       "      <td>7.925</td>\n",
       "      <td>NaN</td>\n",
       "      <td>S</td>\n",
       "    </tr>\n",
       "    <tr>\n",
       "      <th>3</th>\n",
       "      <td>4</td>\n",
       "      <td>1</td>\n",
       "      <td>1</td>\n",
       "      <td>Futrelle, Mrs. Jacques Heath (Lily May Peel)</td>\n",
       "      <td>female</td>\n",
       "      <td>35.000</td>\n",
       "      <td>1</td>\n",
       "      <td>0</td>\n",
       "      <td>113803</td>\n",
       "      <td>53.100</td>\n",
       "      <td>C123</td>\n",
       "      <td>S</td>\n",
       "    </tr>\n",
       "    <tr>\n",
       "      <th>4</th>\n",
       "      <td>5</td>\n",
       "      <td>0</td>\n",
       "      <td>3</td>\n",
       "      <td>Allen, Mr. William Henry</td>\n",
       "      <td>male</td>\n",
       "      <td>35.000</td>\n",
       "      <td>0</td>\n",
       "      <td>0</td>\n",
       "      <td>373450</td>\n",
       "      <td>8.050</td>\n",
       "      <td>NaN</td>\n",
       "      <td>S</td>\n",
       "    </tr>\n",
       "  </tbody>\n",
       "</table>\n",
       "</div>"
      ],
      "text/plain": [
       "   PassengerId  Survived  Pclass                                               Name     Sex    Age  SibSp  Parch            Ticket   Fare Cabin Embarked\n",
       "0            1         0       3                            Braund, Mr. Owen Harris    male 22.000      1      0         A/5 21171  7.250   NaN        S\n",
       "1            2         1       1  Cumings, Mrs. John Bradley (Florence Briggs Th...  female 38.000      1      0          PC 17599 71.283   C85        C\n",
       "2            3         1       3                             Heikkinen, Miss. Laina  female 26.000      0      0  STON/O2. 3101282  7.925   NaN        S\n",
       "3            4         1       1       Futrelle, Mrs. Jacques Heath (Lily May Peel)  female 35.000      1      0            113803 53.100  C123        S\n",
       "4            5         0       3                           Allen, Mr. William Henry    male 35.000      0      0            373450  8.050   NaN        S"
      ]
     },
     "execution_count": 18,
     "metadata": {},
     "output_type": "execute_result"
    }
   ],
   "source": [
    "df = load()\n",
    "df.head()"
   ]
  },
  {
   "cell_type": "code",
   "execution_count": 19,
   "metadata": {},
   "outputs": [],
   "source": [
    "# Cabin değişkeninin null değerlerine 0 diğerlerinin değerleri 1 olan NEW_CABIN_BOOL değişkenini oluşturalım.\n",
    " \n",
    "df[\"NEW_CABIN_BOOL\"] = df[\"Cabin\"].notnull().astype(\"int64\")"
   ]
  },
  {
   "cell_type": "code",
   "execution_count": 20,
   "metadata": {},
   "outputs": [
    {
     "data": {
      "text/html": [
       "<div>\n",
       "<style scoped>\n",
       "    .dataframe tbody tr th:only-of-type {\n",
       "        vertical-align: middle;\n",
       "    }\n",
       "\n",
       "    .dataframe tbody tr th {\n",
       "        vertical-align: top;\n",
       "    }\n",
       "\n",
       "    .dataframe thead th {\n",
       "        text-align: right;\n",
       "    }\n",
       "</style>\n",
       "<table border=\"1\" class=\"dataframe\">\n",
       "  <thead>\n",
       "    <tr style=\"text-align: right;\">\n",
       "      <th></th>\n",
       "      <th>Survived</th>\n",
       "    </tr>\n",
       "    <tr>\n",
       "      <th>NEW_CABIN_BOOL</th>\n",
       "      <th></th>\n",
       "    </tr>\n",
       "  </thead>\n",
       "  <tbody>\n",
       "    <tr>\n",
       "      <th>0</th>\n",
       "      <td>0.300</td>\n",
       "    </tr>\n",
       "    <tr>\n",
       "      <th>1</th>\n",
       "      <td>0.667</td>\n",
       "    </tr>\n",
       "  </tbody>\n",
       "</table>\n",
       "</div>"
      ],
      "text/plain": [
       "                Survived\n",
       "NEW_CABIN_BOOL          \n",
       "0                  0.300\n",
       "1                  0.667"
      ]
     },
     "execution_count": 20,
     "metadata": {},
     "output_type": "execute_result"
    }
   ],
   "source": [
    "# Şimdi NEW_CABIN_BOOL değişkenine göre group by işlemi yapıp kabini belirli olanlarla kabini belirsiz olanların hayatta kalma oranlarına bakalım.\n",
    "df.groupby(\"NEW_CABIN_BOOL\").agg({\"Survived\": \"mean\"}) # pandas.core.groupby.DataFrame\n",
    "\n",
    "# df.groupby(\"NEW_CABIN_BOOL\")[\"Survived\"].mean() # pandas.core.series.Series\n",
    "\n"
   ]
  },
  {
   "cell_type": "code",
   "execution_count": 25,
   "metadata": {},
   "outputs": [
    {
     "name": "stdout",
     "output_type": "stream",
     "text": [
      "Test Stat = 9.4597, p-value = 0.0000\n"
     ]
    }
   ],
   "source": [
    "# İki grup arasında gerçekten de anlamlı bir ilişki var mı bunun için \"Tek Örneklem Oran Testi\" yapalım.\n",
    "from statsmodels.stats.proportion import proportions_ztest\n",
    "\n",
    "test_stat, pvalue = proportions_ztest(count = [df.loc[df[\"NEW_CABIN_BOOL\"] == 1, \"Survived\"].sum(), df.loc[df[\"NEW_CABIN_BOOL\"] == 0, \"Survived\"].sum()],\n",
    "                                       nobs = [df.loc[df[\"NEW_CABIN_BOOL\"] == 1, \"Survived\"].shape[0], df.loc[df[\"NEW_CABIN_BOOL\"] == 0, \"Survived\"].shape[0]])\n",
    "\n",
    "print(\"Test Stat = %.4f, p-value = %.4f\" % (test_stat, pvalue))\n",
    "\n",
    "# p-value değeri 0.05 ten düşük ise anlamlı bir ilişki vardır çıkarımı yapabiliriz."
   ]
  },
  {
   "cell_type": "code",
   "execution_count": 26,
   "metadata": {},
   "outputs": [],
   "source": [
    "# Çıkarım yapalım. Yolcunun yalnız olup olmadığını belirleyelim.\n",
    "\n",
    "df.loc[((df[\"SibSp\"] + df[\"Parch\"]) > 0), \"NEW_IS_ALONE\"] = \"NO\"\n",
    "df.loc[((df[\"SibSp\"] + df[\"Parch\"]) == 0), \"NEW_IS_ALONE\"] = \"YES\""
   ]
  },
  {
   "cell_type": "code",
   "execution_count": 27,
   "metadata": {},
   "outputs": [
    {
     "data": {
      "text/html": [
       "<div>\n",
       "<style scoped>\n",
       "    .dataframe tbody tr th:only-of-type {\n",
       "        vertical-align: middle;\n",
       "    }\n",
       "\n",
       "    .dataframe tbody tr th {\n",
       "        vertical-align: top;\n",
       "    }\n",
       "\n",
       "    .dataframe thead th {\n",
       "        text-align: right;\n",
       "    }\n",
       "</style>\n",
       "<table border=\"1\" class=\"dataframe\">\n",
       "  <thead>\n",
       "    <tr style=\"text-align: right;\">\n",
       "      <th></th>\n",
       "      <th>Survived</th>\n",
       "    </tr>\n",
       "    <tr>\n",
       "      <th>NEW_IS_ALONE</th>\n",
       "      <th></th>\n",
       "    </tr>\n",
       "  </thead>\n",
       "  <tbody>\n",
       "    <tr>\n",
       "      <th>NO</th>\n",
       "      <td>0.506</td>\n",
       "    </tr>\n",
       "    <tr>\n",
       "      <th>YES</th>\n",
       "      <td>0.304</td>\n",
       "    </tr>\n",
       "  </tbody>\n",
       "</table>\n",
       "</div>"
      ],
      "text/plain": [
       "              Survived\n",
       "NEW_IS_ALONE          \n",
       "NO               0.506\n",
       "YES              0.304"
      ]
     },
     "execution_count": 27,
     "metadata": {},
     "output_type": "execute_result"
    }
   ],
   "source": [
    "# Yalnız olanların yalnız olmayanlara göre hayatta kalma oranı inceleyelim.\n",
    "df.groupby(\"NEW_IS_ALONE\").agg({\"Survived\": \"mean\"})"
   ]
  },
  {
   "cell_type": "code",
   "execution_count": 29,
   "metadata": {},
   "outputs": [
    {
     "name": "stdout",
     "output_type": "stream",
     "text": [
      "Test Stat = -6.0704, p-value = 0.0000\n"
     ]
    }
   ],
   "source": [
    "# İki grup arasında gerçekten de anlamlı bir ilişki var mı bunun için \"Tek Örneklem Oran Testi\" yapalım.\n",
    "from statsmodels.stats.proportion import proportions_ztest\n",
    "\n",
    "test_stat, pvalue = proportions_ztest(count = [df.loc[df[\"NEW_IS_ALONE\"] == 'YES', \"Survived\"].sum(), df.loc[df[\"NEW_IS_ALONE\"] == 'NO', \"Survived\"].sum()],\n",
    "                                       nobs = [df.loc[df[\"NEW_IS_ALONE\"] == 'YES', \"Survived\"].shape[0], df.loc[df[\"NEW_IS_ALONE\"] == 'NO', \"Survived\"].shape[0]])\n",
    "\n",
    "print(\"Test Stat = %.4f, p-value = %.4f\" % (test_stat, pvalue))\n",
    "\n",
    "# p-value değeri 0.05 ten düşük ise anlamlı bir ilişki vardır çıkarımı yapabiliriz."
   ]
  }
 ],
 "metadata": {
  "kernelspec": {
   "display_name": "Python 3.10.5 64-bit (windows store)",
   "language": "python",
   "name": "python3"
  },
  "language_info": {
   "codemirror_mode": {
    "name": "ipython",
    "version": 3
   },
   "file_extension": ".py",
   "mimetype": "text/x-python",
   "name": "python",
   "nbconvert_exporter": "python",
   "pygments_lexer": "ipython3",
   "version": "3.10.5"
  },
  "orig_nbformat": 4,
  "vscode": {
   "interpreter": {
    "hash": "bdeb59d3b64914835d647b3375aaf9a9a525da8506b206b2e4c562ce2d2d091a"
   }
  }
 },
 "nbformat": 4,
 "nbformat_minor": 2
}
