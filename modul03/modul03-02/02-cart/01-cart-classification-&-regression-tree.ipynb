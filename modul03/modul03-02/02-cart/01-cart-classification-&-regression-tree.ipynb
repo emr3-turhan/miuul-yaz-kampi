{
 "cells": [
  {
   "cell_type": "markdown",
   "metadata": {},
   "source": [
    "### CART (Classification & Regression Tree)\n",
    "\n",
    "Karar Ağacı Yöntemleri\n",
    "\n",
    "1984,Leo Breiman tarafından oluşturulmuştur.\n",
    "\n",
    "Randomforest algoritmasının temelinde de CART vardır.\n",
    "\n",
    "Amaç veri seti içerisindeki karmaşık yapıları basit karar yapılarına dönüştürmektir.\n",
    "\n",
    "Heterojen veri setleri belirlenmiş bir hedef değişkene göre homojen alt gruplara ayrılır.\n",
    "\n",
    "Kaggle yarışmalarında kullanılan LightGBM, XGBoost karar ağacı yöntemlerini kullanmaktadır.\n",
    "\n",
    "Görüntü işlemede , metin işlemede derin öğrenme temelli yöntemler daha iyidir.\n",
    "\n",
    "RSS(SSE): ∑ ∑ (y(i) - y(tahmin)(R(j)))^2\n",
    "        j=1 i∈R(i)\n",
    "\n",
    "R(j): bölge/yaprak/kutu\n",
    "\n",
    "Karar ağaçlarını nereden böleceğimiz çok önemlidir. En az hata veren yerden bölünmelidir.\n",
    "\n",
    "Hata kareler toplamı en düşük olan değişken önem seviyesi en yüksek olan değişkendir. Karar ağacında en tepede yer alır.\n",
    "\n",
    "Dallara ayırırken 2 problem karşımıza çıkar.\n",
    "\n",
    "1. Ne kadar dallanıcam? Kaç katman?\n",
    "2. Kaç gözlem kalana kadar bölmeye devam edeceğim? (min_samples_split argümanı)\n",
    "\n",
    "Dallanmalar sayesinde model çok iyi öğrenebilir bu yüzden overfit olmaya meyillidir.\n",
    "\n",
    "Ne kadar düşük entropi o kadar iyidir."
   ]
  },
  {
   "cell_type": "code",
   "execution_count": null,
   "metadata": {},
   "outputs": [],
   "source": [
    "# CART "
   ]
  }
 ],
 "metadata": {
  "kernelspec": {
   "display_name": "Python 3.10.6 64-bit (windows store)",
   "language": "python",
   "name": "python3"
  },
  "language_info": {
   "name": "python",
   "version": "3.10.6"
  },
  "orig_nbformat": 4,
  "vscode": {
   "interpreter": {
    "hash": "bdeb59d3b64914835d647b3375aaf9a9a525da8506b206b2e4c562ce2d2d091a"
   }
  }
 },
 "nbformat": 4,
 "nbformat_minor": 2
}
