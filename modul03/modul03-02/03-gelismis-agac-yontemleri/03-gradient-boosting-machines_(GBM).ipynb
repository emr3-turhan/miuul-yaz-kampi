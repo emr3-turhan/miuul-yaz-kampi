{
 "cells": [
  {
   "cell_type": "markdown",
   "metadata": {},
   "source": [
    "### Gradient Boosting Machines (GBM)\n",
    "\n",
    "- AdaBoost (Adaptive Boosting)\n",
    "\n",
    "Zayıf sınıflandırıcıların bir araya gelerek güçlü bir sınıflandırıcı oluşturması fikrine dayanır.\n",
    "\n",
    "\n",
    "- Gradient Boosting Machines (GBM)\n",
    "\n",
    "Hatalar / artıklar tek bir tahninsel model formunda olan modeller serisi kurulur.\n",
    "\n",
    "Boosting + Gradiendt Descent\n",
    "\n",
    "Gradient boosting tek bir tahminsel model formunda olan modeller serisi oluşturur.\n",
    "\n",
    "Seri içerisindeki bir model serideki bir önceki modelin tahmin artıklarının / hatalarının (residuals) üzerine kurularak (fit) oluşturulur.\n",
    "\n",
    "GBM diferansiyellenebilen herhangi bir kayıp fonksiyonunu optimize edebilen Gradient descent algoritmasını kullanmaktadır.\n",
    "\n",
    "Tek bir tahminsel model formunda olan modeller serisi additive şekilde kurulur."
   ]
  },
  {
   "cell_type": "markdown",
   "metadata": {},
   "source": [
    "- ##### GBM\n",
    "- Additive Modeling\n",
    " \n",
    "\n"
   ]
  },
  {
   "cell_type": "code",
   "execution_count": null,
   "metadata": {},
   "outputs": [],
   "source": []
  }
 ],
 "metadata": {
  "kernelspec": {
   "display_name": "Python 3.10.6 64-bit (windows store)",
   "language": "python",
   "name": "python3"
  },
  "language_info": {
   "name": "python",
   "version": "3.10.6"
  },
  "orig_nbformat": 4,
  "vscode": {
   "interpreter": {
    "hash": "bdeb59d3b64914835d647b3375aaf9a9a525da8506b206b2e4c562ce2d2d091a"
   }
  }
 },
 "nbformat": 4,
 "nbformat_minor": 2
}
