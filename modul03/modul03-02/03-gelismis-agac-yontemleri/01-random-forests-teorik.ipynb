{
 "cells": [
  {
   "cell_type": "markdown",
   "metadata": {},
   "source": [
    "### Random Forests (Rastgele Ormanlar)\n",
    "\n",
    "2001 - Leo Breiman\n",
    "\n",
    "Temeli birden çok karar ağacının ürettiği tahminlerin bir araya getirilerek değerlendirilmesine dayanır.\n",
    "\n",
    "- Bagging (Bootstrap Aggregation) (Breiman, 1996) ile Random Subspace (Ho, 1998) yöntemlerinin birleşimi ile oluşmuştur.\n",
    "\n",
    "- Ağaçlar için gözlemler bootstrap rastgele örnek seçim yöntemi ile <b>değişkenler random subspace yöntemi ile seçilir.</b>\n",
    "\n",
    "- Karar ağacının her bir düğümünde en iyi dallara ayırıcı (bilgi kazancı) değişken tüm değişkenler arasından rastgele seçilen daha az sayıdaki değişken arasından seçilir. \n",
    "\n",
    "> Rastgele ağaçlar yöntemi rastgeleliğini nereden aliyor?\n",
    "\n",
    "1. Gözlem birimleri rastgele seçerek n tane ağaç oluşturur.\n",
    "2. Tüm değişkenlerin değil rastgele seçilen bir kısmının (örn:20) dallanması (kurallarının belirlenmesi) sağlanır.\n",
    "\n",
    "- Ağaç oluşturmada veri setinin 2/3'ü kullanılır. Dışarıda kalan veri ağaçlarının performans değerlendirmesi ve değişken öneminin belirlenmesi için kullanılır.\n",
    "\n",
    "- Her düşüm noktsında rastgele değişken seçimi yapılır. (regresyon'da p/3ö sınıflama da karekök p)\n",
    "\n",
    "##### Bagging Yöntemi\n",
    "\n",
    "Birden çok ağacın rastgele seçilen gözlemlerden fit edilmesi ve dallanmanın yine rastgele seçilen değişkenler ile yapılmasıyla oluşturulmuş yöntemdir..\n"
   ]
  }
 ],
 "metadata": {
  "kernelspec": {
   "display_name": "Python 3.10.6 64-bit (windows store)",
   "language": "python",
   "name": "python3"
  },
  "language_info": {
   "name": "python",
   "version": "3.10.6"
  },
  "orig_nbformat": 4,
  "vscode": {
   "interpreter": {
    "hash": "bdeb59d3b64914835d647b3375aaf9a9a525da8506b206b2e4c562ce2d2d091a"
   }
  }
 },
 "nbformat": 4,
 "nbformat_minor": 2
}
