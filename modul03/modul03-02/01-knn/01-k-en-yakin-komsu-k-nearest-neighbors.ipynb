{
 "cells": [
  {
   "cell_type": "markdown",
   "metadata": {},
   "source": [
    "### K-En Yakın Komşu (K-Nearest Neighbors)\n",
    "\n",
    "Gözlemlerin birbirine olan benzerlikleri üzerinden tahmin yapılır.\n",
    "\n",
    "Y tahmin değerini bulmak için k-en yakın komşu kullanılır. Bunun için öklid ya da benzeri bir uzaklık hesabı ile her gözleme uzaklık hesaplanır.\n",
    "\n",
    "<img src=\"https://miro.medium.com/max/753/0*jqxx3-dJqFjXD6FA\" style=\"width:500px\">\n",
    "\n",
    "Komşuların ortalamaları ile tahmin etme gerçekleşir.\n",
    "\n",
    "En yakın K adet gözlemin y değerlerinin en sık gözlenen frekansı tahmin edilen sınıf olur."
   ]
  },
  {
   "cell_type": "code",
   "execution_count": null,
   "metadata": {},
   "outputs": [],
   "source": []
  }
 ],
 "metadata": {
  "kernelspec": {
   "display_name": "Python 3.10.6 64-bit (windows store)",
   "language": "python",
   "name": "python3"
  },
  "language_info": {
   "name": "python",
   "version": "3.10.6"
  },
  "orig_nbformat": 4,
  "vscode": {
   "interpreter": {
    "hash": "bdeb59d3b64914835d647b3375aaf9a9a525da8506b206b2e4c562ce2d2d091a"
   }
  }
 },
 "nbformat": 4,
 "nbformat_minor": 2
}
