{
 "cells": [
  {
   "cell_type": "markdown",
   "metadata": {},
   "source": [
    "## Makine Öğrenmesi ile Maaş Tahmini\n",
    "\n",
    "### İş Problemi\n",
    "\n",
    "Maaş bilgileri ve 1986 yılına ait kariyer istatistikleri paylaşılan beyzbol\n",
    "oyuncularının maaş tahminleri için bir makine öğrenmesi modeli geliştiriniz.\n",
    "\n",
    "### Veri Seti Hikayesi\n",
    "\n",
    "Bu veri seti orijinal olarak Carnegie Mellon Üniversitesi'nde bulunan\n",
    "StatLib kütüphanesinden alınmıştır. Veri seti 1988 ASA Grafik Bölümü\n",
    "Poster Oturumu'nda kullanılan verilerin bir parçasıdır. Maaş verileri\n",
    "orijinal olarak Sports Illustrated, 20 Nisan 1987'den alınmıştır. 1986 ve\n",
    "kariyer istatistikleri, Collier Books, Macmillan Publishing Company,\n",
    "New York tarafından yayınlanan 1987 Beyzbol Ansiklopedisi\n",
    "Güncellemesinden elde edilmiştir.\n",
    "\n",
    "### Değişkenler\n",
    "\n",
    "<table><tbody><tr><td>AtBat </td><td>1986-1987 sezonunda bir beyzbol sopası ile topa yapılan vuruş sayısı</td></tr><tr><td>Hits </td><td>1986-1987 sezonundaki isabet sayısı</td></tr><tr><td>HmRun </td><td>1986-1987 sezonundaki en değerli vuruş sayısı</td></tr><tr><td>Runs</td><td> 1986-1987 sezonunda takımına kazandırdığı sayı</td></tr><tr><td>RBI </td><td>Bir vurucunun vuruş yaptıgında koşu yaptırdığı oyuncu sayısı</td></tr><tr><td>Walks </td><td>Karşı oyuncuya yaptırılan hata sayısı</td></tr><tr><td>Years</td><td> Oyuncunun major liginde oynama süresi (sene)</td></tr><tr><td>CAtBat</td><td> Oyuncunun kariyeri boyunca topa vurma sayısı</td></tr><tr><td>CHits</td><td> Oyuncunun kariyeri boyunca yaptığı isabetli vuruş sayısı</td></tr><tr><td>CHmRun</td><td> Oyucunun kariyeri boyunca yaptığı en değerli sayısı</td></tr><tr><td>CRuns</td><td> Oyuncunun kariyeri boyunca takımına kazandırdığı sayı</td></tr><tr><td>CRBI</td><td> Oyuncunun kariyeri boyunca koşu yaptırdırdığı oyuncu sayısı</td></tr><tr><td>CWalks </td><td>Oyuncun kariyeri boyunca karşı oyuncuya yaptırdığı hata sayısı</td></tr><tr><td>League</td><td> Oyuncunun sezon sonuna kadar oynadığı ligi gösteren A ve N seviyelerine sahip bir faktör</td></tr><tr><td>Division </td><td>1986 sonunda oyuncunun oynadığı pozisyonu gösteren E ve W seviyelerine sahip bir faktör</td></tr><tr><td>PutOuts </td><td>Oyun icinde takım arkadaşınla yardımlaşma</td></tr><tr><td>Assits </td><td>1986-1987 sezonunda oyuncunun yaptığı asist sayısı</td></tr><tr><td>Errors </td><td>1986-1987 sezonundaki oyuncunun hata sayısı</td></tr><tr><td>Salary</td><td> Oyuncunun 1986-1987 sezonunda aldığı maaş(bin uzerinden)</td></tr><tr><td>NewLeague</td><td>1987 sezonunun başında oyuncunun ligini gösteren A ve N seviyelerine sahip bir faktör</td></tr></tbody></table>\n",
    "\n",
    "<b>Değişken Sayısı: </b> 20\n",
    "\n",
    "<b>Gözlem Sayısı: </b> 322\n",
    "\n",
    "<b>Dosya Boyutu: </b> 21KB\n",
    "\n",
    "### Görev\n",
    "\n",
    "- Veri ön işleme,\n",
    "- Özellik mühendisliği\n",
    "\n",
    "işlemleri gerçekleştirerek maaş tahmin modeli geliştiriniz.\n",
    "\n"
   ]
  },
  {
   "cell_type": "code",
   "execution_count": 1,
   "metadata": {},
   "outputs": [],
   "source": [
    "import warnings\n",
    "import pandas as pd\n",
    "import missingno as msno\n",
    "from sklearn.metrics import mean_squared_error, mean_absolute_error\n",
    "from sklearn.preprocessing import StandardScaler, RobustScaler\n",
    "\n",
    "from data_prep import *\n",
    "from eda import *\n",
    "from sklearn.metrics import mean_squared_error\n",
    "from sklearn.model_selection import train_test_split, GridSearchCV, cross_val_score\n",
    "\n",
    "# Tum Base Modeller\n",
    "from catboost import CatBoostRegressor\n",
    "from lightgbm import LGBMRegressor\n",
    "from sklearn.ensemble import RandomForestRegressor, GradientBoostingRegressor\n",
    "from sklearn.linear_model import LinearRegression, Ridge, Lasso, ElasticNet\n",
    "from sklearn.neighbors import KNeighborsRegressor\n",
    "from sklearn.svm import SVR\n",
    "from sklearn.tree import DecisionTreeRegressor\n",
    "from xgboost import XGBRegressor\n",
    "\n",
    "pd.set_option('display.max_columns', None)\n",
    "pd.set_option('display.width', 170)\n",
    "pd.set_option('display.max_rows', 20)\n",
    "pd.set_option('display.float_format', lambda x: '%.3f' % x)\n",
    "\n",
    "from pandas.core.common import SettingWithCopyWarning\n",
    "from sklearn.exceptions import ConvergenceWarning\n",
    "\n",
    "warnings.simplefilter(action='ignore', category=FutureWarning)\n",
    "warnings.simplefilter(action=\"ignore\", category=ConvergenceWarning)\n",
    "warnings.simplefilter(action=\"ignore\", category=SettingWithCopyWarning)"
   ]
  },
  {
   "cell_type": "code",
   "execution_count": 2,
   "metadata": {},
   "outputs": [
    {
     "data": {
      "text/html": [
       "<div>\n",
       "<style scoped>\n",
       "    .dataframe tbody tr th:only-of-type {\n",
       "        vertical-align: middle;\n",
       "    }\n",
       "\n",
       "    .dataframe tbody tr th {\n",
       "        vertical-align: top;\n",
       "    }\n",
       "\n",
       "    .dataframe thead th {\n",
       "        text-align: right;\n",
       "    }\n",
       "</style>\n",
       "<table border=\"1\" class=\"dataframe\">\n",
       "  <thead>\n",
       "    <tr style=\"text-align: right;\">\n",
       "      <th></th>\n",
       "      <th>AtBat</th>\n",
       "      <th>Hits</th>\n",
       "      <th>HmRun</th>\n",
       "      <th>Runs</th>\n",
       "      <th>RBI</th>\n",
       "      <th>Walks</th>\n",
       "      <th>Years</th>\n",
       "      <th>CAtBat</th>\n",
       "      <th>CHits</th>\n",
       "      <th>CHmRun</th>\n",
       "      <th>CRuns</th>\n",
       "      <th>CRBI</th>\n",
       "      <th>CWalks</th>\n",
       "      <th>League</th>\n",
       "      <th>Division</th>\n",
       "      <th>PutOuts</th>\n",
       "      <th>Assists</th>\n",
       "      <th>Errors</th>\n",
       "      <th>Salary</th>\n",
       "      <th>NewLeague</th>\n",
       "    </tr>\n",
       "  </thead>\n",
       "  <tbody>\n",
       "    <tr>\n",
       "      <th>0</th>\n",
       "      <td>293</td>\n",
       "      <td>66</td>\n",
       "      <td>1</td>\n",
       "      <td>30</td>\n",
       "      <td>29</td>\n",
       "      <td>14</td>\n",
       "      <td>1</td>\n",
       "      <td>293</td>\n",
       "      <td>66</td>\n",
       "      <td>1</td>\n",
       "      <td>30</td>\n",
       "      <td>29</td>\n",
       "      <td>14</td>\n",
       "      <td>A</td>\n",
       "      <td>E</td>\n",
       "      <td>446</td>\n",
       "      <td>33</td>\n",
       "      <td>20</td>\n",
       "      <td>NaN</td>\n",
       "      <td>A</td>\n",
       "    </tr>\n",
       "    <tr>\n",
       "      <th>1</th>\n",
       "      <td>315</td>\n",
       "      <td>81</td>\n",
       "      <td>7</td>\n",
       "      <td>24</td>\n",
       "      <td>38</td>\n",
       "      <td>39</td>\n",
       "      <td>14</td>\n",
       "      <td>3449</td>\n",
       "      <td>835</td>\n",
       "      <td>69</td>\n",
       "      <td>321</td>\n",
       "      <td>414</td>\n",
       "      <td>375</td>\n",
       "      <td>N</td>\n",
       "      <td>W</td>\n",
       "      <td>632</td>\n",
       "      <td>43</td>\n",
       "      <td>10</td>\n",
       "      <td>475.000</td>\n",
       "      <td>N</td>\n",
       "    </tr>\n",
       "    <tr>\n",
       "      <th>2</th>\n",
       "      <td>479</td>\n",
       "      <td>130</td>\n",
       "      <td>18</td>\n",
       "      <td>66</td>\n",
       "      <td>72</td>\n",
       "      <td>76</td>\n",
       "      <td>3</td>\n",
       "      <td>1624</td>\n",
       "      <td>457</td>\n",
       "      <td>63</td>\n",
       "      <td>224</td>\n",
       "      <td>266</td>\n",
       "      <td>263</td>\n",
       "      <td>A</td>\n",
       "      <td>W</td>\n",
       "      <td>880</td>\n",
       "      <td>82</td>\n",
       "      <td>14</td>\n",
       "      <td>480.000</td>\n",
       "      <td>A</td>\n",
       "    </tr>\n",
       "    <tr>\n",
       "      <th>3</th>\n",
       "      <td>496</td>\n",
       "      <td>141</td>\n",
       "      <td>20</td>\n",
       "      <td>65</td>\n",
       "      <td>78</td>\n",
       "      <td>37</td>\n",
       "      <td>11</td>\n",
       "      <td>5628</td>\n",
       "      <td>1575</td>\n",
       "      <td>225</td>\n",
       "      <td>828</td>\n",
       "      <td>838</td>\n",
       "      <td>354</td>\n",
       "      <td>N</td>\n",
       "      <td>E</td>\n",
       "      <td>200</td>\n",
       "      <td>11</td>\n",
       "      <td>3</td>\n",
       "      <td>500.000</td>\n",
       "      <td>N</td>\n",
       "    </tr>\n",
       "    <tr>\n",
       "      <th>4</th>\n",
       "      <td>321</td>\n",
       "      <td>87</td>\n",
       "      <td>10</td>\n",
       "      <td>39</td>\n",
       "      <td>42</td>\n",
       "      <td>30</td>\n",
       "      <td>2</td>\n",
       "      <td>396</td>\n",
       "      <td>101</td>\n",
       "      <td>12</td>\n",
       "      <td>48</td>\n",
       "      <td>46</td>\n",
       "      <td>33</td>\n",
       "      <td>N</td>\n",
       "      <td>E</td>\n",
       "      <td>805</td>\n",
       "      <td>40</td>\n",
       "      <td>4</td>\n",
       "      <td>91.500</td>\n",
       "      <td>N</td>\n",
       "    </tr>\n",
       "  </tbody>\n",
       "</table>\n",
       "</div>"
      ],
      "text/plain": [
       "   AtBat  Hits  HmRun  Runs  RBI  Walks  Years  CAtBat  CHits  CHmRun  CRuns  CRBI  CWalks League Division  PutOuts  Assists  Errors  Salary NewLeague\n",
       "0    293    66      1    30   29     14      1     293     66       1     30    29      14      A        E      446       33      20     NaN         A\n",
       "1    315    81      7    24   38     39     14    3449    835      69    321   414     375      N        W      632       43      10 475.000         N\n",
       "2    479   130     18    66   72     76      3    1624    457      63    224   266     263      A        W      880       82      14 480.000         A\n",
       "3    496   141     20    65   78     37     11    5628   1575     225    828   838     354      N        E      200       11       3 500.000         N\n",
       "4    321    87     10    39   42     30      2     396    101      12     48    46      33      N        E      805       40       4  91.500         N"
      ]
     },
     "execution_count": 2,
     "metadata": {},
     "output_type": "execute_result"
    }
   ],
   "source": [
    "# Veri setinin okutulmasi\n",
    "df = pd.read_csv(\"hitters.csv\")\n",
    "# İlk 5 satırı görüntüle\n",
    "df.head()"
   ]
  },
  {
   "cell_type": "code",
   "execution_count": 3,
   "metadata": {},
   "outputs": [
    {
     "data": {
      "text/html": [
       "<div>\n",
       "<style scoped>\n",
       "    .dataframe tbody tr th:only-of-type {\n",
       "        vertical-align: middle;\n",
       "    }\n",
       "\n",
       "    .dataframe tbody tr th {\n",
       "        vertical-align: top;\n",
       "    }\n",
       "\n",
       "    .dataframe thead th {\n",
       "        text-align: right;\n",
       "    }\n",
       "</style>\n",
       "<table border=\"1\" class=\"dataframe\">\n",
       "  <thead>\n",
       "    <tr style=\"text-align: right;\">\n",
       "      <th></th>\n",
       "      <th>count</th>\n",
       "      <th>mean</th>\n",
       "      <th>std</th>\n",
       "      <th>min</th>\n",
       "      <th>25%</th>\n",
       "      <th>50%</th>\n",
       "      <th>75%</th>\n",
       "      <th>max</th>\n",
       "    </tr>\n",
       "  </thead>\n",
       "  <tbody>\n",
       "    <tr>\n",
       "      <th>AtBat</th>\n",
       "      <td>322.000</td>\n",
       "      <td>380.929</td>\n",
       "      <td>153.405</td>\n",
       "      <td>16.000</td>\n",
       "      <td>255.250</td>\n",
       "      <td>379.500</td>\n",
       "      <td>512.000</td>\n",
       "      <td>687.000</td>\n",
       "    </tr>\n",
       "    <tr>\n",
       "      <th>Hits</th>\n",
       "      <td>322.000</td>\n",
       "      <td>101.025</td>\n",
       "      <td>46.455</td>\n",
       "      <td>1.000</td>\n",
       "      <td>64.000</td>\n",
       "      <td>96.000</td>\n",
       "      <td>137.000</td>\n",
       "      <td>238.000</td>\n",
       "    </tr>\n",
       "    <tr>\n",
       "      <th>HmRun</th>\n",
       "      <td>322.000</td>\n",
       "      <td>10.770</td>\n",
       "      <td>8.709</td>\n",
       "      <td>0.000</td>\n",
       "      <td>4.000</td>\n",
       "      <td>8.000</td>\n",
       "      <td>16.000</td>\n",
       "      <td>40.000</td>\n",
       "    </tr>\n",
       "    <tr>\n",
       "      <th>Runs</th>\n",
       "      <td>322.000</td>\n",
       "      <td>50.910</td>\n",
       "      <td>26.024</td>\n",
       "      <td>0.000</td>\n",
       "      <td>30.250</td>\n",
       "      <td>48.000</td>\n",
       "      <td>69.000</td>\n",
       "      <td>130.000</td>\n",
       "    </tr>\n",
       "    <tr>\n",
       "      <th>RBI</th>\n",
       "      <td>322.000</td>\n",
       "      <td>48.028</td>\n",
       "      <td>26.167</td>\n",
       "      <td>0.000</td>\n",
       "      <td>28.000</td>\n",
       "      <td>44.000</td>\n",
       "      <td>64.750</td>\n",
       "      <td>121.000</td>\n",
       "    </tr>\n",
       "    <tr>\n",
       "      <th>Walks</th>\n",
       "      <td>322.000</td>\n",
       "      <td>38.742</td>\n",
       "      <td>21.639</td>\n",
       "      <td>0.000</td>\n",
       "      <td>22.000</td>\n",
       "      <td>35.000</td>\n",
       "      <td>53.000</td>\n",
       "      <td>105.000</td>\n",
       "    </tr>\n",
       "    <tr>\n",
       "      <th>Years</th>\n",
       "      <td>322.000</td>\n",
       "      <td>7.444</td>\n",
       "      <td>4.926</td>\n",
       "      <td>1.000</td>\n",
       "      <td>4.000</td>\n",
       "      <td>6.000</td>\n",
       "      <td>11.000</td>\n",
       "      <td>24.000</td>\n",
       "    </tr>\n",
       "    <tr>\n",
       "      <th>CAtBat</th>\n",
       "      <td>322.000</td>\n",
       "      <td>2648.683</td>\n",
       "      <td>2324.206</td>\n",
       "      <td>19.000</td>\n",
       "      <td>816.750</td>\n",
       "      <td>1928.000</td>\n",
       "      <td>3924.250</td>\n",
       "      <td>14053.000</td>\n",
       "    </tr>\n",
       "    <tr>\n",
       "      <th>CHits</th>\n",
       "      <td>322.000</td>\n",
       "      <td>717.571</td>\n",
       "      <td>654.473</td>\n",
       "      <td>4.000</td>\n",
       "      <td>209.000</td>\n",
       "      <td>508.000</td>\n",
       "      <td>1059.250</td>\n",
       "      <td>4256.000</td>\n",
       "    </tr>\n",
       "    <tr>\n",
       "      <th>CHmRun</th>\n",
       "      <td>322.000</td>\n",
       "      <td>69.491</td>\n",
       "      <td>86.266</td>\n",
       "      <td>0.000</td>\n",
       "      <td>14.000</td>\n",
       "      <td>37.500</td>\n",
       "      <td>90.000</td>\n",
       "      <td>548.000</td>\n",
       "    </tr>\n",
       "    <tr>\n",
       "      <th>CRuns</th>\n",
       "      <td>322.000</td>\n",
       "      <td>358.795</td>\n",
       "      <td>334.106</td>\n",
       "      <td>1.000</td>\n",
       "      <td>100.250</td>\n",
       "      <td>247.000</td>\n",
       "      <td>526.250</td>\n",
       "      <td>2165.000</td>\n",
       "    </tr>\n",
       "    <tr>\n",
       "      <th>CRBI</th>\n",
       "      <td>322.000</td>\n",
       "      <td>330.118</td>\n",
       "      <td>333.220</td>\n",
       "      <td>0.000</td>\n",
       "      <td>88.750</td>\n",
       "      <td>220.500</td>\n",
       "      <td>426.250</td>\n",
       "      <td>1659.000</td>\n",
       "    </tr>\n",
       "    <tr>\n",
       "      <th>CWalks</th>\n",
       "      <td>322.000</td>\n",
       "      <td>260.239</td>\n",
       "      <td>267.058</td>\n",
       "      <td>0.000</td>\n",
       "      <td>67.250</td>\n",
       "      <td>170.500</td>\n",
       "      <td>339.250</td>\n",
       "      <td>1566.000</td>\n",
       "    </tr>\n",
       "    <tr>\n",
       "      <th>PutOuts</th>\n",
       "      <td>322.000</td>\n",
       "      <td>288.938</td>\n",
       "      <td>280.705</td>\n",
       "      <td>0.000</td>\n",
       "      <td>109.250</td>\n",
       "      <td>212.000</td>\n",
       "      <td>325.000</td>\n",
       "      <td>1378.000</td>\n",
       "    </tr>\n",
       "    <tr>\n",
       "      <th>Assists</th>\n",
       "      <td>322.000</td>\n",
       "      <td>106.913</td>\n",
       "      <td>136.855</td>\n",
       "      <td>0.000</td>\n",
       "      <td>7.000</td>\n",
       "      <td>39.500</td>\n",
       "      <td>166.000</td>\n",
       "      <td>492.000</td>\n",
       "    </tr>\n",
       "    <tr>\n",
       "      <th>Errors</th>\n",
       "      <td>322.000</td>\n",
       "      <td>8.040</td>\n",
       "      <td>6.368</td>\n",
       "      <td>0.000</td>\n",
       "      <td>3.000</td>\n",
       "      <td>6.000</td>\n",
       "      <td>11.000</td>\n",
       "      <td>32.000</td>\n",
       "    </tr>\n",
       "    <tr>\n",
       "      <th>Salary</th>\n",
       "      <td>263.000</td>\n",
       "      <td>535.926</td>\n",
       "      <td>451.119</td>\n",
       "      <td>67.500</td>\n",
       "      <td>190.000</td>\n",
       "      <td>425.000</td>\n",
       "      <td>750.000</td>\n",
       "      <td>2460.000</td>\n",
       "    </tr>\n",
       "  </tbody>\n",
       "</table>\n",
       "</div>"
      ],
      "text/plain": [
       "          count     mean      std    min     25%      50%      75%       max\n",
       "AtBat   322.000  380.929  153.405 16.000 255.250  379.500  512.000   687.000\n",
       "Hits    322.000  101.025   46.455  1.000  64.000   96.000  137.000   238.000\n",
       "HmRun   322.000   10.770    8.709  0.000   4.000    8.000   16.000    40.000\n",
       "Runs    322.000   50.910   26.024  0.000  30.250   48.000   69.000   130.000\n",
       "RBI     322.000   48.028   26.167  0.000  28.000   44.000   64.750   121.000\n",
       "Walks   322.000   38.742   21.639  0.000  22.000   35.000   53.000   105.000\n",
       "Years   322.000    7.444    4.926  1.000   4.000    6.000   11.000    24.000\n",
       "CAtBat  322.000 2648.683 2324.206 19.000 816.750 1928.000 3924.250 14053.000\n",
       "CHits   322.000  717.571  654.473  4.000 209.000  508.000 1059.250  4256.000\n",
       "CHmRun  322.000   69.491   86.266  0.000  14.000   37.500   90.000   548.000\n",
       "CRuns   322.000  358.795  334.106  1.000 100.250  247.000  526.250  2165.000\n",
       "CRBI    322.000  330.118  333.220  0.000  88.750  220.500  426.250  1659.000\n",
       "CWalks  322.000  260.239  267.058  0.000  67.250  170.500  339.250  1566.000\n",
       "PutOuts 322.000  288.938  280.705  0.000 109.250  212.000  325.000  1378.000\n",
       "Assists 322.000  106.913  136.855  0.000   7.000   39.500  166.000   492.000\n",
       "Errors  322.000    8.040    6.368  0.000   3.000    6.000   11.000    32.000\n",
       "Salary  263.000  535.926  451.119 67.500 190.000  425.000  750.000  2460.000"
      ]
     },
     "execution_count": 3,
     "metadata": {},
     "output_type": "execute_result"
    }
   ],
   "source": [
    "#### EDA ANALİZİ ####\n",
    "df.describe().T"
   ]
  },
  {
   "cell_type": "code",
   "execution_count": 4,
   "metadata": {},
   "outputs": [
    {
     "name": "stdout",
     "output_type": "stream",
     "text": [
      "##################### Shape #####################\n",
      "(322, 20)\n",
      "##################### Types #####################\n",
      "AtBat          int64\n",
      "Hits           int64\n",
      "HmRun          int64\n",
      "Runs           int64\n",
      "RBI            int64\n",
      "Walks          int64\n",
      "Years          int64\n",
      "CAtBat         int64\n",
      "CHits          int64\n",
      "CHmRun         int64\n",
      "CRuns          int64\n",
      "CRBI           int64\n",
      "CWalks         int64\n",
      "League        object\n",
      "Division      object\n",
      "PutOuts        int64\n",
      "Assists        int64\n",
      "Errors         int64\n",
      "Salary       float64\n",
      "NewLeague     object\n",
      "dtype: object\n",
      "##################### Head #####################\n",
      "   AtBat  Hits  HmRun  Runs  RBI  Walks  Years  CAtBat  CHits  CHmRun  CRuns  CRBI  CWalks League Division  PutOuts  Assists  Errors  Salary NewLeague\n",
      "0    293    66      1    30   29     14      1     293     66       1     30    29      14      A        E      446       33      20     NaN         A\n",
      "1    315    81      7    24   38     39     14    3449    835      69    321   414     375      N        W      632       43      10 475.000         N\n",
      "2    479   130     18    66   72     76      3    1624    457      63    224   266     263      A        W      880       82      14 480.000         A\n",
      "3    496   141     20    65   78     37     11    5628   1575     225    828   838     354      N        E      200       11       3 500.000         N\n",
      "4    321    87     10    39   42     30      2     396    101      12     48    46      33      N        E      805       40       4  91.500         N\n",
      "##################### Tail #####################\n",
      "     AtBat  Hits  HmRun  Runs  RBI  Walks  Years  CAtBat  CHits  CHmRun  CRuns  CRBI  CWalks League Division  PutOuts  Assists  Errors   Salary NewLeague\n",
      "317    497   127      7    65   48     37      5    2703    806      32    379   311     138      N        E      325        9       3  700.000         N\n",
      "318    492   136      5    76   50     94     12    5511   1511      39    897   451     875      A        E      313      381      20  875.000         A\n",
      "319    475   126      3    61   43     52      6    1700    433       7    217    93     146      A        W       37      113       7  385.000         A\n",
      "320    573   144      9    85   60     78      8    3198    857      97    470   420     332      A        E     1314      131      12  960.000         A\n",
      "321    631   170      9    77   44     31     11    4908   1457      30    775   357     249      A        W      408        4       3 1000.000         A\n",
      "##################### NA #####################\n",
      "AtBat         0\n",
      "Hits          0\n",
      "HmRun         0\n",
      "Runs          0\n",
      "RBI           0\n",
      "Walks         0\n",
      "Years         0\n",
      "CAtBat        0\n",
      "CHits         0\n",
      "CHmRun        0\n",
      "CRuns         0\n",
      "CRBI          0\n",
      "CWalks        0\n",
      "League        0\n",
      "Division      0\n",
      "PutOuts       0\n",
      "Assists       0\n",
      "Errors        0\n",
      "Salary       59\n",
      "NewLeague     0\n",
      "dtype: int64\n",
      "##################### Quantiles #####################\n",
      "         0.000   0.050    0.500    0.950    0.990     1.000\n",
      "AtBat   16.000 161.000  379.500  609.900  658.590   687.000\n",
      "Hits     1.000  39.000   96.000  174.000  210.790   238.000\n",
      "HmRun    0.000   0.000    8.000   28.950   33.000    40.000\n",
      "Runs     0.000  17.000   48.000   94.000  107.790   130.000\n",
      "RBI      0.000  14.000   44.000   96.000  112.370   121.000\n",
      "Walks    0.000  11.050   35.000   78.000   93.580   105.000\n",
      "Years    1.000   1.000    6.000   17.000   19.790    24.000\n",
      "CAtBat  19.000 216.500 1928.000 7125.600 8749.970 14053.000\n",
      "CHits    4.000  54.000  508.000 2017.150 2500.340  4256.000\n",
      "CHmRun   0.000   2.000   37.500  265.650  373.120   548.000\n",
      "CRuns    1.000  27.000  247.000 1032.300 1174.370  2165.000\n",
      "CRBI     0.000  22.050  220.500 1071.750 1310.850  1659.000\n",
      "CWalks   0.000  15.050  170.500  817.600 1139.140  1566.000\n",
      "PutOuts  0.000  33.200  212.000  910.650 1301.190  1378.000\n",
      "Assists  0.000   0.000   39.500  431.450  478.160   492.000\n",
      "Errors   0.000   0.000    6.000   20.000   25.790    32.000\n",
      "Salary  67.500  86.600  425.000 1346.000 2032.887  2460.000\n"
     ]
    }
   ],
   "source": [
    "# Genel bilgilerini görelim.\n",
    "check_df(df)"
   ]
  },
  {
   "cell_type": "code",
   "execution_count": 5,
   "metadata": {},
   "outputs": [],
   "source": [
    "# Bağımlı değişkende 59 tane NA var!\n",
    "# CAtBat, CHits outlier olabilir."
   ]
  },
  {
   "cell_type": "code",
   "execution_count": 6,
   "metadata": {},
   "outputs": [],
   "source": [
    "import seaborn as sns\n",
    "import matplotlib.pyplot as plt"
   ]
  },
  {
   "cell_type": "code",
   "execution_count": 7,
   "metadata": {},
   "outputs": [
    {
     "data": {
      "text/plain": [
       "count    263.000\n",
       "mean     535.926\n",
       "std      451.119\n",
       "min       67.500\n",
       "25%      190.000\n",
       "50%      425.000\n",
       "75%      750.000\n",
       "max     2460.000\n",
       "Name: Salary, dtype: float64"
      ]
     },
     "execution_count": 7,
     "metadata": {},
     "output_type": "execute_result"
    }
   ],
   "source": [
    "# Maaş istatistiksel analiz\n",
    "df[\"Salary\"].describe()"
   ]
  },
  {
   "cell_type": "code",
   "execution_count": 8,
   "metadata": {},
   "outputs": [
    {
     "data": {
      "image/png": "[encoded data removed]",
      "text/plain": [
       "<Figure size 432x288 with 1 Axes>"
      ]
     },
     "metadata": {
      "needs_background": "light"
     },
     "output_type": "display_data"
    }
   ],
   "source": [
    "# Histograma benzer distplot gragiği çizdirelim.\n",
    "sns.distplot(df.Salary)\n",
    "plt.show()"
   ]
  },
  {
   "cell_type": "code",
   "execution_count": 9,
   "metadata": {},
   "outputs": [
    {
     "data": {
      "image/png": "[encoded data removed]",
      "text/plain": [
       "<Figure size 432x288 with 1 Axes>"
      ]
     },
     "metadata": {
      "needs_background": "light"
     },
     "output_type": "display_data"
    }
   ],
   "source": [
    "# Maaş için boxplot gragiği çizdirelim.\n",
    "sns.boxplot(df.Salary)\n",
    "plt.show()"
   ]
  },
  {
   "cell_type": "code",
   "execution_count": 10,
   "metadata": {},
   "outputs": [
    {
     "name": "stdout",
     "output_type": "stream",
     "text": [
      "Observations: 322\n",
      "Variables: 20\n",
      "cat_cols: 3\n",
      "num_cols: 17\n",
      "cat_but_car: 0\n",
      "num_but_cat: 0\n"
     ]
    }
   ],
   "source": [
    "# KATEGORİK VE NUMERİK DEĞİŞKENLERİN SEÇİLMESİ\n",
    "cat_cols, num_cols, cat_but_car = grab_col_names(df)"
   ]
  },
  {
   "cell_type": "code",
   "execution_count": 11,
   "metadata": {},
   "outputs": [
    {
     "data": {
      "text/plain": [
       "['League', 'Division', 'NewLeague']"
      ]
     },
     "execution_count": 11,
     "metadata": {},
     "output_type": "execute_result"
    }
   ],
   "source": [
    "cat_cols"
   ]
  },
  {
   "cell_type": "code",
   "execution_count": 12,
   "metadata": {},
   "outputs": [
    {
     "data": {
      "text/plain": [
       "['AtBat',\n",
       " 'Hits',\n",
       " 'HmRun',\n",
       " 'Runs',\n",
       " 'RBI',\n",
       " 'Walks',\n",
       " 'Years',\n",
       " 'CAtBat',\n",
       " 'CHits',\n",
       " 'CHmRun',\n",
       " 'CRuns',\n",
       " 'CRBI',\n",
       " 'CWalks',\n",
       " 'PutOuts',\n",
       " 'Assists',\n",
       " 'Errors',\n",
       " 'Salary']"
      ]
     },
     "execution_count": 12,
     "metadata": {},
     "output_type": "execute_result"
    }
   ],
   "source": [
    "num_cols"
   ]
  },
  {
   "cell_type": "code",
   "execution_count": 13,
   "metadata": {},
   "outputs": [
    {
     "data": {
      "text/plain": [
       "[]"
      ]
     },
     "execution_count": 13,
     "metadata": {},
     "output_type": "execute_result"
    }
   ],
   "source": [
    "cat_but_car"
   ]
  },
  {
   "cell_type": "code",
   "execution_count": 14,
   "metadata": {},
   "outputs": [
    {
     "name": "stdout",
     "output_type": "stream",
     "text": [
      "League : 2\n",
      "   COUNT  RATIO  TARGET_MEAN\n",
      "A    175  0.543      542.000\n",
      "N    147  0.457      529.118\n",
      "\n",
      "\n",
      "Division : 2\n",
      "   COUNT  RATIO  TARGET_MEAN\n",
      "E    157  0.488      624.271\n",
      "W    165  0.512      450.877\n",
      "\n",
      "\n",
      "NewLeague : 2\n",
      "   COUNT  RATIO  TARGET_MEAN\n",
      "A    176  0.547      537.113\n",
      "N    146  0.453      534.554\n",
      "\n",
      "\n"
     ]
    }
   ],
   "source": [
    "# KATEGORİK DEĞİŞKEN ANALİZİ\n",
    "\n",
    "rare_analyser(df, \"Salary\", cat_cols)"
   ]
  },
  {
   "cell_type": "code",
   "execution_count": 15,
   "metadata": {},
   "outputs": [
    {
     "name": "stdout",
     "output_type": "stream",
     "text": [
      "count   322.000\n",
      "mean    380.929\n",
      "std     153.405\n",
      "min      16.000\n",
      "5%      161.000\n",
      "10%     194.100\n",
      "20%     221.800\n",
      "30%     281.300\n",
      "40%     321.800\n",
      "50%     379.500\n",
      "60%     430.200\n",
      "70%     490.000\n",
      "80%     535.600\n",
      "90%     584.900\n",
      "95%     609.900\n",
      "99%     658.590\n",
      "max     687.000\n",
      "Name: AtBat, dtype: float64\n",
      "\n",
      "count   322.000\n",
      "mean    101.025\n",
      "std      46.455\n",
      "min       1.000\n",
      "5%       39.000\n",
      "10%      45.100\n",
      "20%      57.000\n",
      "30%      70.000\n",
      "40%      82.000\n",
      "50%      96.000\n",
      "60%     113.000\n",
      "70%     128.700\n",
      "80%     144.000\n",
      "90%     163.000\n",
      "95%     174.000\n",
      "99%     210.790\n",
      "max     238.000\n",
      "Name: Hits, dtype: float64\n",
      "\n",
      "count   322.000\n",
      "mean     10.770\n",
      "std       8.709\n",
      "min       0.000\n",
      "5%        0.000\n",
      "10%       1.000\n",
      "20%       3.000\n",
      "30%       5.000\n",
      "40%       6.000\n",
      "50%       8.000\n",
      "60%      10.600\n",
      "70%      14.000\n",
      "80%      18.000\n",
      "90%      24.000\n",
      "95%      28.950\n",
      "99%      33.000\n",
      "max      40.000\n",
      "Name: HmRun, dtype: float64\n",
      "\n",
      "count   322.000\n",
      "mean     50.910\n",
      "std      26.024\n",
      "min       0.000\n",
      "5%       17.000\n",
      "10%      20.100\n",
      "20%      27.000\n",
      "30%      33.000\n",
      "40%      41.000\n",
      "50%      48.000\n",
      "60%      55.600\n",
      "70%      66.000\n",
      "80%      75.800\n",
      "90%      89.000\n",
      "95%      94.000\n",
      "99%     107.790\n",
      "max     130.000\n",
      "Name: Runs, dtype: float64\n",
      "\n",
      "count   322.000\n",
      "mean     48.028\n",
      "std      26.167\n",
      "min       0.000\n",
      "5%       14.000\n",
      "10%      19.000\n",
      "20%      26.000\n",
      "30%      30.000\n",
      "40%      36.400\n",
      "50%      44.000\n",
      "60%      49.000\n",
      "70%      58.000\n",
      "80%      73.000\n",
      "90%      86.000\n",
      "95%      96.000\n",
      "99%     112.370\n",
      "max     121.000\n",
      "Name: RBI, dtype: float64\n",
      "\n",
      "count   322.000\n",
      "mean     38.742\n",
      "std      21.639\n",
      "min       0.000\n",
      "5%       11.050\n",
      "10%      15.000\n",
      "20%      20.000\n",
      "30%      24.000\n",
      "40%      30.000\n",
      "50%      35.000\n",
      "60%      40.000\n",
      "70%      48.700\n",
      "80%      59.000\n",
      "90%      69.900\n",
      "95%      78.000\n",
      "99%      93.580\n",
      "max     105.000\n",
      "Name: Walks, dtype: float64\n",
      "\n",
      "count   322.000\n",
      "mean      7.444\n",
      "std       4.926\n",
      "min       1.000\n",
      "5%        1.000\n",
      "10%       2.000\n",
      "20%       3.000\n",
      "30%       4.000\n",
      "40%       5.000\n",
      "50%       6.000\n",
      "60%       7.600\n",
      "70%      10.000\n",
      "80%      12.000\n",
      "90%      15.000\n",
      "95%      17.000\n",
      "99%      19.790\n",
      "max      24.000\n",
      "Name: Years, dtype: float64\n",
      "\n",
      "count     322.000\n",
      "mean     2648.683\n",
      "std      2324.206\n",
      "min        19.000\n",
      "5%        216.500\n",
      "10%       342.200\n",
      "20%       667.600\n",
      "30%       963.400\n",
      "40%      1402.200\n",
      "50%      1928.000\n",
      "60%      2654.000\n",
      "70%      3365.000\n",
      "80%      4483.000\n",
      "90%      6123.400\n",
      "95%      7125.600\n",
      "99%      8749.970\n",
      "max     14053.000\n",
      "Name: CAtBat, dtype: float64\n",
      "\n",
      "count    322.000\n",
      "mean     717.571\n",
      "std      654.473\n",
      "min        4.000\n",
      "5%        54.000\n",
      "10%       86.000\n",
      "20%      164.600\n",
      "30%      238.000\n",
      "40%      355.800\n",
      "50%      508.000\n",
      "60%      708.200\n",
      "70%      911.100\n",
      "80%     1229.200\n",
      "90%     1659.600\n",
      "95%     2017.150\n",
      "99%     2500.340\n",
      "max     4256.000\n",
      "Name: CHits, dtype: float64\n",
      "\n",
      "count   322.000\n",
      "mean     69.491\n",
      "std      86.266\n",
      "min       0.000\n",
      "5%        2.000\n",
      "10%       4.000\n",
      "20%      10.200\n",
      "30%      16.300\n",
      "40%      27.400\n",
      "50%      37.500\n",
      "60%      51.200\n",
      "70%      72.400\n",
      "80%     103.800\n",
      "90%     194.900\n",
      "95%     265.650\n",
      "99%     373.120\n",
      "max     548.000\n",
      "Name: CHmRun, dtype: float64\n",
      "\n",
      "count    322.000\n",
      "mean     358.795\n",
      "std      334.106\n",
      "min        1.000\n",
      "5%        27.000\n",
      "10%       38.100\n",
      "20%       80.400\n",
      "30%      117.300\n",
      "40%      181.000\n",
      "50%      247.000\n",
      "60%      333.000\n",
      "70%      443.400\n",
      "80%      627.200\n",
      "90%      895.700\n",
      "95%     1032.300\n",
      "99%     1174.370\n",
      "max     2165.000\n",
      "Name: CRuns, dtype: float64\n",
      "\n",
      "count    322.000\n",
      "mean     330.118\n",
      "std      333.220\n",
      "min        0.000\n",
      "5%        22.050\n",
      "10%       34.100\n",
      "20%       70.200\n",
      "30%      106.300\n",
      "40%      149.000\n",
      "50%      220.500\n",
      "60%      303.600\n",
      "70%      379.100\n",
      "80%      496.200\n",
      "90%      861.600\n",
      "95%     1071.750\n",
      "99%     1310.850\n",
      "max     1659.000\n",
      "Name: CRBI, dtype: float64\n",
      "\n",
      "count    322.000\n",
      "mean     260.239\n",
      "std      267.058\n",
      "min        0.000\n",
      "5%        15.050\n",
      "10%       30.100\n",
      "20%       55.000\n",
      "30%       82.000\n",
      "40%      117.400\n",
      "50%      170.500\n",
      "60%      226.600\n",
      "70%      300.700\n",
      "80%      421.000\n",
      "90%      643.900\n",
      "95%      817.600\n",
      "99%     1139.140\n",
      "max     1566.000\n",
      "Name: CWalks, dtype: float64\n",
      "\n",
      "count    322.000\n",
      "mean     288.938\n",
      "std      280.705\n",
      "min        0.000\n",
      "5%        33.200\n",
      "10%       62.200\n",
      "20%       99.600\n",
      "30%      132.000\n",
      "40%      167.000\n",
      "50%      212.000\n",
      "60%      257.400\n",
      "70%      303.000\n",
      "80%      365.800\n",
      "90%      685.600\n",
      "95%      910.650\n",
      "99%     1301.190\n",
      "max     1378.000\n",
      "Name: PutOuts, dtype: float64\n",
      "\n",
      "count   322.000\n",
      "mean    106.913\n",
      "std     136.855\n",
      "min       0.000\n",
      "5%        0.000\n",
      "10%       2.000\n",
      "20%       5.200\n",
      "30%       9.000\n",
      "40%      15.400\n",
      "50%      39.500\n",
      "60%      76.800\n",
      "70%     134.800\n",
      "80%     210.800\n",
      "90%     353.300\n",
      "95%     431.450\n",
      "99%     478.160\n",
      "max     492.000\n",
      "Name: Assists, dtype: float64\n",
      "\n",
      "count   322.000\n",
      "mean      8.040\n",
      "std       6.368\n",
      "min       0.000\n",
      "5%        0.000\n",
      "10%       1.000\n",
      "20%       3.000\n",
      "30%       4.000\n",
      "40%       5.000\n",
      "50%       6.000\n",
      "60%       8.000\n",
      "70%      10.000\n",
      "80%      13.000\n",
      "90%      17.000\n",
      "95%      20.000\n",
      "99%      25.790\n",
      "max      32.000\n",
      "Name: Errors, dtype: float64\n",
      "\n",
      "count    263.000\n",
      "mean     535.926\n",
      "std      451.119\n",
      "min       67.500\n",
      "5%        86.600\n",
      "10%      100.000\n",
      "20%      155.000\n",
      "30%      221.000\n",
      "40%      300.000\n",
      "50%      425.000\n",
      "60%      538.000\n",
      "70%      700.000\n",
      "80%      809.000\n",
      "90%     1048.667\n",
      "95%     1346.000\n",
      "99%     2032.887\n",
      "max     2460.000\n",
      "Name: Salary, dtype: float64\n",
      "\n"
     ]
    }
   ],
   "source": [
    "# SAYISAL DEĞİŞKEN ANALİZİ\n",
    "\n",
    "for col in num_cols:\n",
    "    num_summary(df, col, plot=False)"
   ]
  },
  {
   "cell_type": "code",
   "execution_count": 16,
   "metadata": {},
   "outputs": [
    {
     "name": "stdout",
     "output_type": "stream",
     "text": [
      "AtBat False\n",
      "Hits False\n",
      "HmRun False\n",
      "Runs False\n",
      "RBI False\n",
      "Walks False\n",
      "Years False\n",
      "CAtBat False\n",
      "CHits True\n",
      "CHmRun True\n",
      "CRuns False\n",
      "CRBI False\n",
      "CWalks True\n",
      "PutOuts False\n",
      "Assists False\n",
      "Errors False\n",
      "Salary False\n"
     ]
    }
   ],
   "source": [
    "# AYKIRI GÖZLEM ANALİZİ\n",
    "for col in num_cols:\n",
    "    print(col, check_outlier(df, col, q1=0.1, q3=0.9))"
   ]
  },
  {
   "cell_type": "code",
   "execution_count": 17,
   "metadata": {},
   "outputs": [
    {
     "name": "stdout",
     "output_type": "stream",
     "text": [
      "(322, 20)\n",
      "(308, 20)\n"
     ]
    },
    {
     "data": {
      "image/png": "[encoded data removed]",
      "text/plain": [
       "<Figure size 432x288 with 1 Axes>"
      ]
     },
     "metadata": {
      "needs_background": "light"
     },
     "output_type": "display_data"
    }
   ],
   "source": [
    "# 1300 den sonraki değerleri veri setinden çıkartıyorum.\n",
    "# Çünkü boxplot grafiğine baktığımız zaman 1300'den sonraki değerlerde aykırılıklar görüyoruz.\n",
    "\n",
    "print(df.shape)\n",
    "df = df[(df['Salary'] < 1350) | (df['Salary'].isnull())]  # Eksik değerleri de istiyoruz.\n",
    "\n",
    "print(df.shape)\n",
    "sns.distplot(df.Salary)\n",
    "plt.show()"
   ]
  },
  {
   "cell_type": "code",
   "execution_count": 18,
   "metadata": {},
   "outputs": [],
   "source": [
    "#AYKIRI DEĞERLERİ BASKILAMA\n",
    "for col in num_cols:\n",
    "    if check_outlier(df, col, q1=0.05, q3=0.95):\n",
    "        replace_with_thresholds(df, col, q1=0.05, q3=0.95)"
   ]
  },
  {
   "cell_type": "code",
   "execution_count": 19,
   "metadata": {},
   "outputs": [
    {
     "name": "stdout",
     "output_type": "stream",
     "text": [
      "AtBat False\n",
      "Hits False\n",
      "HmRun False\n",
      "Runs False\n",
      "RBI False\n",
      "Walks False\n",
      "Years False\n",
      "CAtBat False\n",
      "CHits False\n",
      "CHmRun False\n",
      "CRuns False\n",
      "CRBI False\n",
      "CWalks False\n",
      "PutOuts False\n",
      "Assists False\n",
      "Errors False\n",
      "Salary False\n"
     ]
    }
   ],
   "source": [
    "for col in num_cols:\n",
    "    print(col, check_outlier(df, col, q1=0.05, q3=0.95))"
   ]
  },
  {
   "cell_type": "code",
   "execution_count": 20,
   "metadata": {},
   "outputs": [],
   "source": [
    "# EKSİK GÖZLEM ANALİZİ"
   ]
  },
  {
   "cell_type": "code",
   "execution_count": 21,
   "metadata": {},
   "outputs": [
    {
     "name": "stdout",
     "output_type": "stream",
     "text": [
      "        n_miss  ratio\n",
      "Salary      59 19.160\n"
     ]
    }
   ],
   "source": [
    "missing_values_table(df)"
   ]
  },
  {
   "cell_type": "code",
   "execution_count": 22,
   "metadata": {},
   "outputs": [],
   "source": [
    "# Salary bağımlı değişkeninde 59 Eksik Gözlem bulunmakta. Bunları çıkartmak bir çözüm yolu olabilir."
   ]
  },
  {
   "cell_type": "code",
   "execution_count": 23,
   "metadata": {},
   "outputs": [],
   "source": [
    "# KORELASYON ANALİZİ"
   ]
  },
  {
   "cell_type": "code",
   "execution_count": 24,
   "metadata": {},
   "outputs": [
    {
     "data": {
      "image/png": "[encoded data removed]",
      "text/plain": [
       "<Figure size 720x720 with 4 Axes>"
      ]
     },
     "metadata": {
      "needs_background": "light"
     },
     "output_type": "display_data"
    },
    {
     "data": {
      "text/plain": [
       "['AtBat',\n",
       " 'Hits',\n",
       " 'HmRun',\n",
       " 'Runs',\n",
       " 'RBI',\n",
       " 'Walks',\n",
       " 'Years',\n",
       " 'CAtBat',\n",
       " 'CHits',\n",
       " 'CHmRun',\n",
       " 'CRuns',\n",
       " 'CRBI',\n",
       " 'CWalks',\n",
       " 'Salary']"
      ]
     },
     "execution_count": 24,
     "metadata": {},
     "output_type": "execute_result"
    }
   ],
   "source": [
    "import numpy as np\n",
    "\n",
    "target_correlation_matrix(df, corr_th=0.3, target=\"Salary\")"
   ]
  },
  {
   "cell_type": "code",
   "execution_count": 25,
   "metadata": {},
   "outputs": [
    {
     "data": {
      "text/plain": [
       "['Hits', 'Runs', 'CAtBat', 'CHits', 'CRuns', 'CRBI', 'CWalks']"
      ]
     },
     "execution_count": 25,
     "metadata": {},
     "output_type": "execute_result"
    }
   ],
   "source": [
    "high_correlated_cols(df, plot=False, corr_th=0.90)"
   ]
  },
  {
   "cell_type": "code",
   "execution_count": 26,
   "metadata": {},
   "outputs": [],
   "source": [
    "############################################\n",
    "# VERİ ÖNİŞLEME\n",
    "############################################\n",
    "\n",
    "df['NEW_HitRatio'] = df['Hits'] / df['AtBat']\n",
    "df['NEW_RunRatio'] = df['HmRun'] / df['Runs']\n",
    "df['NEW_CHitRatio'] = df['CHits'] / df['CAtBat']\n",
    "df['NEW_CRunRatio'] = df['CHmRun'] / df['CRuns']\n",
    "\n",
    "df['NEW_Avg_AtBat'] = df['CAtBat'] / df['Years']\n",
    "df['NEW_Avg_Hits'] = df['CHits'] / df['Years']\n",
    "df['NEW_Avg_HmRun'] = df['CHmRun'] / df['Years']\n",
    "df['NEW_Avg_Runs'] = df['CRuns'] / df['Years']\n",
    "df['NEW_Avg_RBI'] = df['CRBI'] / df['Years']\n",
    "df['NEW_Avg_Walks'] = df['CWalks'] / df['Years']"
   ]
  },
  {
   "cell_type": "code",
   "execution_count": 27,
   "metadata": {},
   "outputs": [],
   "source": [
    "# Paydaya sıfır gelme ihtimaline karşılık paydadaki değişkenlere 1 eklenebilir."
   ]
  },
  {
   "cell_type": "code",
   "execution_count": 28,
   "metadata": {},
   "outputs": [],
   "source": [
    "# One Hot Encoder\n",
    "\n",
    "df = one_hot_encoder(df, cat_cols, drop_first=True)"
   ]
  },
  {
   "cell_type": "code",
   "execution_count": 29,
   "metadata": {},
   "outputs": [],
   "source": [
    "# ARA\n",
    "\n",
    "############################################\n",
    "# MODELLEME\n",
    "############################################\n",
    "\n",
    "df_null = df[df[\"Salary\"].isnull()]  # Salary içerisindeki boş değerleri ayıralım.\n",
    "df.dropna(inplace=True)  # Salarydeki eksik değerleri çıkartma\n",
    "\n",
    "y = df['Salary']\n",
    "X = df.drop(\"Salary\", axis=1)"
   ]
  },
  {
   "cell_type": "code",
   "execution_count": 30,
   "metadata": {},
   "outputs": [],
   "source": [
    "##########################\n",
    "# HOLD OUT - MODEL VALIDATION\n",
    "##########################\n",
    "\n",
    "X_train, X_test, y_train, y_test = train_test_split(X, y, test_size=0.20, random_state=42)"
   ]
  },
  {
   "cell_type": "code",
   "execution_count": 31,
   "metadata": {},
   "outputs": [],
   "source": [
    "##########################\n",
    "# # ROBUST SCALER:\n",
    "# ALL DATA FINAL RMSE: 219.83899058361285\n",
    "##########################\n",
    "\n",
    "# cols = X.columns\n",
    "# index = X.index\n",
    "# from sklearn.preprocessing import RobustScaler\n",
    "# transformer = RobustScaler().fit(X)\n",
    "# X = transformer.transform(X)\n",
    "# X = pd.DataFrame(X, columns=cols, index=index)\n",
    "\n",
    "##########################\n",
    "# # STANDARD SCALER:\n",
    "# ALL DATA FINAL RMSE: 186.16240421879607\n",
    "##########################\n",
    "\n",
    "# num_cols.remove(\"Salary\")\n",
    "# scaler = StandardScaler()\n",
    "# df[num_cols] = scaler.fit_transform(df[num_cols])"
   ]
  },
  {
   "cell_type": "code",
   "execution_count": 32,
   "metadata": {},
   "outputs": [],
   "source": [
    "##########################\n",
    "# BASE MODELS\n",
    "##########################\n",
    "\n",
    "def all_models(X, y, test_size=0.2, random_state=12345, classification=True):\n",
    "    from sklearn.metrics import accuracy_score, precision_score, recall_score, f1_score, \\\n",
    "        roc_auc_score, confusion_matrix, classification_report, plot_roc_curve, mean_squared_error\n",
    "\n",
    "    # Tum Base Modeller (Classification)\n",
    "    from sklearn.linear_model import LogisticRegression\n",
    "    from sklearn.neighbors import KNeighborsClassifier\n",
    "    from sklearn.tree import DecisionTreeClassifier\n",
    "    from sklearn.ensemble import RandomForestClassifier\n",
    "    from sklearn.ensemble import GradientBoostingClassifier\n",
    "    from catboost import CatBoostClassifier\n",
    "    from lightgbm import LGBMClassifier\n",
    "    from sklearn.svm import SVC\n",
    "\n",
    "    # Tum Base Modeller (Regression)\n",
    "    from catboost import CatBoostRegressor\n",
    "    from lightgbm import LGBMRegressor\n",
    "    from sklearn.ensemble import RandomForestRegressor, GradientBoostingRegressor\n",
    "    from sklearn.linear_model import LinearRegression, Ridge, Lasso, ElasticNet\n",
    "    from sklearn.neighbors import KNeighborsRegressor\n",
    "    from sklearn.svm import SVR\n",
    "    from sklearn.tree import DecisionTreeRegressor\n",
    "    from xgboost import XGBRegressor\n",
    "\n",
    "    X_train, X_test, y_train, y_test = train_test_split(X, y, test_size=0.20, random_state=random_state)\n",
    "    all_models = []\n",
    "\n",
    "    if classification:\n",
    "        models = [('LR', LogisticRegression(random_state=random_state)),\n",
    "                  ('KNN', KNeighborsClassifier()),\n",
    "                  ('CART', DecisionTreeClassifier(random_state=random_state)),\n",
    "                  ('RF', RandomForestClassifier(random_state=random_state)),\n",
    "                  ('SVM', SVC(gamma='auto', random_state=random_state)),\n",
    "                  ('XGB', GradientBoostingClassifier(random_state=random_state)),\n",
    "                  (\"LightGBM\", LGBMClassifier(random_state=random_state)),\n",
    "                  (\"CatBoost\", CatBoostClassifier(verbose=False, random_state=random_state))]\n",
    "\n",
    "        for name, model in models:\n",
    "            model.fit(X_train, y_train)\n",
    "            y_pred_train = model.predict(X_train)\n",
    "            y_pred_test = model.predict(X_test)\n",
    "            acc_train = accuracy_score(y_train, y_pred_train)\n",
    "            acc_test = accuracy_score(y_test, y_pred_test)\n",
    "            values = dict(name=name, acc_train=acc_train, acc_test=acc_test)\n",
    "            all_models.append(values)\n",
    "\n",
    "        sort_method = False\n",
    "    else:\n",
    "        models = [('LR', LinearRegression()),\n",
    "                  (\"Ridge\", Ridge()),\n",
    "                  (\"Lasso\", Lasso()),\n",
    "                  (\"ElasticNet\", ElasticNet()),\n",
    "                  ('KNN', KNeighborsRegressor()),\n",
    "                  ('CART', DecisionTreeRegressor()),\n",
    "                  ('RF', RandomForestRegressor()),\n",
    "                  ('SVR', SVR()),\n",
    "                  ('GBM', GradientBoostingRegressor()),\n",
    "                  (\"XGBoost\", XGBRegressor()),\n",
    "                  (\"LightGBM\", LGBMRegressor()),\n",
    "                  (\"CatBoost\", CatBoostRegressor(verbose=False))]\n",
    "\n",
    "        for name, model in models:\n",
    "            model.fit(X_train, y_train)\n",
    "            y_pred_test = model.predict(X_test)\n",
    "            y_pred_train = model.predict(X_train)\n",
    "            rmse_test = np.sqrt(mean_squared_error(y_test, y_pred_test))\n",
    "            rmse_train = np.sqrt(mean_squared_error(y_train, y_pred_train))\n",
    "            values = dict(name=name, RMSE_TRAIN=rmse_train, RMSE_TEST=rmse_test)\n",
    "            all_models.append(values)\n",
    "\n",
    "        sort_method = True\n",
    "    all_models_df = pd.DataFrame(all_models)\n",
    "    all_models_df = all_models_df.sort_values(all_models_df.columns[2], ascending=sort_method)\n",
    "    print(all_models_df)\n",
    "    return all_models_df"
   ]
  },
  {
   "cell_type": "code",
   "execution_count": 33,
   "metadata": {},
   "outputs": [
    {
     "name": "stdout",
     "output_type": "stream",
     "text": [
      "          name  RMSE_TRAIN  RMSE_TEST\n",
      "11    CatBoost       4.970    237.712\n",
      "9      XGBoost       0.001    256.239\n",
      "10    LightGBM      51.394    259.164\n",
      "6           RF      63.601    260.267\n",
      "8          GBM      30.648    261.812\n",
      "4          KNN     167.550    268.997\n",
      "5         CART       0.000    281.132\n",
      "3   ElasticNet     202.308    328.042\n",
      "2        Lasso     200.520    332.650\n",
      "1        Ridge     199.917    333.875\n",
      "7          SVR     315.167    336.098\n",
      "0           LR     198.591    336.352\n"
     ]
    }
   ],
   "source": [
    "all_models = all_models(X, y, test_size=0.2, random_state=46, classification=False)\n"
   ]
  },
  {
   "cell_type": "code",
   "execution_count": 34,
   "metadata": {},
   "outputs": [],
   "source": [
    "##########################\n",
    "# RANDOM FORESTS MODEL TUNING\n",
    "##########################\n",
    "\n",
    "# Tuning için hazırlanan parametreler. Tuning zaman aldığı için çıkan parametre değerlerini girdim.\n",
    "rf_params = {\"max_depth\": [4, 5, 7, 10],\n",
    "             \"max_features\": [4, 5, 6, 8, 10, 12],\n",
    "             \"n_estimators\": [80, 100, 150, 250, 400, 500],\n",
    "             \"min_samples_split\": [8, 10, 12, 15]}"
   ]
  },
  {
   "cell_type": "code",
   "execution_count": 35,
   "metadata": {},
   "outputs": [],
   "source": [
    "# rf_cv_model = GridSearchCV(rf_model, rf_params, cv = 10, n_jobs = -1).fit(X_train , y_train)\n",
    "# rf_cv_model.best_params_\n",
    "\n",
    "best_params = {'max_depth': 10,\n",
    "               'max_features': 8,\n",
    "               'min_samples_split': 10,\n",
    "               'n_estimators': 80}\n"
   ]
  },
  {
   "cell_type": "code",
   "execution_count": 36,
   "metadata": {},
   "outputs": [],
   "source": [
    "rf_model = RandomForestRegressor(random_state=42).fit(X_train, y_train)\n"
   ]
  },
  {
   "cell_type": "code",
   "execution_count": 37,
   "metadata": {},
   "outputs": [],
   "source": [
    "# RANDOM FORESTS TUNED MODEL\n",
    "rf_tuned = RandomForestRegressor(max_depth=10, max_features=4, n_estimators=150,\n",
    "                                 min_samples_split=8, random_state=42).fit(X_train, y_train)\n"
   ]
  },
  {
   "cell_type": "code",
   "execution_count": 38,
   "metadata": {},
   "outputs": [],
   "source": [
    "# TUNED MODEL TRAIN HATASI\n",
    "y_pred = rf_tuned.predict(X_train)"
   ]
  },
  {
   "cell_type": "code",
   "execution_count": 39,
   "metadata": {},
   "outputs": [
    {
     "name": "stdout",
     "output_type": "stream",
     "text": [
      "RF Tuned Model Train RMSE: 99.69754579820678\n"
     ]
    }
   ],
   "source": [
    "print(\"RF Tuned Model Train RMSE:\", np.sqrt(mean_squared_error(y_train, y_pred)))"
   ]
  },
  {
   "cell_type": "code",
   "execution_count": 40,
   "metadata": {},
   "outputs": [
    {
     "name": "stdout",
     "output_type": "stream",
     "text": [
      "RF Tuned Model Test RMSE: 155.72263111886258\n"
     ]
    }
   ],
   "source": [
    "##########################\n",
    "# TUNED MODEL TEST HATASI\n",
    "##########################\n",
    "y_pred = rf_tuned.predict(X_test)\n",
    "print(\"RF Tuned Model Test RMSE:\", np.sqrt(mean_squared_error(y_test, y_pred)))"
   ]
  },
  {
   "cell_type": "code",
   "execution_count": 41,
   "metadata": {},
   "outputs": [],
   "source": [
    "#######################################\n",
    "# FEATURE IMPORTANCE\n",
    "#######################################\n",
    "\n",
    "def plot_importance(model, features, num=len(X), save=False):\n",
    "    import pandas as pd\n",
    "    import seaborn as sns\n",
    "    import matplotlib.pyplot as plt\n",
    "    feature_imp = pd.DataFrame({'Value': model.feature_importances_, 'Feature': features.columns})\n",
    "    plt.figure(figsize=(10, 10))\n",
    "    sns.set(font_scale=1)\n",
    "    sns.barplot(x=\"Value\", y=\"Feature\", data=feature_imp.sort_values(by=\"Value\",\n",
    "                                                                     ascending=False)[0:num])\n",
    "    plt.title('Features')\n",
    "    plt.tight_layout()\n",
    "    plt.show()\n",
    "    if save:\n",
    "        plt.savefig('importances.png')"
   ]
  },
  {
   "cell_type": "code",
   "execution_count": 42,
   "metadata": {},
   "outputs": [
    {
     "data": {
      "image/png": "[encoded data removed]",
      "text/plain": [
       "<Figure size 720x720 with 1 Axes>"
      ]
     },
     "metadata": {
      "needs_background": "light"
     },
     "output_type": "display_data"
    }
   ],
   "source": [
    "plot_importance(rf_tuned, X_train)"
   ]
  },
  {
   "cell_type": "code",
   "execution_count": 43,
   "metadata": {},
   "outputs": [],
   "source": [
    "# Tuned edilmiş model nesnesinin kaydedilmesi\n",
    "import pickle\n",
    "pickle.dump(rf_tuned, open(\"rf_final_model.pkl\", 'wb'))"
   ]
  },
  {
   "cell_type": "code",
   "execution_count": 44,
   "metadata": {},
   "outputs": [],
   "source": [
    "# Tuned edilmiş model nesnesinin yüklenmesi\n",
    "df_prep = pickle.load(open('rf_final_model.pkl', 'rb'))"
   ]
  }
 ],
 "metadata": {
  "kernelspec": {
   "display_name": "Python 3.10.5 64-bit (windows store)",
   "language": "python",
   "name": "python3"
  },
  "language_info": {
   "codemirror_mode": {
    "name": "ipython",
    "version": 3
   },
   "file_extension": ".py",
   "mimetype": "text/x-python",
   "name": "python",
   "nbconvert_exporter": "python",
   "pygments_lexer": "ipython3",
   "version": "3.10.6"
  },
  "orig_nbformat": 4,
  "vscode": {
   "interpreter": {
    "hash": "bdeb59d3b64914835d647b3375aaf9a9a525da8506b206b2e4c562ce2d2d091a"
   }
  }
 },
 "nbformat": 4,
 "nbformat_minor": 2
}
