{
 "cells": [
  {
   "cell_type": "markdown",
   "metadata": {},
   "source": [
    "### Makine Öğrenmesi Nedir?\n",
    "\n",
    "Bilgisayarların insanlara benzer şekilde öğrenmesini sağlamak maksadıyla çeşitli algoritma ve tekniklerin geliştirilmesi için çalışan bilimsel çalışma alanıdır.\n",
    "\n",
    "y(i) = b + wx(i)\n",
    "\n",
    "- y(i) = Tahmin\n",
    "- b = Başlangıç değeri (yükseklik)\n",
    "- w = Ağırlık (eğim)\n",
    "- x(i) = Veri\n",
    "\n",
    "Bağımlı değişken kategorik ise sınıflandırma problemi, bağımlı değişken sayısal ise regresyon problemi olarak kabul edilir.\n",
    "\n"
   ]
  }
 ],
 "metadata": {
  "kernelspec": {
   "display_name": "Python 3.10.5 64-bit (windows store)",
   "language": "python",
   "name": "python3"
  },
  "language_info": {
   "name": "python",
   "version": "3.10.5"
  },
  "orig_nbformat": 4,
  "vscode": {
   "interpreter": {
    "hash": "bdeb59d3b64914835d647b3375aaf9a9a525da8506b206b2e4c562ce2d2d091a"
   }
  }
 },
 "nbformat": 4,
 "nbformat_minor": 2
}
