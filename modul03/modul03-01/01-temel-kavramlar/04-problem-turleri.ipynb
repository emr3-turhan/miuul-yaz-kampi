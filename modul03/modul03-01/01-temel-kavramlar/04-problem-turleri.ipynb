{
 "cells": [
  {
   "cell_type": "markdown",
   "metadata": {},
   "source": [
    "### Problem Türleri\n",
    "\n",
    "Regresyon problemi mi? Sınıflandırma problemi mi?\n",
    "\n",
    "Bağımlı değişken sayısal ise regresyon problemi, bağımlı değişken kategorik ise sınıflandırma problemidir."
   ]
  }
 ],
 "metadata": {
  "kernelspec": {
   "display_name": "Python 3.10.5 64-bit (windows store)",
   "language": "python",
   "name": "python3"
  },
  "language_info": {
   "name": "python",
   "version": "3.10.5"
  },
  "orig_nbformat": 4,
  "vscode": {
   "interpreter": {
    "hash": "bdeb59d3b64914835d647b3375aaf9a9a525da8506b206b2e4c562ce2d2d091a"
   }
  }
 },
 "nbformat": 4,
 "nbformat_minor": 2
}
