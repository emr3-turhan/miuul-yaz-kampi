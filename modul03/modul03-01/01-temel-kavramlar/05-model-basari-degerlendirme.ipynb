{
 "cells": [
  {
   "cell_type": "markdown",
   "metadata": {},
   "source": [
    "### Model Başarı Değerlendirme Yöntemleri\n",
    "\n",
    "Tahminlerim ne kadar başarılı?\n",
    "\n",
    "![](https://miro.medium.com/max/1136/1*ymNLuBBGhow2-0eaQwQvWw.png)\n",
    "\n",
    "MSE (Mean Squared Error)\n",
    "- Ne kadar küçükse o kadar iyidir.\n",
    "\n",
    "![](https://encrypted-tbn0.gstatic.com/images?q=tbn:ANd9GcSgBmxnuaXcy5CQRMod_rajJwoFgxD73WqxJCbTre3uXt2HfsUIsR6DVnxXOptzQCLDMz8&usqp=CAU)\n",
    "\n",
    "RMSE (Root Mean Squared Error)\n",
    "\n",
    "![](https://img.inotgo.com/imagesLocal/202204/15/202204151501420407_3.png)\n",
    "\n",
    "MAE (Mean Absolute Error)\n",
    "\n",
    "Accuracy = Doğru Sınıflandırma Sayısı / Toplam Sınıflandırılan Gözlem Sayısı"
   ]
  }
 ],
 "metadata": {
  "kernelspec": {
   "display_name": "Python 3.10.5 64-bit (windows store)",
   "language": "python",
   "name": "python3"
  },
  "language_info": {
   "name": "python",
   "version": "3.10.5"
  },
  "orig_nbformat": 4,
  "vscode": {
   "interpreter": {
    "hash": "bdeb59d3b64914835d647b3375aaf9a9a525da8506b206b2e4c562ce2d2d091a"
   }
  }
 },
 "nbformat": 4,
 "nbformat_minor": 2
}
