{
 "cells": [
  {
   "cell_type": "markdown",
   "metadata": {},
   "source": [
    "### Model Doğrulama Yöntemleri\n",
    "\n",
    "Eskiden modeller eğitildiği veri seti üzerinden test edilirken artık daha farklı yöntemler ile test edilir.\n",
    "\n",
    "1. Holdout Yöntemi\n",
    "\n",
    "Orjinal veri setinden eğitim seti ve test seti oluşturulur.\n"
   ]
  }
 ],
 "metadata": {
  "kernelspec": {
   "display_name": "Python 3.10.5 64-bit (windows store)",
   "language": "python",
   "name": "python3"
  },
  "language_info": {
   "name": "python",
   "version": "3.10.5"
  },
  "orig_nbformat": 4,
  "vscode": {
   "interpreter": {
    "hash": "bdeb59d3b64914835d647b3375aaf9a9a525da8506b206b2e4c562ce2d2d091a"
   }
  }
 },
 "nbformat": 4,
 "nbformat_minor": 2
}
