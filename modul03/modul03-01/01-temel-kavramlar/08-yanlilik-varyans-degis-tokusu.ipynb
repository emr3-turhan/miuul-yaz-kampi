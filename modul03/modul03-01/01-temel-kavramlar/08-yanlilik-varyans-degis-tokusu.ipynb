{
 "cells": [
  {
   "cell_type": "markdown",
   "metadata": {},
   "source": [
    "### Yanlılık - Varyans Değiş Tokuşu (Bias - Variance Tradeoff)\n",
    "\n",
    "![](https://static.wixstatic.com/media/806db1_6216a7d2c2264daf9ac6f0f864dbd2e3~mv2.png/v1/fit/w_686%2Ch_373%2Cal_c/file.png)\n",
    "\n",
    "![](https://docs.aws.amazon.com/machine-learning/latest/dg/images/mlconcepts_image5.png)\n",
    "\n",
    "Underfitting: Modelin öğrenememesi (Yüksek Yanlılık)\n",
    "Overfitting: Modelin aşırı öğrenip ezber yapması (Yüksek Varyans)\n",
    "\n",
    "Esneklik: Verinin fonksiyonel yapısını uygun şekilde değerlendirmektir.\n",
    "\n",
    "![](https://miro.medium.com/max/1194/1*E3AKSHT4bPuCBO0PRNuLGg.png)\n",
    "\n",
    "Aç gözlü olmayıp optimum noktada modeli eğitmeyi bırakmak gereklidir."
   ]
  }
 ],
 "metadata": {
  "kernelspec": {
   "display_name": "Python 3.10.5 64-bit (windows store)",
   "language": "python",
   "name": "python3"
  },
  "language_info": {
   "name": "python",
   "version": "3.10.5"
  },
  "orig_nbformat": 4,
  "vscode": {
   "interpreter": {
    "hash": "bdeb59d3b64914835d647b3375aaf9a9a525da8506b206b2e4c562ce2d2d091a"
   }
  }
 },
 "nbformat": 4,
 "nbformat_minor": 2
}
