{
 "cells": [
  {
   "cell_type": "markdown",
   "metadata": {},
   "source": [
    "### Model Doğrulama Yöntemleri\n",
    "\n",
    "Eskiden modeller eğitildiği veri seti üzerinden test edilirken artık daha farklı yöntemler ile test edilir.\n",
    "\n",
    "1. K-Katlı Çapraz Doğrulama\n",
    "\n",
    "Eğer biz veri setimizi %80 eğitim ve %20 test olarak bölersek, test veri seti %20 olduğu için yanlılığa sahip olabilir. %20 test seti modelin tamamını kapsıyor mu?\n",
    "\n",
    "K-katlı bu sorunu çözmek için %80 eğitim veri seti ve %20 test veri seti oluşturulur. Oluşturulan modele test uyguladıktan sonra bir hata oranı bulunur, sonra %20 lik test seti içeride olucak şekilde faklı bir %80 eğitim ve %20 test seti oluşturulur. Her seferinde farklı bir model oluşturulur ve hata oranları ortalaması alınıp genel hata oranı bulunur. Buna çapraz doğrulama denir.\n",
    "\n"
   ]
  }
 ],
 "metadata": {
  "kernelspec": {
   "display_name": "Python 3.10.5 64-bit (windows store)",
   "language": "python",
   "name": "python3"
  },
  "language_info": {
   "name": "python",
   "version": "3.10.5"
  },
  "orig_nbformat": 4,
  "vscode": {
   "interpreter": {
    "hash": "bdeb59d3b64914835d647b3375aaf9a9a525da8506b206b2e4c562ce2d2d091a"
   }
  }
 },
 "nbformat": 4,
 "nbformat_minor": 2
}
