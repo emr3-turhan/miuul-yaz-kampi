{
 "cells": [
  {
   "cell_type": "markdown",
   "metadata": {},
   "source": [
    "### Değişken Türleri (Variable Types)\n",
    "\n",
    "- Sayısal Değişkenler (Aralık, Oran)\n",
    "- Kategorik Değişkenler (Nominal, Ordinal)\n",
    "- Bağımlı Değişken (target, dependent , output, response)\n",
    "- Bağımsız Değişken (feature, independent, input, column, predictor, explanatory)"
   ]
  }
 ],
 "metadata": {
  "kernelspec": {
   "display_name": "Python 3.10.5 64-bit (windows store)",
   "language": "python",
   "name": "python3"
  },
  "language_info": {
   "name": "python",
   "version": "3.10.5"
  },
  "orig_nbformat": 4,
  "vscode": {
   "interpreter": {
    "hash": "bdeb59d3b64914835d647b3375aaf9a9a525da8506b206b2e4c562ce2d2d091a"
   }
  }
 },
 "nbformat": 4,
 "nbformat_minor": 2
}
