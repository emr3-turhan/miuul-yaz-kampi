{
 "cells": [
  {
   "cell_type": "markdown",
   "metadata": {},
   "source": [
    "### Öğrenme Türleri\n",
    "\n",
    "- Makine Öğrenmesi\n",
    "    * Denetimli Öğrenme (Supervised Learning)\n",
    "    * Denetimsiz Öğrenme (Unsupervised Learning)\n",
    "    * Pekiştirmeli Öğrenme (Reinforcement Learning)\n",
    "\n",
    "##### Pekiştirmeli Öğrenme\n",
    "Model elindeki eylemleri kullanarak deneyip yanılarak öğrenir.\n",
    "\n",
    "##### Denetimli Öğrenme\n",
    "Modelin öğrenmeye çalıştığı verileri kullanarak öğrenir yani bağımlı değişken biliniyorsa (örneğin bir hastalık sonucu hastanın hayatta kalıp kalmaması) o bağımlı değişkenden öğrenir.\n",
    "\n",
    "##### Denetimsiz Öğrenme\n",
    "Modelin öğrenmeye çalıştığı verileri kullanmadan öğrenir. Bağımlı değişken (Label) bilinmiyorsa.\n",
    "     "
   ]
  }
 ],
 "metadata": {
  "kernelspec": {
   "display_name": "Python 3.10.5 64-bit (windows store)",
   "language": "python",
   "name": "python3"
  },
  "language_info": {
   "name": "python",
   "version": "3.10.5"
  },
  "orig_nbformat": 4,
  "vscode": {
   "interpreter": {
    "hash": "bdeb59d3b64914835d647b3375aaf9a9a525da8506b206b2e4c562ce2d2d091a"
   }
  }
 },
 "nbformat": 4,
 "nbformat_minor": 2
}
