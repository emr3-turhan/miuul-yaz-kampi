{
 "cells": [
  {
   "cell_type": "markdown",
   "metadata": {},
   "source": [
    "### Log Loss\n",
    "\n",
    "LogLoss = (1/m)(∑-y(i)log(p(y(i)(tahmin))) - (1 - y(i)log(1 - p(y(i)(tahmin)))))\n",
    "\n",
    "Entropi çeşitlilik demektir. Ne kadar yüksekse o kadar çeşit vardır.\n",
    "\n",
    "Log Loss ne kadar düşük o kadar iyi şeklinde yorumlanır."
   ]
  }
 ],
 "metadata": {
  "kernelspec": {
   "display_name": "Python 3.10.5 64-bit (windows store)",
   "language": "python",
   "name": "python3"
  },
  "language_info": {
   "name": "python",
   "version": "3.10.5"
  },
  "orig_nbformat": 4,
  "vscode": {
   "interpreter": {
    "hash": "bdeb59d3b64914835d647b3375aaf9a9a525da8506b206b2e4c562ce2d2d091a"
   }
  }
 },
 "nbformat": 4,
 "nbformat_minor": 2
}
