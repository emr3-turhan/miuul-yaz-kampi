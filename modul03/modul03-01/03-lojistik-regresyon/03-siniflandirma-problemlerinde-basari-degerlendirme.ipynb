{
 "cells": [
  {
   "cell_type": "markdown",
   "metadata": {},
   "source": [
    "### Sınıflandırma Problemlerinde Başarı Değerlendirme\n",
    "\n",
    "                    Tahmin Edilen Sınıf\n",
    "<table><tbody><tr><th>‏‏‏‏‏‏‏‏   </th><th>Sınıf=1</th><th>Sınıf=0</th></tr><tr><td>Sınıf=1</td><td>True Pozitif(TP)</td><td>False Negatif(FN)</td></tr><tr><td>Sınıf=0</td><td>False Pozitif(FP)</td><td>True Negatif(TN)</td></tr></tbody></table>\n",
    "\n",
    "Gerçek Sınıf\n",
    "\n",
    "- <b>Accuracy:</b> Doğru sınıflandırma oranıdır: <b>(TP+TN)/(TP+TN+FP+FN)</b>\n",
    "- <b>Precision:</b> Pozitif sınıf (1) tahminlerinin başarı oranıdır: <b>TP / (TP + FP)</b>\n",
    "- <b>Recall:</b> Pozitif sınıfın (1) doğru tahmin edilme oranıdır: <b>TP / (TP + FN)</b>\n",
    "- <b>F1 SCORE</b> 2 * (Precision * Recall) / (Precision + Recall)"
   ]
  }
 ],
 "metadata": {
  "kernelspec": {
   "display_name": "Python 3.10.5 64-bit (windows store)",
   "language": "python",
   "name": "python3"
  },
  "language_info": {
   "name": "python",
   "version": "3.10.5"
  },
  "orig_nbformat": 4,
  "vscode": {
   "interpreter": {
    "hash": "bdeb59d3b64914835d647b3375aaf9a9a525da8506b206b2e4c562ce2d2d091a"
   }
  }
 },
 "nbformat": 4,
 "nbformat_minor": 2
}
