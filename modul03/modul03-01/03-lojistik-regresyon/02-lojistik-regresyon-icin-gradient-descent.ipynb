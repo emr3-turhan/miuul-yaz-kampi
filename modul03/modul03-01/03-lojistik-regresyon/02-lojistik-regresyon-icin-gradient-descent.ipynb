{
 "cells": [
  {
   "cell_type": "markdown",
   "metadata": {},
   "source": [
    "### Logistic Regression İçin Gradient Descent\n",
    "\n",
    "J(θ) = (1/m) * Σ (Cost(h(θ)(x(i)), y(i))) \n",
    "\n",
    "J(θ) = (1/m) * Σ (-y(i) * log(h(θ)(x(i))) - (1 - y(i)) * log(1 - h(θ)(x(i)))) \n",
    "\n",
    "- h(θ)(x(i)) bağımlı değişkenin bir sınıfının gerçekleşme olasılığıdır. Yani y(i)(tahmin) = 1 / (1 + e^(-(z)))\n",
    "\n",
    "Repeat {\n",
    "\n",
    "    θ(j) := θ(j) - α * (δ/(δθ(j)) * J(θ)\n",
    " }\n"
   ]
  }
 ],
 "metadata": {
  "kernelspec": {
   "display_name": "Python 3.10.5 64-bit (windows store)",
   "language": "python",
   "name": "python3"
  },
  "language_info": {
   "name": "python",
   "version": "3.10.5"
  },
  "orig_nbformat": 4,
  "vscode": {
   "interpreter": {
    "hash": "bdeb59d3b64914835d647b3375aaf9a9a525da8506b206b2e4c562ce2d2d091a"
   }
  }
 },
 "nbformat": 4,
 "nbformat_minor": 2
}
