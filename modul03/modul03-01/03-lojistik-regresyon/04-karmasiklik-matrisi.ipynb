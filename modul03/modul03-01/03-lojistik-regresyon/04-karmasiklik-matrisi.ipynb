{
 "cells": [
  {
   "cell_type": "markdown",
   "metadata": {},
   "source": [
    "### Karmaşıklık Matrisi (Confusion Matrix)\n",
    "\n",
    "> Soru: 100 kredi kartı işlemi var. 990 normal işlem. 19 sahtekar işlem.\n",
    "\n",
    "Buna göre. Confusion matrisi doldurunuz ve başarı metriklerini hesaplayınız.\n",
    "\n",
    "                    Tahmin Edilen Sınıf\n",
    "<table><tbody><tr><th>‏‏‏‏‏‏‏‏   </th><th>Fraud İşlem(1)</th><th>Normal İşlem(0)</th><th> </th></tr><tr><td>Fraud İşlem(1)</td><td>5</td><td>5</td><td>10</td></tr><tr><td>Normal İşlem(0)</td><td>90</td><td>900</td><td>990</td></tr><tr><td>‏‏‏‏‏‏‏‏‏‏‏‏‏‏‏‏   </td><td>95</td><td>905</td><td> </td></tr></tbody></table>\n",
    "\n",
    "Gerçek Sınıf\n",
    "\n",
    "- Accuracy = (5+900) / 1000 = 0.905\n",
    "- Precision = 5 / (5+90) = 0.052\n",
    "- Recall = 5 / (5+5) = 0.5\n",
    "- F-Score = 2 * 0.052 * 0.5 / (0.052 + 0.5) = 0.090"
   ]
  }
 ],
 "metadata": {
  "kernelspec": {
   "display_name": "Python 3.10.5 64-bit (windows store)",
   "language": "python",
   "name": "python3"
  },
  "language_info": {
   "name": "python",
   "version": "3.10.5"
  },
  "orig_nbformat": 4,
  "vscode": {
   "interpreter": {
    "hash": "bdeb59d3b64914835d647b3375aaf9a9a525da8506b206b2e4c562ce2d2d091a"
   }
  }
 },
 "nbformat": 4,
 "nbformat_minor": 2
}
