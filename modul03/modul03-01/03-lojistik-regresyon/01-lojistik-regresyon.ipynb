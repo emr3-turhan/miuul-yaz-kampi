{
 "cells": [
  {
   "cell_type": "markdown",
   "metadata": {},
   "source": [
    "### Lojistik Regresyon (Logistic Regression)\n",
    "\n",
    "Amaç sınıflandırma problemi için bağımlı ve bağımsız değişkenler arasındaki ilişkiyi doğrusal olarak modellemektir.\n",
    "\n",
    "y(i)(tahmin) = 1 / (1 + e^(-(z)))  Sıfırla bir arasında bir değer alır.\n",
    "\n",
    "z = b + w(1)x(1) + w(2)x(2) + w(3)x(3) + ... + w(p)x(p)\n",
    "\n",
    "- Nasıl?\n",
    "Gerçek değerler ile tahmin edilen değerler arasındaki farklara ilişkin log loss değerini minimum yapabilecek ağırlıkları bularak.\n",
    "\n",
    "LogLoss = (1/m)(∑-y(i)log(p(y(i)(tahmin))) - (1 - y(i)log(1 - p(y(i)(tahmin)))))"
   ]
  }
 ],
 "metadata": {
  "kernelspec": {
   "display_name": "Python 3.10.5 64-bit (windows store)",
   "language": "python",
   "name": "python3"
  },
  "language_info": {
   "name": "python",
   "version": "3.10.5"
  },
  "orig_nbformat": 4,
  "vscode": {
   "interpreter": {
    "hash": "bdeb59d3b64914835d647b3375aaf9a9a525da8506b206b2e4c562ce2d2d091a"
   }
  }
 },
 "nbformat": 4,
 "nbformat_minor": 2
}
