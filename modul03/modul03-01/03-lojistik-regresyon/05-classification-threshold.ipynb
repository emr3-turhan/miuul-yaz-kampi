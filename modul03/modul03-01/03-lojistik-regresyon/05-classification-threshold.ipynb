{
 "cells": [
  {
   "cell_type": "markdown",
   "metadata": {},
   "source": [
    "### Sınıflandırma Eşik Değeri\n",
    "\n",
    "Sınıfladırma eşik değerine göre 0 ile 1 arasında gelen tahmin değerleri (Sigmoid fonksiyonu sayesinde) belirlenen eşik değerine göre 0 veya 1 olarak sınıflandırılır. Örneğin 1 gelme olasılığı (formülü:\n",
    "\n",
    "y(i)(tahmin) = 1 / (1 + e^(-(z)))  Sıfırla bir arasında bir değer alır.\n",
    "\n",
    "z = b + w(1)x(1) + w(2)x(2) + w(3)x(3) + ... + w(p)x(p)\n",
    "\n",
    ")\n",
    "\n",
    "0.8 ise ve eşik değer 0.5 olarak belirlenmişse model tahmin olarak 1 olarak sınıflayacaktır. Bu işlemi bütün gözlemler için yaptığımızda accracy değeri oluşacaktır ve eğik değerler değiştiği zaman bu accuracy değeri de değişecektir. Accuracy değeri en yüksek olan eşik değerini bulmak gereklidir.\n",
    "\n",
    "Bu problemi çözmek için ROC Curve yöntemi kullanılır.\n"
   ]
  }
 ],
 "metadata": {
  "kernelspec": {
   "display_name": "Python 3.10.5 64-bit (windows store)",
   "language": "python",
   "name": "python3"
  },
  "language_info": {
   "name": "python",
   "version": "3.10.5"
  },
  "orig_nbformat": 4,
  "vscode": {
   "interpreter": {
    "hash": "bdeb59d3b64914835d647b3375aaf9a9a525da8506b206b2e4c562ce2d2d091a"
   }
  }
 },
 "nbformat": 4,
 "nbformat_minor": 2
}
