{
 "cells": [
  {
   "cell_type": "markdown",
   "metadata": {},
   "source": [
    "### ROC Eğrisi (Receiver Operating Characteristic)\n",
    "\n",
    "<img style=\"width:400px\" src='https://upload.wikimedia.org/wikipedia/commons/thumb/1/13/Roc_curve.svg/1200px-Roc_curve.svg.png'>\n",
    "\n",
    "En iyi threshold değerini bulmak için ROC eğrisi kullanılır. Roc eğirisi ile random classifier arasında kalan en iyi threshold değerini verir. AUC (Area Under Curve).\n",
    "\n",
    "- AUC?\n",
    "\n",
    "ROC eğrisinin tek bir sayısal değer ile ifade edilişidir.\n",
    "\n",
    "ROC eğrisi altında kalan alandır.\n",
    "\n",
    "AUC, tüm olası sınıflandırma eşikleri için toplu bir performans ölçüsüdür."
   ]
  }
 ],
 "metadata": {
  "kernelspec": {
   "display_name": "Python 3.10.5 64-bit (windows store)",
   "language": "python",
   "name": "python3"
  },
  "language_info": {
   "name": "python",
   "version": "3.10.5"
  },
  "orig_nbformat": 4,
  "vscode": {
   "interpreter": {
    "hash": "bdeb59d3b64914835d647b3375aaf9a9a525da8506b206b2e4c562ce2d2d091a"
   }
  }
 },
 "nbformat": 4,
 "nbformat_minor": 2
}
