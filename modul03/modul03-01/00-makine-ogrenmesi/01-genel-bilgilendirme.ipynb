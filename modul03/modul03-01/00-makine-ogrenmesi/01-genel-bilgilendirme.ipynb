{
 "cells": [
  {
   "cell_type": "markdown",
   "metadata": {},
   "source": [
    "## Makine Öğrenmesi eğitimine hoş geldiniz!\n",
    "\n",
    "Eğitimi tamamladığınız zaman aşağıdaki konular hakkında bilgi sahibi olacaksınız:\n",
    "- Temel Kavramlar\n",
    "- Doğrusal Regresyon\n",
    "- Lojistik Regresyon\n",
    "- KNN\n",
    "- CART\n",
    "- Gelişmiş Ağaç Yöntemleri\n",
    "- Denetimsiz Öğrenme\n",
    "- Yapay Öğrernme Pipeline\n",
    "\n",
    "Ödev ve Projeler\n",
    "- Maaş Tahmin Modeli Oluşturma\n",
    "- Ev Fiyat Tahmin Modeli Oluşturma\n",
    "- Telco Müşteri Terk Modeli Oluşturma\n",
    "- Gözetimsiz Öğrenme ile Müşteri Segmantasyonu"
   ]
  }
 ],
 "metadata": {
  "kernelspec": {
   "display_name": "Python 3.10.5 64-bit (windows store)",
   "language": "python",
   "name": "python3"
  },
  "language_info": {
   "name": "python",
   "version": "3.10.5"
  },
  "orig_nbformat": 4,
  "vscode": {
   "interpreter": {
    "hash": "bdeb59d3b64914835d647b3375aaf9a9a525da8506b206b2e4c562ce2d2d091a"
   }
  }
 },
 "nbformat": 4,
 "nbformat_minor": 2
}
