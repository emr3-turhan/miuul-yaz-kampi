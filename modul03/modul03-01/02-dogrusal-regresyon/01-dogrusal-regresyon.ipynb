{
 "cells": [
  {
   "cell_type": "markdown",
   "metadata": {},
   "source": [
    "### Doğrusal Regresyon (Linear Regression)\n",
    "\n",
    "Doğrusal regresyonda amaç, bağımlı ve bağımsız değişken/değişkenler arasındaki ilişkiyi doğrusal olarak modellemektir.\n",
    "\n",
    "- y(i)(tahmin) = b + wx(i)\n",
    "\n",
    "- y(i)(tahmin) = b + w(1)x(1) + w(2)x(2) + w(3)x(3) + ... + w(p)x(p)\n",
    "\n",
    "Öğrenme işlemi ağırlıklar (w) sayesinde gerçekleşir. Makine öğrenmesinde amaç bu ağırlıkların doğru bulunmasıdır."
   ]
  },
  {
   "cell_type": "code",
   "execution_count": null,
   "metadata": {},
   "outputs": [],
   "source": []
  }
 ],
 "metadata": {
  "kernelspec": {
   "display_name": "Python 3.10.5 64-bit (windows store)",
   "language": "python",
   "name": "python3"
  },
  "language_info": {
   "name": "python",
   "version": "3.10.5"
  },
  "orig_nbformat": 4,
  "vscode": {
   "interpreter": {
    "hash": "bdeb59d3b64914835d647b3375aaf9a9a525da8506b206b2e4c562ce2d2d091a"
   }
  }
 },
 "nbformat": 4,
 "nbformat_minor": 2
}
