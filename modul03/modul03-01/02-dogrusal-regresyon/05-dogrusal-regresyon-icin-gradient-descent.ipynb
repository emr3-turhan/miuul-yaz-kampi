{
 "cells": [
  {
   "cell_type": "markdown",
   "metadata": {},
   "source": [
    "### Doğrusal Regresyon İçin Gradient Descent\n",
    "\n",
    "- Gradient Descent Nedir?\n",
    "\n",
    "Makine öğrenmesinden bağımsız olarak bir optimizasyon yöntemidir. Amacı bir fonksiyonu minimum yapabilecek parametre değerlerini bulmaktır.\n",
    "\n",
    "Gradyanın negatifi olarak tanımlanan 'en dik iniş' yönünde iteratif olarak parametre değerlerini güncelleyerek ilgili fonksiyonun minimum değerini verebilecek parametreleri bulur.\n",
    "\n",
    "Bizim Cost (MSE) fonksiyonu minimize edebilecek parametreleri bulmak için kullanılır.\n",
    "\n",
    "<img src='https://miro.medium.com/max/1400/1*fWc_cUNDEn4LpS6aissyXA.jpeg'>\n",
    "\n",
    "Cost(b, w) = 1/2m * ∑((b + wx(i)) - y(i))^2\n",
    "\n",
    "J(θ(0), θ(1)) = 1/2m * ∑(h(θ)(x(i)) - y(i))^2  (Optimizasyon)\n",
    "\n",
    "Local minimum noktasını kaçırmamak için alfa (learning rate) hasssas belirlenmelidir.\n",
    "\n",
    "\n",
    "\n"
   ]
  }
 ],
 "metadata": {
  "kernelspec": {
   "display_name": "Python 3.10.5 64-bit (windows store)",
   "language": "python",
   "name": "python3"
  },
  "language_info": {
   "name": "python",
   "version": "3.10.5"
  },
  "orig_nbformat": 4,
  "vscode": {
   "interpreter": {
    "hash": "bdeb59d3b64914835d647b3375aaf9a9a525da8506b206b2e4c562ce2d2d091a"
   }
  }
 },
 "nbformat": 4,
 "nbformat_minor": 2
}
