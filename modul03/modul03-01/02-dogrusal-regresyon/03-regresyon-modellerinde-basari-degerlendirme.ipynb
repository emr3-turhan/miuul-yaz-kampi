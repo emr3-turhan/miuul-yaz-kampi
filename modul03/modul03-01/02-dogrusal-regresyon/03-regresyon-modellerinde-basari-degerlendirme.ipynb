{
 "cells": [
  {
   "cell_type": "markdown",
   "metadata": {},
   "source": [
    "### Regresyon Modellerinde Başarı Değerlendirme (MSE, RMSE, MAE)\n",
    "\n",
    "MSE, RMSE, MAE değerleri sadece göstergedir. Birinin düşük ya da fazla gelmesi modelin başarısıyla ilgili değildir. Çıkan değerin değişken mühendisliğiyle azaltılmaya çalışılması gerekir.\n",
    "\n",
    "Biz RMSE yi tercih edeceğiz.\n"
   ]
  },
  {
   "cell_type": "code",
   "execution_count": null,
   "metadata": {},
   "outputs": [],
   "source": []
  }
 ],
 "metadata": {
  "kernelspec": {
   "display_name": "Python 3.10.5 64-bit (windows store)",
   "language": "python",
   "name": "python3"
  },
  "language_info": {
   "name": "python",
   "version": "3.10.5"
  },
  "orig_nbformat": 4,
  "vscode": {
   "interpreter": {
    "hash": "bdeb59d3b64914835d647b3375aaf9a9a525da8506b206b2e4c562ce2d2d091a"
   }
  }
 },
 "nbformat": 4,
 "nbformat_minor": 2
}
