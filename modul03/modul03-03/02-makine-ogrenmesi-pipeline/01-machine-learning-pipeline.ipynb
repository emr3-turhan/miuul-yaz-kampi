{
 "cells": [
  {
   "cell_type": "markdown",
   "metadata": {},
   "source": [
    "### Makine Öğrenmesi Pipeline\n",
    "\n",
    "##### End-to-end Diabetes Machine Learning Pipeline I\n",
    "\n",
    "1. Exploratory Data Analysis\n",
    "2. Data Preprocessing & Feature Engineering\n",
    "3. Base Models\n",
    "4. Automated Hyperparameter Optimization\n",
    "5. Stacking & Ensemble Learning\n",
    "6. Prediction for a New Observation\n",
    "7. Pipeline Main Function"
   ]
  },
  {
   "cell_type": "code",
   "execution_count": 1,
   "metadata": {},
   "outputs": [],
   "source": [
    "import joblib\n",
    "import pandas as pd\n",
    "import seaborn as sns\n",
    "from matplotlib import pyplot as plt\n",
    "from sklearn.ensemble import RandomForestClassifier, GradientBoostingClassifier,VotingClassifier, AdaBoostClassifier\n",
    "from sklearn.linear_model import LogisticRegression\n",
    "from sklearn.model_selection import cross_validate,GridSearchCV\n",
    "from sklearn.neighbors import KNeighborsClassifier\n",
    "from sklearn.svm import SVC\n",
    "from sklearn.tree import DecisionTreeClassifier\n",
    "from sklearn.preprocessing import StandardScaler\n",
    "\n",
    "from xgboost import XGBClassifier\n",
    "from lightgbm import LGBMClassifier\n",
    "from catboost import CatBoostClassifier\n",
    "\n",
    "pd.set_option(\"display.max_columns\", None)\n",
    "pd.set_option(\"display.width\",500)\n",
    "\n"
   ]
  },
  {
   "cell_type": "code",
   "execution_count": 2,
   "metadata": {},
   "outputs": [],
   "source": [
    "#######################\n",
    "# 1. Exploratory Data Analysis\n",
    "#######################"
   ]
  },
  {
   "cell_type": "code",
   "execution_count": 3,
   "metadata": {},
   "outputs": [],
   "source": [
    "def check_df(dataframe,head=5):\n",
    "    print(\"#################### Shape #####################\")\n",
    "    print(dataframe.shape)\n",
    "    print(\"#################### Types #####################\")\n",
    "    print(dataframe.dtypes)\n",
    "    print(\"#################### Head #####################\")\n",
    "    print(dataframe.head(head))\n",
    "    print(\"#################### Tail #####################\")\n",
    "    print(dataframe.tail(head))\n",
    "    print(\"#################### NA #####################\")\n",
    "    print(dataframe.isnull().sum())\n",
    "    print(\"#################### Quantiles #####################\")\n",
    "    print(dataframe.describe([0,0.05,0.50,0.95,0.99,1]).T)"
   ]
  },
  {
   "cell_type": "code",
   "execution_count": 4,
   "metadata": {},
   "outputs": [],
   "source": [
    "def cat_summary(dataframe,col_name,plot=False):\n",
    "    print(pd.DataFrame({col_name:dataframe[col_name].value_counts(),\n",
    "                        \"Ratio\": 100 * dataframe[col_name].value_counts() / len(dataframe)}))\n",
    "    print(\"##############################################################\")\n",
    "\n",
    "    if plot:\n",
    "        sns.countplot(x=dataframe[col_name],data=dataframe)\n",
    "        plt.show(block=True)"
   ]
  },
  {
   "cell_type": "code",
   "execution_count": 5,
   "metadata": {},
   "outputs": [],
   "source": [
    "def num_summary(dataframe,numerical_col,plot=False):\n",
    "    quantiles = [0.05,0.10,0.20,0.30,0.40,0.50,0.60,0.70,0.80,0.90,0.95,0.99]\n",
    "    print(dataframe[numerical_col].describe(quantiles).T)\n",
    "\n",
    "    if plot:\n",
    "        dataframe[numerical_col].hist()\n",
    "        plt.xlabel(numerical_col)\n",
    "        plt.title(numerical_col)\n",
    "        plt.show(block=True)"
   ]
  },
  {
   "cell_type": "code",
   "execution_count": 9,
   "metadata": {},
   "outputs": [],
   "source": [
    "def target_summary_with_num(dataframe,target,numeric_col):\n",
    "    print(dataframe.groupby(target).agg({numeric_col: [\"mean\"]}),end=\"\\n\\n\\n\")"
   ]
  },
  {
   "cell_type": "code",
   "execution_count": 8,
   "metadata": {},
   "outputs": [],
   "source": [
    "def target_summary_with_cat(dataframe,target,categorical_col):\n",
    "    print(pd.DataFrame({\"TARGET_MEAN\": dataframe.groupby(categorical_col)[target].mean()}),end=\"\\n\\n\\n\")"
   ]
  },
  {
   "cell_type": "code",
   "execution_count": 24,
   "metadata": {},
   "outputs": [],
   "source": [
    "def correlation_matrix(df,cols):\n",
    "    fig = plt.gcf()\n",
    "    fig.set_size_inches(10,8)\n",
    "    plt.xticks(fontsize=10)\n",
    "    plt.yticks(fontsize=10)\n",
    "    fig = sns.heatmap(df[cols].corr(),annot=True,linewidths=0.5,annot_kws={\"size\":12},linecolor=\"w\",cmap=\"RdBu\")\n",
    "    plt.show(block=True)\n"
   ]
  },
  {
   "cell_type": "code",
   "execution_count": 12,
   "metadata": {},
   "outputs": [],
   "source": [
    "def grab_col_names(dataframe,cat_th=10,car_th=20):\n",
    "    \"\"\"Veri setindeki kategorik, numerik ve kategorik fakat kardinal değişkenlerin isimlerini verir.\n",
    "        Not: Kategorik değişkenlerin içerisine numerik görünümlü kategorik değişkenler \n",
    "\n",
    "    Args:\n",
    "    -----\n",
    "        dataframe: dataframe\n",
    "                Değişken isimleri alınmak istenilen dataframe\n",
    "        cat_th: int, optional\n",
    "                Numerik fakat kategorik olan değişkenler için sınıf eşik değeri\n",
    "        car_th: int, optional\n",
    "                Kategorik fakat kardinal olan değişkenler için sınıf eşik değeri\n",
    "    Returns:\n",
    "    --------\n",
    "        cat_cols: list\n",
    "                Kategorik değişken listesi\n",
    "        num_cols: list\n",
    "                Numerik değişken listesi\n",
    "        cat_but_car: list\n",
    "                Kategorik görünümlü kardinal olan değişken listesi\n",
    "\n",
    "    Notes:\n",
    "    -----\n",
    "    cat_cols + num_cols + cat_but_cat = toplam değişken sayısı\n",
    "    num_but_cat cat_cols'un içerisinde.\n",
    "    Return olan 3 liste toplamı toplam değişken sayısına eşittir: cat_cols + num_cols\n",
    "    \n",
    "    \n",
    "    \n",
    "    \n",
    "    \"\"\"\n",
    "\n",
    "    # cat_cols, cat_but_car\n",
    "    cat_cols = [col for col in dataframe.columns if str(dataframe[col].dtypes) in [\"category\",\"object\",\"bool\"]]\n",
    "    num_but_cat = [col for col in dataframe.columns if dataframe[col].nunique() < cat_th and dataframe[col].dtypes in [\"int64\",\"float64\"]]\n",
    "    cat_but_car = [col for col in dataframe.columns if dataframe[col].nunique() > car_th and str(dataframe[col].dtypes) in [\"category\",\"object\"]]\n",
    "    cat_cols = cat_cols + num_but_cat\n",
    "    cat_cols = [col for col in cat_cols if col not in cat_but_car]\n",
    "    num_cols = [col for col in dataframe.columns if dataframe[col].dtypes in [\"int64\",\"float64\"]]\n",
    "    num_cols = [col for col in num_cols if col not in cat_cols]\n",
    "\n",
    "    print(f\"Gözlemler: {dataframe.shape[0]}\")\n",
    "    print(f\"Değişkenler: {dataframe.shape[1]}\")\n",
    "    print(f\"cat_cols: {len(cat_cols)}\")\n",
    "    print(f\"num_cols: {len(num_cols)}\")\n",
    "    print(f\"cat_but_car: {len(cat_but_car)}\")\n",
    "    print(f\"num_but_cat: {len(num_but_cat)}\")\n",
    "\n",
    "    return cat_cols, num_cols, cat_but_car"
   ]
  },
  {
   "cell_type": "code",
   "execution_count": 13,
   "metadata": {},
   "outputs": [],
   "source": [
    "df = pd.read_csv(\"diabetes.csv\")"
   ]
  },
  {
   "cell_type": "code",
   "execution_count": 14,
   "metadata": {},
   "outputs": [
    {
     "name": "stdout",
     "output_type": "stream",
     "text": [
      "#################### Shape #####################\n",
      "(768, 9)\n",
      "#################### Types #####################\n",
      "Pregnancies                   int64\n",
      "Glucose                       int64\n",
      "BloodPressure                 int64\n",
      "SkinThickness                 int64\n",
      "Insulin                       int64\n",
      "BMI                         float64\n",
      "DiabetesPedigreeFunction    float64\n",
      "Age                           int64\n",
      "Outcome                       int64\n",
      "dtype: object\n",
      "#################### Head #####################\n",
      "   Pregnancies  Glucose  BloodPressure  SkinThickness  Insulin   BMI  DiabetesPedigreeFunction  Age  Outcome\n",
      "0            6      148             72             35        0  33.6                     0.627   50        1\n",
      "1            1       85             66             29        0  26.6                     0.351   31        0\n",
      "2            8      183             64              0        0  23.3                     0.672   32        1\n",
      "3            1       89             66             23       94  28.1                     0.167   21        0\n",
      "4            0      137             40             35      168  43.1                     2.288   33        1\n",
      "#################### Tail #####################\n",
      "     Pregnancies  Glucose  BloodPressure  SkinThickness  Insulin   BMI  DiabetesPedigreeFunction  Age  Outcome\n",
      "763           10      101             76             48      180  32.9                     0.171   63        0\n",
      "764            2      122             70             27        0  36.8                     0.340   27        0\n",
      "765            5      121             72             23      112  26.2                     0.245   30        0\n",
      "766            1      126             60              0        0  30.1                     0.349   47        1\n",
      "767            1       93             70             31        0  30.4                     0.315   23        0\n",
      "#################### NA #####################\n",
      "Pregnancies                 0\n",
      "Glucose                     0\n",
      "BloodPressure               0\n",
      "SkinThickness               0\n",
      "Insulin                     0\n",
      "BMI                         0\n",
      "DiabetesPedigreeFunction    0\n",
      "Age                         0\n",
      "Outcome                     0\n",
      "dtype: int64\n",
      "#################### Quantiles #####################\n",
      "                          count        mean         std     min      0%        5%       50%        95%        99%    100%     max\n",
      "Pregnancies               768.0    3.845052    3.369578   0.000   0.000   0.00000    3.0000   10.00000   13.00000   17.00   17.00\n",
      "Glucose                   768.0  120.894531   31.972618   0.000   0.000  79.00000  117.0000  181.00000  196.00000  199.00  199.00\n",
      "BloodPressure             768.0   69.105469   19.355807   0.000   0.000  38.70000   72.0000   90.00000  106.00000  122.00  122.00\n",
      "SkinThickness             768.0   20.536458   15.952218   0.000   0.000   0.00000   23.0000   44.00000   51.33000   99.00   99.00\n",
      "Insulin                   768.0   79.799479  115.244002   0.000   0.000   0.00000   30.5000  293.00000  519.90000  846.00  846.00\n",
      "BMI                       768.0   31.992578    7.884160   0.000   0.000  21.80000   32.0000   44.39500   50.75900   67.10   67.10\n",
      "DiabetesPedigreeFunction  768.0    0.471876    0.331329   0.078   0.078   0.14035    0.3725    1.13285    1.69833    2.42    2.42\n",
      "Age                       768.0   33.240885   11.760232  21.000  21.000  21.00000   29.0000   58.00000   67.00000   81.00   81.00\n",
      "Outcome                   768.0    0.348958    0.476951   0.000   0.000   0.00000    0.0000    1.00000    1.00000    1.00    1.00\n"
     ]
    }
   ],
   "source": [
    "check_df(df)"
   ]
  },
  {
   "cell_type": "code",
   "execution_count": 15,
   "metadata": {},
   "outputs": [
    {
     "name": "stdout",
     "output_type": "stream",
     "text": [
      "Gözlemler: 768\n",
      "Değişkenler: 9\n",
      "cat_cols: 1\n",
      "num_cols: 8\n",
      "cat_but_car: 0\n",
      "num_but_cat: 1\n"
     ]
    }
   ],
   "source": [
    "# Degisken turlerinin ayristirilamasi\n",
    "cat_cols, num_cols, cat_but_cat = grab_col_names(df, cat_th=5, car_th=20)"
   ]
  },
  {
   "cell_type": "code",
   "execution_count": 16,
   "metadata": {},
   "outputs": [
    {
     "data": {
      "text/plain": [
       "['Outcome']"
      ]
     },
     "execution_count": 16,
     "metadata": {},
     "output_type": "execute_result"
    }
   ],
   "source": [
    "cat_cols"
   ]
  },
  {
   "cell_type": "code",
   "execution_count": 17,
   "metadata": {},
   "outputs": [
    {
     "data": {
      "text/plain": [
       "['Pregnancies',\n",
       " 'Glucose',\n",
       " 'BloodPressure',\n",
       " 'SkinThickness',\n",
       " 'Insulin',\n",
       " 'BMI',\n",
       " 'DiabetesPedigreeFunction',\n",
       " 'Age']"
      ]
     },
     "execution_count": 17,
     "metadata": {},
     "output_type": "execute_result"
    }
   ],
   "source": [
    "num_cols"
   ]
  },
  {
   "cell_type": "code",
   "execution_count": 18,
   "metadata": {},
   "outputs": [
    {
     "data": {
      "text/plain": [
       "[]"
      ]
     },
     "execution_count": 18,
     "metadata": {},
     "output_type": "execute_result"
    }
   ],
   "source": [
    "cat_but_cat"
   ]
  },
  {
   "cell_type": "code",
   "execution_count": 19,
   "metadata": {},
   "outputs": [
    {
     "name": "stdout",
     "output_type": "stream",
     "text": [
      "   Outcome      Ratio\n",
      "0      500  65.104167\n",
      "1      268  34.895833\n",
      "##############################################################\n"
     ]
    }
   ],
   "source": [
    "# Kategorik degiskenlerin incelenemesi\n",
    "for col in cat_cols:\n",
    "    cat_summary(df,col)"
   ]
  },
  {
   "cell_type": "code",
   "execution_count": 21,
   "metadata": {},
   "outputs": [
    {
     "data": {
      "text/html": [
       "<div>\n",
       "<style scoped>\n",
       "    .dataframe tbody tr th:only-of-type {\n",
       "        vertical-align: middle;\n",
       "    }\n",
       "\n",
       "    .dataframe tbody tr th {\n",
       "        vertical-align: top;\n",
       "    }\n",
       "\n",
       "    .dataframe thead th {\n",
       "        text-align: right;\n",
       "    }\n",
       "</style>\n",
       "<table border=\"1\" class=\"dataframe\">\n",
       "  <thead>\n",
       "    <tr style=\"text-align: right;\">\n",
       "      <th></th>\n",
       "      <th>count</th>\n",
       "      <th>mean</th>\n",
       "      <th>std</th>\n",
       "      <th>min</th>\n",
       "      <th>25%</th>\n",
       "      <th>50%</th>\n",
       "      <th>75%</th>\n",
       "      <th>max</th>\n",
       "    </tr>\n",
       "  </thead>\n",
       "  <tbody>\n",
       "    <tr>\n",
       "      <th>Pregnancies</th>\n",
       "      <td>768.0</td>\n",
       "      <td>3.845052</td>\n",
       "      <td>3.369578</td>\n",
       "      <td>0.000</td>\n",
       "      <td>1.00000</td>\n",
       "      <td>3.0000</td>\n",
       "      <td>6.00000</td>\n",
       "      <td>17.00</td>\n",
       "    </tr>\n",
       "    <tr>\n",
       "      <th>Glucose</th>\n",
       "      <td>768.0</td>\n",
       "      <td>120.894531</td>\n",
       "      <td>31.972618</td>\n",
       "      <td>0.000</td>\n",
       "      <td>99.00000</td>\n",
       "      <td>117.0000</td>\n",
       "      <td>140.25000</td>\n",
       "      <td>199.00</td>\n",
       "    </tr>\n",
       "    <tr>\n",
       "      <th>BloodPressure</th>\n",
       "      <td>768.0</td>\n",
       "      <td>69.105469</td>\n",
       "      <td>19.355807</td>\n",
       "      <td>0.000</td>\n",
       "      <td>62.00000</td>\n",
       "      <td>72.0000</td>\n",
       "      <td>80.00000</td>\n",
       "      <td>122.00</td>\n",
       "    </tr>\n",
       "    <tr>\n",
       "      <th>SkinThickness</th>\n",
       "      <td>768.0</td>\n",
       "      <td>20.536458</td>\n",
       "      <td>15.952218</td>\n",
       "      <td>0.000</td>\n",
       "      <td>0.00000</td>\n",
       "      <td>23.0000</td>\n",
       "      <td>32.00000</td>\n",
       "      <td>99.00</td>\n",
       "    </tr>\n",
       "    <tr>\n",
       "      <th>Insulin</th>\n",
       "      <td>768.0</td>\n",
       "      <td>79.799479</td>\n",
       "      <td>115.244002</td>\n",
       "      <td>0.000</td>\n",
       "      <td>0.00000</td>\n",
       "      <td>30.5000</td>\n",
       "      <td>127.25000</td>\n",
       "      <td>846.00</td>\n",
       "    </tr>\n",
       "    <tr>\n",
       "      <th>BMI</th>\n",
       "      <td>768.0</td>\n",
       "      <td>31.992578</td>\n",
       "      <td>7.884160</td>\n",
       "      <td>0.000</td>\n",
       "      <td>27.30000</td>\n",
       "      <td>32.0000</td>\n",
       "      <td>36.60000</td>\n",
       "      <td>67.10</td>\n",
       "    </tr>\n",
       "    <tr>\n",
       "      <th>DiabetesPedigreeFunction</th>\n",
       "      <td>768.0</td>\n",
       "      <td>0.471876</td>\n",
       "      <td>0.331329</td>\n",
       "      <td>0.078</td>\n",
       "      <td>0.24375</td>\n",
       "      <td>0.3725</td>\n",
       "      <td>0.62625</td>\n",
       "      <td>2.42</td>\n",
       "    </tr>\n",
       "    <tr>\n",
       "      <th>Age</th>\n",
       "      <td>768.0</td>\n",
       "      <td>33.240885</td>\n",
       "      <td>11.760232</td>\n",
       "      <td>21.000</td>\n",
       "      <td>24.00000</td>\n",
       "      <td>29.0000</td>\n",
       "      <td>41.00000</td>\n",
       "      <td>81.00</td>\n",
       "    </tr>\n",
       "  </tbody>\n",
       "</table>\n",
       "</div>"
      ],
      "text/plain": [
       "                          count        mean         std     min       25%       50%        75%     max\n",
       "Pregnancies               768.0    3.845052    3.369578   0.000   1.00000    3.0000    6.00000   17.00\n",
       "Glucose                   768.0  120.894531   31.972618   0.000  99.00000  117.0000  140.25000  199.00\n",
       "BloodPressure             768.0   69.105469   19.355807   0.000  62.00000   72.0000   80.00000  122.00\n",
       "SkinThickness             768.0   20.536458   15.952218   0.000   0.00000   23.0000   32.00000   99.00\n",
       "Insulin                   768.0   79.799479  115.244002   0.000   0.00000   30.5000  127.25000  846.00\n",
       "BMI                       768.0   31.992578    7.884160   0.000  27.30000   32.0000   36.60000   67.10\n",
       "DiabetesPedigreeFunction  768.0    0.471876    0.331329   0.078   0.24375    0.3725    0.62625    2.42\n",
       "Age                       768.0   33.240885   11.760232  21.000  24.00000   29.0000   41.00000   81.00"
      ]
     },
     "execution_count": 21,
     "metadata": {},
     "output_type": "execute_result"
    }
   ],
   "source": [
    "# Sayısal degiskenlerin incelenmesi\n",
    "df[num_cols].describe().T"
   ]
  },
  {
   "cell_type": "code",
   "execution_count": 22,
   "metadata": {},
   "outputs": [
    {
     "name": "stdout",
     "output_type": "stream",
     "text": [
      "count    768.000000\n",
      "mean       3.845052\n",
      "std        3.369578\n",
      "min        0.000000\n",
      "5%         0.000000\n",
      "10%        0.000000\n",
      "20%        1.000000\n",
      "30%        1.000000\n",
      "40%        2.000000\n",
      "50%        3.000000\n",
      "60%        4.000000\n",
      "70%        5.000000\n",
      "80%        7.000000\n",
      "90%        9.000000\n",
      "95%       10.000000\n",
      "99%       13.000000\n",
      "max       17.000000\n",
      "Name: Pregnancies, dtype: float64\n"
     ]
    },
    {
     "data": {
      "image/png": "[encoded data removed]",
      "text/plain": [
       "<Figure size 432x288 with 1 Axes>"
      ]
     },
     "metadata": {
      "needs_background": "light"
     },
     "output_type": "display_data"
    },
    {
     "name": "stdout",
     "output_type": "stream",
     "text": [
      "count    768.000000\n",
      "mean     120.894531\n",
      "std       31.972618\n",
      "min        0.000000\n",
      "5%        79.000000\n",
      "10%       85.000000\n",
      "20%       95.000000\n",
      "30%      102.000000\n",
      "40%      109.000000\n",
      "50%      117.000000\n",
      "60%      125.000000\n",
      "70%      134.000000\n",
      "80%      147.000000\n",
      "90%      167.000000\n",
      "95%      181.000000\n",
      "99%      196.000000\n",
      "max      199.000000\n",
      "Name: Glucose, dtype: float64\n"
     ]
    },
    {
     "data": {
      "image/png": "[encoded data removed]",
      "text/plain": [
       "<Figure size 432x288 with 1 Axes>"
      ]
     },
     "metadata": {
      "needs_background": "light"
     },
     "output_type": "display_data"
    },
    {
     "name": "stdout",
     "output_type": "stream",
     "text": [
      "count    768.000000\n",
      "mean      69.105469\n",
      "std       19.355807\n",
      "min        0.000000\n",
      "5%        38.700000\n",
      "10%       54.000000\n",
      "20%       60.000000\n",
      "30%       64.000000\n",
      "40%       68.000000\n",
      "50%       72.000000\n",
      "60%       74.000000\n",
      "70%       78.000000\n",
      "80%       82.000000\n",
      "90%       88.000000\n",
      "95%       90.000000\n",
      "99%      106.000000\n",
      "max      122.000000\n",
      "Name: BloodPressure, dtype: float64\n"
     ]
    },
    {
     "data": {
      "image/png": "[encoded data removed]",
      "text/plain": [
       "<Figure size 432x288 with 1 Axes>"
      ]
     },
     "metadata": {
      "needs_background": "light"
     },
     "output_type": "display_data"
    },
    {
     "name": "stdout",
     "output_type": "stream",
     "text": [
      "count    768.000000\n",
      "mean      20.536458\n",
      "std       15.952218\n",
      "min        0.000000\n",
      "5%         0.000000\n",
      "10%        0.000000\n",
      "20%        0.000000\n",
      "30%        8.200000\n",
      "40%       18.000000\n",
      "50%       23.000000\n",
      "60%       27.000000\n",
      "70%       31.000000\n",
      "80%       35.000000\n",
      "90%       40.000000\n",
      "95%       44.000000\n",
      "99%       51.330000\n",
      "max       99.000000\n",
      "Name: SkinThickness, dtype: float64\n"
     ]
    },
    {
     "data": {
      "image/png": "[encoded data removed]",
      "text/plain": [
       "<Figure size 432x288 with 1 Axes>"
      ]
     },
     "metadata": {
      "needs_background": "light"
     },
     "output_type": "display_data"
    },
    {
     "name": "stdout",
     "output_type": "stream",
     "text": [
      "count    768.000000\n",
      "mean      79.799479\n",
      "std      115.244002\n",
      "min        0.000000\n",
      "5%         0.000000\n",
      "10%        0.000000\n",
      "20%        0.000000\n",
      "30%        0.000000\n",
      "40%        0.000000\n",
      "50%       30.500000\n",
      "60%       72.200000\n",
      "70%      106.000000\n",
      "80%      150.000000\n",
      "90%      210.000000\n",
      "95%      293.000000\n",
      "99%      519.900000\n",
      "max      846.000000\n",
      "Name: Insulin, dtype: float64\n"
     ]
    },
    {
     "data": {
      "image/png": "[encoded data removed]",
      "text/plain": [
       "<Figure size 432x288 with 1 Axes>"
      ]
     },
     "metadata": {
      "needs_background": "light"
     },
     "output_type": "display_data"
    },
    {
     "name": "stdout",
     "output_type": "stream",
     "text": [
      "count    768.000000\n",
      "mean      31.992578\n",
      "std        7.884160\n",
      "min        0.000000\n",
      "5%        21.800000\n",
      "10%       23.600000\n",
      "20%       25.900000\n",
      "30%       28.200000\n",
      "40%       30.100000\n",
      "50%       32.000000\n",
      "60%       33.700000\n",
      "70%       35.490000\n",
      "80%       37.800000\n",
      "90%       41.500000\n",
      "95%       44.395000\n",
      "99%       50.759000\n",
      "max       67.100000\n",
      "Name: BMI, dtype: float64\n"
     ]
    },
    {
     "data": {
      "image/png": "[encoded data removed]",
      "text/plain": [
       "<Figure size 432x288 with 1 Axes>"
      ]
     },
     "metadata": {
      "needs_background": "light"
     },
     "output_type": "display_data"
    },
    {
     "name": "stdout",
     "output_type": "stream",
     "text": [
      "count    768.000000\n",
      "mean       0.471876\n",
      "std        0.331329\n",
      "min        0.078000\n",
      "5%         0.140350\n",
      "10%        0.165000\n",
      "20%        0.219400\n",
      "30%        0.259000\n",
      "40%        0.302800\n",
      "50%        0.372500\n",
      "60%        0.454200\n",
      "70%        0.563700\n",
      "80%        0.687000\n",
      "90%        0.878600\n",
      "95%        1.132850\n",
      "99%        1.698330\n",
      "max        2.420000\n",
      "Name: DiabetesPedigreeFunction, dtype: float64\n"
     ]
    },
    {
     "data": {
      "image/png": "[encoded data removed]",
      "text/plain": [
       "<Figure size 432x288 with 1 Axes>"
      ]
     },
     "metadata": {
      "needs_background": "light"
     },
     "output_type": "display_data"
    },
    {
     "name": "stdout",
     "output_type": "stream",
     "text": [
      "count    768.000000\n",
      "mean      33.240885\n",
      "std       11.760232\n",
      "min       21.000000\n",
      "5%        21.000000\n",
      "10%       22.000000\n",
      "20%       23.000000\n",
      "30%       25.000000\n",
      "40%       27.000000\n",
      "50%       29.000000\n",
      "60%       33.000000\n",
      "70%       38.000000\n",
      "80%       42.600000\n",
      "90%       51.000000\n",
      "95%       58.000000\n",
      "99%       67.000000\n",
      "max       81.000000\n",
      "Name: Age, dtype: float64\n"
     ]
    },
    {
     "data": {
      "image/png": "[encoded data removed]",
      "text/plain": [
       "<Figure size 432x288 with 1 Axes>"
      ]
     },
     "metadata": {
      "needs_background": "light"
     },
     "output_type": "display_data"
    }
   ],
   "source": [
    "for col in num_cols:\n",
    "    num_summary(df,col,plot=True)"
   ]
  },
  {
   "cell_type": "code",
   "execution_count": 25,
   "metadata": {},
   "outputs": [
    {
     "data": {
      "image/png": "[encoded data removed]",
      "text/plain": [
       "<Figure size 720x576 with 2 Axes>"
      ]
     },
     "metadata": {
      "needs_background": "light"
     },
     "output_type": "display_data"
    }
   ],
   "source": [
    "# Sayısal degiskenlerin birbirleriyle korelasyonu\n",
    "correlation_matrix(df,num_cols)"
   ]
  },
  {
   "cell_type": "code",
   "execution_count": 26,
   "metadata": {},
   "outputs": [
    {
     "name": "stdout",
     "output_type": "stream",
     "text": [
      "        Pregnancies\n",
      "               mean\n",
      "Outcome            \n",
      "0          3.298000\n",
      "1          4.865672\n",
      "\n",
      "\n",
      "            Glucose\n",
      "               mean\n",
      "Outcome            \n",
      "0        109.980000\n",
      "1        141.257463\n",
      "\n",
      "\n",
      "        BloodPressure\n",
      "                 mean\n",
      "Outcome              \n",
      "0           68.184000\n",
      "1           70.824627\n",
      "\n",
      "\n",
      "        SkinThickness\n",
      "                 mean\n",
      "Outcome              \n",
      "0           19.664000\n",
      "1           22.164179\n",
      "\n",
      "\n",
      "            Insulin\n",
      "               mean\n",
      "Outcome            \n",
      "0         68.792000\n",
      "1        100.335821\n",
      "\n",
      "\n",
      "               BMI\n",
      "              mean\n",
      "Outcome           \n",
      "0        30.304200\n",
      "1        35.142537\n",
      "\n",
      "\n",
      "        DiabetesPedigreeFunction\n",
      "                            mean\n",
      "Outcome                         \n",
      "0                       0.429734\n",
      "1                       0.550500\n",
      "\n",
      "\n",
      "               Age\n",
      "              mean\n",
      "Outcome           \n",
      "0        31.190000\n",
      "1        37.067164\n",
      "\n",
      "\n"
     ]
    }
   ],
   "source": [
    "# Target ile sayisal degiskenlerin incelenmesi\n",
    "for col in num_cols:\n",
    "    target_summary_with_num(df,\"Outcome\",col)"
   ]
  },
  {
   "cell_type": "code",
   "execution_count": 27,
   "metadata": {},
   "outputs": [],
   "source": [
    "######################################\n",
    "# 2. Data Preprocessing & Feature Engineering\n",
    "######################################"
   ]
  },
  {
   "cell_type": "code",
   "execution_count": 28,
   "metadata": {},
   "outputs": [],
   "source": [
    "def outlier_thresholds(dataframe, col_name, q1 = 0.25, q3 = 0.75):\n",
    "    quartile1 = dataframe[col_name].quantile(q1)\n",
    "    quartile3 = dataframe[col_name].quantile(q3)\n",
    "    interquartile_range = quartile3 - quartile1\n",
    "    up_limit = quartile3 + 1.5 * interquartile_range\n",
    "    low_limit = quartile1 - 1.5 * interquartile_range\n",
    "    return low_limit, up_limit"
   ]
  },
  {
   "cell_type": "code",
   "execution_count": 29,
   "metadata": {},
   "outputs": [],
   "source": [
    "def replace_with_thresholds(dataframe, variable):\n",
    "    low_limit, up_limit = outlier_thresholds(dataframe,variable)\n",
    "    dataframe.loc[(dataframe[variable] < low_limit), variable] = low_limit\n",
    "    dataframe.loc[(dataframe[variable] > up_limit), variable] = up_limit"
   ]
  },
  {
   "cell_type": "code",
   "execution_count": 64,
   "metadata": {},
   "outputs": [],
   "source": [
    "def check_outlier(dataframe, col_name, q1=.25, q3=.75):\n",
    "    low_limit, up_limit = outlier_thresholds(dataframe, col_name, q1, q3)\n",
    "    if dataframe[(dataframe[col_name] > up_limit) | (dataframe[col_name] < low_limit)].any(axis=None):\n",
    "        return True\n",
    "    else:\n",
    "        return False"
   ]
  },
  {
   "cell_type": "code",
   "execution_count": 32,
   "metadata": {},
   "outputs": [],
   "source": [
    "def one_hot_encoder(dataframe, categorical_cols, drop_first=False):\n",
    "    dataframe = pd.get_dummies(dataframe, columns=categorical_cols, drop_first=drop_first)\n",
    "    return dataframe"
   ]
  },
  {
   "cell_type": "code",
   "execution_count": 33,
   "metadata": {},
   "outputs": [
    {
     "data": {
      "text/html": [
       "<div>\n",
       "<style scoped>\n",
       "    .dataframe tbody tr th:only-of-type {\n",
       "        vertical-align: middle;\n",
       "    }\n",
       "\n",
       "    .dataframe tbody tr th {\n",
       "        vertical-align: top;\n",
       "    }\n",
       "\n",
       "    .dataframe thead th {\n",
       "        text-align: right;\n",
       "    }\n",
       "</style>\n",
       "<table border=\"1\" class=\"dataframe\">\n",
       "  <thead>\n",
       "    <tr style=\"text-align: right;\">\n",
       "      <th></th>\n",
       "      <th>Pregnancies</th>\n",
       "      <th>Glucose</th>\n",
       "      <th>BloodPressure</th>\n",
       "      <th>SkinThickness</th>\n",
       "      <th>Insulin</th>\n",
       "      <th>BMI</th>\n",
       "      <th>DiabetesPedigreeFunction</th>\n",
       "      <th>Age</th>\n",
       "      <th>Outcome</th>\n",
       "    </tr>\n",
       "  </thead>\n",
       "  <tbody>\n",
       "    <tr>\n",
       "      <th>0</th>\n",
       "      <td>6</td>\n",
       "      <td>148</td>\n",
       "      <td>72</td>\n",
       "      <td>35</td>\n",
       "      <td>0</td>\n",
       "      <td>33.6</td>\n",
       "      <td>0.627</td>\n",
       "      <td>50</td>\n",
       "      <td>1</td>\n",
       "    </tr>\n",
       "    <tr>\n",
       "      <th>1</th>\n",
       "      <td>1</td>\n",
       "      <td>85</td>\n",
       "      <td>66</td>\n",
       "      <td>29</td>\n",
       "      <td>0</td>\n",
       "      <td>26.6</td>\n",
       "      <td>0.351</td>\n",
       "      <td>31</td>\n",
       "      <td>0</td>\n",
       "    </tr>\n",
       "    <tr>\n",
       "      <th>2</th>\n",
       "      <td>8</td>\n",
       "      <td>183</td>\n",
       "      <td>64</td>\n",
       "      <td>0</td>\n",
       "      <td>0</td>\n",
       "      <td>23.3</td>\n",
       "      <td>0.672</td>\n",
       "      <td>32</td>\n",
       "      <td>1</td>\n",
       "    </tr>\n",
       "    <tr>\n",
       "      <th>3</th>\n",
       "      <td>1</td>\n",
       "      <td>89</td>\n",
       "      <td>66</td>\n",
       "      <td>23</td>\n",
       "      <td>94</td>\n",
       "      <td>28.1</td>\n",
       "      <td>0.167</td>\n",
       "      <td>21</td>\n",
       "      <td>0</td>\n",
       "    </tr>\n",
       "    <tr>\n",
       "      <th>4</th>\n",
       "      <td>0</td>\n",
       "      <td>137</td>\n",
       "      <td>40</td>\n",
       "      <td>35</td>\n",
       "      <td>168</td>\n",
       "      <td>43.1</td>\n",
       "      <td>2.288</td>\n",
       "      <td>33</td>\n",
       "      <td>1</td>\n",
       "    </tr>\n",
       "  </tbody>\n",
       "</table>\n",
       "</div>"
      ],
      "text/plain": [
       "   Pregnancies  Glucose  BloodPressure  SkinThickness  Insulin   BMI  DiabetesPedigreeFunction  Age  Outcome\n",
       "0            6      148             72             35        0  33.6                     0.627   50        1\n",
       "1            1       85             66             29        0  26.6                     0.351   31        0\n",
       "2            8      183             64              0        0  23.3                     0.672   32        1\n",
       "3            1       89             66             23       94  28.1                     0.167   21        0\n",
       "4            0      137             40             35      168  43.1                     2.288   33        1"
      ]
     },
     "execution_count": 33,
     "metadata": {},
     "output_type": "execute_result"
    }
   ],
   "source": [
    "df.head()"
   ]
  },
  {
   "cell_type": "code",
   "execution_count": 34,
   "metadata": {},
   "outputs": [],
   "source": [
    "df.columns = [col.upper() for col in df.columns]"
   ]
  },
  {
   "cell_type": "code",
   "execution_count": 35,
   "metadata": {},
   "outputs": [
    {
     "data": {
      "text/html": [
       "<div>\n",
       "<style scoped>\n",
       "    .dataframe tbody tr th:only-of-type {\n",
       "        vertical-align: middle;\n",
       "    }\n",
       "\n",
       "    .dataframe tbody tr th {\n",
       "        vertical-align: top;\n",
       "    }\n",
       "\n",
       "    .dataframe thead th {\n",
       "        text-align: right;\n",
       "    }\n",
       "</style>\n",
       "<table border=\"1\" class=\"dataframe\">\n",
       "  <thead>\n",
       "    <tr style=\"text-align: right;\">\n",
       "      <th></th>\n",
       "      <th>PREGNANCIES</th>\n",
       "      <th>GLUCOSE</th>\n",
       "      <th>BLOODPRESSURE</th>\n",
       "      <th>SKINTHICKNESS</th>\n",
       "      <th>INSULIN</th>\n",
       "      <th>BMI</th>\n",
       "      <th>DIABETESPEDIGREEFUNCTION</th>\n",
       "      <th>AGE</th>\n",
       "      <th>OUTCOME</th>\n",
       "    </tr>\n",
       "  </thead>\n",
       "  <tbody>\n",
       "    <tr>\n",
       "      <th>0</th>\n",
       "      <td>6</td>\n",
       "      <td>148</td>\n",
       "      <td>72</td>\n",
       "      <td>35</td>\n",
       "      <td>0</td>\n",
       "      <td>33.6</td>\n",
       "      <td>0.627</td>\n",
       "      <td>50</td>\n",
       "      <td>1</td>\n",
       "    </tr>\n",
       "    <tr>\n",
       "      <th>1</th>\n",
       "      <td>1</td>\n",
       "      <td>85</td>\n",
       "      <td>66</td>\n",
       "      <td>29</td>\n",
       "      <td>0</td>\n",
       "      <td>26.6</td>\n",
       "      <td>0.351</td>\n",
       "      <td>31</td>\n",
       "      <td>0</td>\n",
       "    </tr>\n",
       "    <tr>\n",
       "      <th>2</th>\n",
       "      <td>8</td>\n",
       "      <td>183</td>\n",
       "      <td>64</td>\n",
       "      <td>0</td>\n",
       "      <td>0</td>\n",
       "      <td>23.3</td>\n",
       "      <td>0.672</td>\n",
       "      <td>32</td>\n",
       "      <td>1</td>\n",
       "    </tr>\n",
       "    <tr>\n",
       "      <th>3</th>\n",
       "      <td>1</td>\n",
       "      <td>89</td>\n",
       "      <td>66</td>\n",
       "      <td>23</td>\n",
       "      <td>94</td>\n",
       "      <td>28.1</td>\n",
       "      <td>0.167</td>\n",
       "      <td>21</td>\n",
       "      <td>0</td>\n",
       "    </tr>\n",
       "    <tr>\n",
       "      <th>4</th>\n",
       "      <td>0</td>\n",
       "      <td>137</td>\n",
       "      <td>40</td>\n",
       "      <td>35</td>\n",
       "      <td>168</td>\n",
       "      <td>43.1</td>\n",
       "      <td>2.288</td>\n",
       "      <td>33</td>\n",
       "      <td>1</td>\n",
       "    </tr>\n",
       "  </tbody>\n",
       "</table>\n",
       "</div>"
      ],
      "text/plain": [
       "   PREGNANCIES  GLUCOSE  BLOODPRESSURE  SKINTHICKNESS  INSULIN   BMI  DIABETESPEDIGREEFUNCTION  AGE  OUTCOME\n",
       "0            6      148             72             35        0  33.6                     0.627   50        1\n",
       "1            1       85             66             29        0  26.6                     0.351   31        0\n",
       "2            8      183             64              0        0  23.3                     0.672   32        1\n",
       "3            1       89             66             23       94  28.1                     0.167   21        0\n",
       "4            0      137             40             35      168  43.1                     2.288   33        1"
      ]
     },
     "execution_count": 35,
     "metadata": {},
     "output_type": "execute_result"
    }
   ],
   "source": [
    "df.head()"
   ]
  },
  {
   "cell_type": "code",
   "execution_count": 36,
   "metadata": {},
   "outputs": [],
   "source": [
    "# Glucose\n",
    "df[\"NEW_GLUCOSE_CAT\"] = pd.cut(x=df[\"GLUCOSE\"],bins=[-1,139,200],labels = [\"normal\",\"prediabetes\"])"
   ]
  },
  {
   "cell_type": "code",
   "execution_count": 37,
   "metadata": {},
   "outputs": [],
   "source": [
    "# Age\n",
    "df.loc[(df[\"AGE\"]<35), \"NEW_AGE_CAT\"] = \"young\"\n",
    "df.loc[(df[\"AGE\"]>=35) & (df[\"AGE\"]<=55), \"NEW_AGE_CAT\"] = \"middleage\"\n",
    "df.loc[(df[\"AGE\"]>55), \"NEW_AGE_CAT\"] = \"old\""
   ]
  },
  {
   "cell_type": "code",
   "execution_count": 38,
   "metadata": {},
   "outputs": [],
   "source": [
    "# BMI\n",
    "df[\"NEW_BMI_RANGE\"] = pd.cut(x=df[\"BMI\"],bins=[-1,18.5,24.9,29.9,100],\n",
    "                                labels = [\"underweight\",\"healty\",\"overweight\",\"obese\"])"
   ]
  },
  {
   "cell_type": "code",
   "execution_count": 39,
   "metadata": {},
   "outputs": [],
   "source": [
    "# Blood Pressure\n",
    "df[\"NEW_BLOODPRESSURE\"] = pd.cut(x=df[\"BLOODPRESSURE\"],bins=[-1,79,89,123], labels=[\"normal\",\"hs1\",\"hs2\"])"
   ]
  },
  {
   "cell_type": "code",
   "execution_count": 40,
   "metadata": {},
   "outputs": [
    {
     "name": "stdout",
     "output_type": "stream",
     "text": [
      "#################### Shape #####################\n",
      "(768, 13)\n",
      "#################### Types #####################\n",
      "PREGNANCIES                    int64\n",
      "GLUCOSE                        int64\n",
      "BLOODPRESSURE                  int64\n",
      "SKINTHICKNESS                  int64\n",
      "INSULIN                        int64\n",
      "BMI                          float64\n",
      "DIABETESPEDIGREEFUNCTION     float64\n",
      "AGE                            int64\n",
      "OUTCOME                        int64\n",
      "NEW_GLUCOSE_CAT             category\n",
      "NEW_AGE_CAT                   object\n",
      "NEW_BMI_RANGE               category\n",
      "NEW_BLOODPRESSURE           category\n",
      "dtype: object\n",
      "#################### Head #####################\n",
      "   PREGNANCIES  GLUCOSE  BLOODPRESSURE  SKINTHICKNESS  INSULIN   BMI  DIABETESPEDIGREEFUNCTION  AGE  OUTCOME NEW_GLUCOSE_CAT NEW_AGE_CAT NEW_BMI_RANGE NEW_BLOODPRESSURE\n",
      "0            6      148             72             35        0  33.6                     0.627   50        1     prediabetes   middleage         obese            normal\n",
      "1            1       85             66             29        0  26.6                     0.351   31        0          normal       young    overweight            normal\n",
      "2            8      183             64              0        0  23.3                     0.672   32        1     prediabetes       young        healty            normal\n",
      "3            1       89             66             23       94  28.1                     0.167   21        0          normal       young    overweight            normal\n",
      "4            0      137             40             35      168  43.1                     2.288   33        1          normal       young         obese            normal\n",
      "#################### Tail #####################\n",
      "     PREGNANCIES  GLUCOSE  BLOODPRESSURE  SKINTHICKNESS  INSULIN   BMI  DIABETESPEDIGREEFUNCTION  AGE  OUTCOME NEW_GLUCOSE_CAT NEW_AGE_CAT NEW_BMI_RANGE NEW_BLOODPRESSURE\n",
      "763           10      101             76             48      180  32.9                     0.171   63        0          normal         old         obese            normal\n",
      "764            2      122             70             27        0  36.8                     0.340   27        0          normal       young         obese            normal\n",
      "765            5      121             72             23      112  26.2                     0.245   30        0          normal       young    overweight            normal\n",
      "766            1      126             60              0        0  30.1                     0.349   47        1          normal   middleage         obese            normal\n",
      "767            1       93             70             31        0  30.4                     0.315   23        0          normal       young         obese            normal\n",
      "#################### NA #####################\n",
      "PREGNANCIES                 0\n",
      "GLUCOSE                     0\n",
      "BLOODPRESSURE               0\n",
      "SKINTHICKNESS               0\n",
      "INSULIN                     0\n",
      "BMI                         0\n",
      "DIABETESPEDIGREEFUNCTION    0\n",
      "AGE                         0\n",
      "OUTCOME                     0\n",
      "NEW_GLUCOSE_CAT             0\n",
      "NEW_AGE_CAT                 0\n",
      "NEW_BMI_RANGE               0\n",
      "NEW_BLOODPRESSURE           0\n",
      "dtype: int64\n",
      "#################### Quantiles #####################\n",
      "                          count        mean         std     min      0%        5%       50%        95%        99%    100%     max\n",
      "PREGNANCIES               768.0    3.845052    3.369578   0.000   0.000   0.00000    3.0000   10.00000   13.00000   17.00   17.00\n",
      "GLUCOSE                   768.0  120.894531   31.972618   0.000   0.000  79.00000  117.0000  181.00000  196.00000  199.00  199.00\n",
      "BLOODPRESSURE             768.0   69.105469   19.355807   0.000   0.000  38.70000   72.0000   90.00000  106.00000  122.00  122.00\n",
      "SKINTHICKNESS             768.0   20.536458   15.952218   0.000   0.000   0.00000   23.0000   44.00000   51.33000   99.00   99.00\n",
      "INSULIN                   768.0   79.799479  115.244002   0.000   0.000   0.00000   30.5000  293.00000  519.90000  846.00  846.00\n",
      "BMI                       768.0   31.992578    7.884160   0.000   0.000  21.80000   32.0000   44.39500   50.75900   67.10   67.10\n",
      "DIABETESPEDIGREEFUNCTION  768.0    0.471876    0.331329   0.078   0.078   0.14035    0.3725    1.13285    1.69833    2.42    2.42\n",
      "AGE                       768.0   33.240885   11.760232  21.000  21.000  21.00000   29.0000   58.00000   67.00000   81.00   81.00\n",
      "OUTCOME                   768.0    0.348958    0.476951   0.000   0.000   0.00000    0.0000    1.00000    1.00000    1.00    1.00\n"
     ]
    }
   ],
   "source": [
    "check_df(df)"
   ]
  },
  {
   "cell_type": "code",
   "execution_count": 41,
   "metadata": {},
   "outputs": [
    {
     "name": "stdout",
     "output_type": "stream",
     "text": [
      "Gözlemler: 768\n",
      "Değişkenler: 13\n",
      "cat_cols: 5\n",
      "num_cols: 8\n",
      "cat_but_car: 0\n",
      "num_but_cat: 1\n"
     ]
    }
   ],
   "source": [
    "cat_cols, num_cols, cat_but_cat = grab_col_names(df, cat_th=5, car_th=20)"
   ]
  },
  {
   "cell_type": "code",
   "execution_count": 42,
   "metadata": {},
   "outputs": [
    {
     "data": {
      "text/plain": [
       "['NEW_GLUCOSE_CAT',\n",
       " 'NEW_AGE_CAT',\n",
       " 'NEW_BMI_RANGE',\n",
       " 'NEW_BLOODPRESSURE',\n",
       " 'OUTCOME']"
      ]
     },
     "execution_count": 42,
     "metadata": {},
     "output_type": "execute_result"
    }
   ],
   "source": [
    "cat_cols"
   ]
  },
  {
   "cell_type": "code",
   "execution_count": 43,
   "metadata": {},
   "outputs": [
    {
     "data": {
      "text/plain": [
       "['PREGNANCIES',\n",
       " 'GLUCOSE',\n",
       " 'BLOODPRESSURE',\n",
       " 'SKINTHICKNESS',\n",
       " 'INSULIN',\n",
       " 'BMI',\n",
       " 'DIABETESPEDIGREEFUNCTION',\n",
       " 'AGE']"
      ]
     },
     "execution_count": 43,
     "metadata": {},
     "output_type": "execute_result"
    }
   ],
   "source": [
    "num_cols"
   ]
  },
  {
   "cell_type": "code",
   "execution_count": 45,
   "metadata": {},
   "outputs": [
    {
     "data": {
      "text/plain": [
       "[]"
      ]
     },
     "execution_count": 45,
     "metadata": {},
     "output_type": "execute_result"
    }
   ],
   "source": [
    "cat_but_cat"
   ]
  },
  {
   "cell_type": "code",
   "execution_count": 46,
   "metadata": {},
   "outputs": [
    {
     "name": "stdout",
     "output_type": "stream",
     "text": [
      "             NEW_GLUCOSE_CAT      Ratio\n",
      "normal                   571  74.348958\n",
      "prediabetes              197  25.651042\n",
      "##############################################################\n",
      "           NEW_AGE_CAT      Ratio\n",
      "young              488  63.541667\n",
      "middleage          230  29.947917\n",
      "old                 50   6.510417\n",
      "##############################################################\n",
      "             NEW_BMI_RANGE      Ratio\n",
      "obese                  472  61.458333\n",
      "overweight             179  23.307292\n",
      "healty                 102  13.281250\n",
      "underweight             15   1.953125\n",
      "##############################################################\n",
      "        NEW_BLOODPRESSURE      Ratio\n",
      "normal                563  73.307292\n",
      "hs1                   145  18.880208\n",
      "hs2                    60   7.812500\n",
      "##############################################################\n",
      "   OUTCOME      Ratio\n",
      "0      500  65.104167\n",
      "1      268  34.895833\n",
      "##############################################################\n"
     ]
    }
   ],
   "source": [
    "for col in cat_cols:\n",
    "    cat_summary(df,col)"
   ]
  },
  {
   "cell_type": "code",
   "execution_count": 47,
   "metadata": {},
   "outputs": [
    {
     "name": "stdout",
     "output_type": "stream",
     "text": [
      "                 TARGET_MEAN\n",
      "NEW_GLUCOSE_CAT             \n",
      "normal              0.232925\n",
      "prediabetes         0.685279\n",
      "\n",
      "\n",
      "             TARGET_MEAN\n",
      "NEW_AGE_CAT             \n",
      "middleage       0.543478\n",
      "old             0.340000\n",
      "young           0.258197\n",
      "\n",
      "\n",
      "               TARGET_MEAN\n",
      "NEW_BMI_RANGE             \n",
      "underweight       0.133333\n",
      "healty            0.068627\n",
      "overweight        0.223464\n",
      "obese             0.463983\n",
      "\n",
      "\n",
      "                   TARGET_MEAN\n",
      "NEW_BLOODPRESSURE             \n",
      "normal                0.316163\n",
      "hs1                   0.420690\n",
      "hs2                   0.483333\n",
      "\n",
      "\n",
      "         TARGET_MEAN\n",
      "OUTCOME             \n",
      "0                0.0\n",
      "1                1.0\n",
      "\n",
      "\n"
     ]
    }
   ],
   "source": [
    "for col in cat_cols:\n",
    "    target_summary_with_cat(df,\"OUTCOME\",col)"
   ]
  },
  {
   "cell_type": "code",
   "execution_count": 48,
   "metadata": {},
   "outputs": [],
   "source": [
    "cat_cols.remove(\"OUTCOME\")"
   ]
  },
  {
   "cell_type": "code",
   "execution_count": 49,
   "metadata": {},
   "outputs": [
    {
     "data": {
      "text/plain": [
       "['NEW_GLUCOSE_CAT', 'NEW_AGE_CAT', 'NEW_BMI_RANGE', 'NEW_BLOODPRESSURE']"
      ]
     },
     "execution_count": 49,
     "metadata": {},
     "output_type": "execute_result"
    }
   ],
   "source": [
    "cat_cols"
   ]
  },
  {
   "cell_type": "code",
   "execution_count": 50,
   "metadata": {},
   "outputs": [],
   "source": [
    "df = one_hot_encoder(df, cat_cols, drop_first=True)"
   ]
  },
  {
   "cell_type": "code",
   "execution_count": 52,
   "metadata": {},
   "outputs": [
    {
     "name": "stdout",
     "output_type": "stream",
     "text": [
      "#################### Shape #####################\n",
      "(768, 17)\n",
      "#################### Types #####################\n",
      "PREGNANCIES                      int64\n",
      "GLUCOSE                          int64\n",
      "BLOODPRESSURE                    int64\n",
      "SKINTHICKNESS                    int64\n",
      "INSULIN                          int64\n",
      "BMI                            float64\n",
      "DIABETESPEDIGREEFUNCTION       float64\n",
      "AGE                              int64\n",
      "OUTCOME                          int64\n",
      "NEW_GLUCOSE_CAT_prediabetes      uint8\n",
      "NEW_AGE_CAT_old                  uint8\n",
      "NEW_AGE_CAT_young                uint8\n",
      "NEW_BMI_RANGE_healty             uint8\n",
      "NEW_BMI_RANGE_overweight         uint8\n",
      "NEW_BMI_RANGE_obese              uint8\n",
      "NEW_BLOODPRESSURE_hs1            uint8\n",
      "NEW_BLOODPRESSURE_hs2            uint8\n",
      "dtype: object\n",
      "#################### Head #####################\n",
      "   PREGNANCIES  GLUCOSE  BLOODPRESSURE  SKINTHICKNESS  INSULIN   BMI  DIABETESPEDIGREEFUNCTION  AGE  OUTCOME  NEW_GLUCOSE_CAT_prediabetes  NEW_AGE_CAT_old  NEW_AGE_CAT_young  NEW_BMI_RANGE_healty  NEW_BMI_RANGE_overweight  NEW_BMI_RANGE_obese  NEW_BLOODPRESSURE_hs1  NEW_BLOODPRESSURE_hs2\n",
      "0            6      148             72             35        0  33.6                     0.627   50        1                            1                0                  0                     0                         0                    1                      0                      0\n",
      "1            1       85             66             29        0  26.6                     0.351   31        0                            0                0                  1                     0                         1                    0                      0                      0\n",
      "2            8      183             64              0        0  23.3                     0.672   32        1                            1                0                  1                     1                         0                    0                      0                      0\n",
      "3            1       89             66             23       94  28.1                     0.167   21        0                            0                0                  1                     0                         1                    0                      0                      0\n",
      "4            0      137             40             35      168  43.1                     2.288   33        1                            0                0                  1                     0                         0                    1                      0                      0\n",
      "#################### Tail #####################\n",
      "     PREGNANCIES  GLUCOSE  BLOODPRESSURE  SKINTHICKNESS  INSULIN   BMI  DIABETESPEDIGREEFUNCTION  AGE  OUTCOME  NEW_GLUCOSE_CAT_prediabetes  NEW_AGE_CAT_old  NEW_AGE_CAT_young  NEW_BMI_RANGE_healty  NEW_BMI_RANGE_overweight  NEW_BMI_RANGE_obese  NEW_BLOODPRESSURE_hs1  NEW_BLOODPRESSURE_hs2\n",
      "763           10      101             76             48      180  32.9                     0.171   63        0                            0                1                  0                     0                         0                    1                      0                      0\n",
      "764            2      122             70             27        0  36.8                     0.340   27        0                            0                0                  1                     0                         0                    1                      0                      0\n",
      "765            5      121             72             23      112  26.2                     0.245   30        0                            0                0                  1                     0                         1                    0                      0                      0\n",
      "766            1      126             60              0        0  30.1                     0.349   47        1                            0                0                  0                     0                         0                    1                      0                      0\n",
      "767            1       93             70             31        0  30.4                     0.315   23        0                            0                0                  1                     0                         0                    1                      0                      0\n",
      "#################### NA #####################\n",
      "PREGNANCIES                    0\n",
      "GLUCOSE                        0\n",
      "BLOODPRESSURE                  0\n",
      "SKINTHICKNESS                  0\n",
      "INSULIN                        0\n",
      "BMI                            0\n",
      "DIABETESPEDIGREEFUNCTION       0\n",
      "AGE                            0\n",
      "OUTCOME                        0\n",
      "NEW_GLUCOSE_CAT_prediabetes    0\n",
      "NEW_AGE_CAT_old                0\n",
      "NEW_AGE_CAT_young              0\n",
      "NEW_BMI_RANGE_healty           0\n",
      "NEW_BMI_RANGE_overweight       0\n",
      "NEW_BMI_RANGE_obese            0\n",
      "NEW_BLOODPRESSURE_hs1          0\n",
      "NEW_BLOODPRESSURE_hs2          0\n",
      "dtype: int64\n",
      "#################### Quantiles #####################\n",
      "                             count        mean         std     min      0%        5%       50%        95%        99%    100%     max\n",
      "PREGNANCIES                  768.0    3.845052    3.369578   0.000   0.000   0.00000    3.0000   10.00000   13.00000   17.00   17.00\n",
      "GLUCOSE                      768.0  120.894531   31.972618   0.000   0.000  79.00000  117.0000  181.00000  196.00000  199.00  199.00\n",
      "BLOODPRESSURE                768.0   69.105469   19.355807   0.000   0.000  38.70000   72.0000   90.00000  106.00000  122.00  122.00\n",
      "SKINTHICKNESS                768.0   20.536458   15.952218   0.000   0.000   0.00000   23.0000   44.00000   51.33000   99.00   99.00\n",
      "INSULIN                      768.0   79.799479  115.244002   0.000   0.000   0.00000   30.5000  293.00000  519.90000  846.00  846.00\n",
      "BMI                          768.0   31.992578    7.884160   0.000   0.000  21.80000   32.0000   44.39500   50.75900   67.10   67.10\n",
      "DIABETESPEDIGREEFUNCTION     768.0    0.471876    0.331329   0.078   0.078   0.14035    0.3725    1.13285    1.69833    2.42    2.42\n",
      "AGE                          768.0   33.240885   11.760232  21.000  21.000  21.00000   29.0000   58.00000   67.00000   81.00   81.00\n",
      "OUTCOME                      768.0    0.348958    0.476951   0.000   0.000   0.00000    0.0000    1.00000    1.00000    1.00    1.00\n",
      "NEW_GLUCOSE_CAT_prediabetes  768.0    0.256510    0.436991   0.000   0.000   0.00000    0.0000    1.00000    1.00000    1.00    1.00\n",
      "NEW_AGE_CAT_old              768.0    0.065104    0.246870   0.000   0.000   0.00000    0.0000    1.00000    1.00000    1.00    1.00\n",
      "NEW_AGE_CAT_young            768.0    0.635417    0.481627   0.000   0.000   0.00000    1.0000    1.00000    1.00000    1.00    1.00\n",
      "NEW_BMI_RANGE_healty         768.0    0.132812    0.339593   0.000   0.000   0.00000    0.0000    1.00000    1.00000    1.00    1.00\n",
      "NEW_BMI_RANGE_overweight     768.0    0.233073    0.423064   0.000   0.000   0.00000    0.0000    1.00000    1.00000    1.00    1.00\n",
      "NEW_BMI_RANGE_obese          768.0    0.614583    0.487011   0.000   0.000   0.00000    1.0000    1.00000    1.00000    1.00    1.00\n",
      "NEW_BLOODPRESSURE_hs1        768.0    0.188802    0.391606   0.000   0.000   0.00000    0.0000    1.00000    1.00000    1.00    1.00\n",
      "NEW_BLOODPRESSURE_hs2        768.0    0.078125    0.268543   0.000   0.000   0.00000    0.0000    1.00000    1.00000    1.00    1.00\n"
     ]
    }
   ],
   "source": [
    "check_df(df)"
   ]
  },
  {
   "cell_type": "code",
   "execution_count": 53,
   "metadata": {},
   "outputs": [],
   "source": [
    "df.columns = [col.upper() for col in df.columns]"
   ]
  },
  {
   "cell_type": "code",
   "execution_count": 54,
   "metadata": {},
   "outputs": [
    {
     "name": "stdout",
     "output_type": "stream",
     "text": [
      "#################### Shape #####################\n",
      "(768, 17)\n",
      "#################### Types #####################\n",
      "PREGNANCIES                      int64\n",
      "GLUCOSE                          int64\n",
      "BLOODPRESSURE                    int64\n",
      "SKINTHICKNESS                    int64\n",
      "INSULIN                          int64\n",
      "BMI                            float64\n",
      "DIABETESPEDIGREEFUNCTION       float64\n",
      "AGE                              int64\n",
      "OUTCOME                          int64\n",
      "NEW_GLUCOSE_CAT_PREDIABETES      uint8\n",
      "NEW_AGE_CAT_OLD                  uint8\n",
      "NEW_AGE_CAT_YOUNG                uint8\n",
      "NEW_BMI_RANGE_HEALTY             uint8\n",
      "NEW_BMI_RANGE_OVERWEIGHT         uint8\n",
      "NEW_BMI_RANGE_OBESE              uint8\n",
      "NEW_BLOODPRESSURE_HS1            uint8\n",
      "NEW_BLOODPRESSURE_HS2            uint8\n",
      "dtype: object\n",
      "#################### Head #####################\n",
      "   PREGNANCIES  GLUCOSE  BLOODPRESSURE  SKINTHICKNESS  INSULIN   BMI  DIABETESPEDIGREEFUNCTION  AGE  OUTCOME  NEW_GLUCOSE_CAT_PREDIABETES  NEW_AGE_CAT_OLD  NEW_AGE_CAT_YOUNG  NEW_BMI_RANGE_HEALTY  NEW_BMI_RANGE_OVERWEIGHT  NEW_BMI_RANGE_OBESE  NEW_BLOODPRESSURE_HS1  NEW_BLOODPRESSURE_HS2\n",
      "0            6      148             72             35        0  33.6                     0.627   50        1                            1                0                  0                     0                         0                    1                      0                      0\n",
      "1            1       85             66             29        0  26.6                     0.351   31        0                            0                0                  1                     0                         1                    0                      0                      0\n",
      "2            8      183             64              0        0  23.3                     0.672   32        1                            1                0                  1                     1                         0                    0                      0                      0\n",
      "3            1       89             66             23       94  28.1                     0.167   21        0                            0                0                  1                     0                         1                    0                      0                      0\n",
      "4            0      137             40             35      168  43.1                     2.288   33        1                            0                0                  1                     0                         0                    1                      0                      0\n",
      "#################### Tail #####################\n",
      "     PREGNANCIES  GLUCOSE  BLOODPRESSURE  SKINTHICKNESS  INSULIN   BMI  DIABETESPEDIGREEFUNCTION  AGE  OUTCOME  NEW_GLUCOSE_CAT_PREDIABETES  NEW_AGE_CAT_OLD  NEW_AGE_CAT_YOUNG  NEW_BMI_RANGE_HEALTY  NEW_BMI_RANGE_OVERWEIGHT  NEW_BMI_RANGE_OBESE  NEW_BLOODPRESSURE_HS1  NEW_BLOODPRESSURE_HS2\n",
      "763           10      101             76             48      180  32.9                     0.171   63        0                            0                1                  0                     0                         0                    1                      0                      0\n",
      "764            2      122             70             27        0  36.8                     0.340   27        0                            0                0                  1                     0                         0                    1                      0                      0\n",
      "765            5      121             72             23      112  26.2                     0.245   30        0                            0                0                  1                     0                         1                    0                      0                      0\n",
      "766            1      126             60              0        0  30.1                     0.349   47        1                            0                0                  0                     0                         0                    1                      0                      0\n",
      "767            1       93             70             31        0  30.4                     0.315   23        0                            0                0                  1                     0                         0                    1                      0                      0\n",
      "#################### NA #####################\n",
      "PREGNANCIES                    0\n",
      "GLUCOSE                        0\n",
      "BLOODPRESSURE                  0\n",
      "SKINTHICKNESS                  0\n",
      "INSULIN                        0\n",
      "BMI                            0\n",
      "DIABETESPEDIGREEFUNCTION       0\n",
      "AGE                            0\n",
      "OUTCOME                        0\n",
      "NEW_GLUCOSE_CAT_PREDIABETES    0\n",
      "NEW_AGE_CAT_OLD                0\n",
      "NEW_AGE_CAT_YOUNG              0\n",
      "NEW_BMI_RANGE_HEALTY           0\n",
      "NEW_BMI_RANGE_OVERWEIGHT       0\n",
      "NEW_BMI_RANGE_OBESE            0\n",
      "NEW_BLOODPRESSURE_HS1          0\n",
      "NEW_BLOODPRESSURE_HS2          0\n",
      "dtype: int64\n",
      "#################### Quantiles #####################\n",
      "                             count        mean         std     min      0%        5%       50%        95%        99%    100%     max\n",
      "PREGNANCIES                  768.0    3.845052    3.369578   0.000   0.000   0.00000    3.0000   10.00000   13.00000   17.00   17.00\n",
      "GLUCOSE                      768.0  120.894531   31.972618   0.000   0.000  79.00000  117.0000  181.00000  196.00000  199.00  199.00\n",
      "BLOODPRESSURE                768.0   69.105469   19.355807   0.000   0.000  38.70000   72.0000   90.00000  106.00000  122.00  122.00\n",
      "SKINTHICKNESS                768.0   20.536458   15.952218   0.000   0.000   0.00000   23.0000   44.00000   51.33000   99.00   99.00\n",
      "INSULIN                      768.0   79.799479  115.244002   0.000   0.000   0.00000   30.5000  293.00000  519.90000  846.00  846.00\n",
      "BMI                          768.0   31.992578    7.884160   0.000   0.000  21.80000   32.0000   44.39500   50.75900   67.10   67.10\n",
      "DIABETESPEDIGREEFUNCTION     768.0    0.471876    0.331329   0.078   0.078   0.14035    0.3725    1.13285    1.69833    2.42    2.42\n",
      "AGE                          768.0   33.240885   11.760232  21.000  21.000  21.00000   29.0000   58.00000   67.00000   81.00   81.00\n",
      "OUTCOME                      768.0    0.348958    0.476951   0.000   0.000   0.00000    0.0000    1.00000    1.00000    1.00    1.00\n",
      "NEW_GLUCOSE_CAT_PREDIABETES  768.0    0.256510    0.436991   0.000   0.000   0.00000    0.0000    1.00000    1.00000    1.00    1.00\n",
      "NEW_AGE_CAT_OLD              768.0    0.065104    0.246870   0.000   0.000   0.00000    0.0000    1.00000    1.00000    1.00    1.00\n",
      "NEW_AGE_CAT_YOUNG            768.0    0.635417    0.481627   0.000   0.000   0.00000    1.0000    1.00000    1.00000    1.00    1.00\n",
      "NEW_BMI_RANGE_HEALTY         768.0    0.132812    0.339593   0.000   0.000   0.00000    0.0000    1.00000    1.00000    1.00    1.00\n",
      "NEW_BMI_RANGE_OVERWEIGHT     768.0    0.233073    0.423064   0.000   0.000   0.00000    0.0000    1.00000    1.00000    1.00    1.00\n",
      "NEW_BMI_RANGE_OBESE          768.0    0.614583    0.487011   0.000   0.000   0.00000    1.0000    1.00000    1.00000    1.00    1.00\n",
      "NEW_BLOODPRESSURE_HS1        768.0    0.188802    0.391606   0.000   0.000   0.00000    0.0000    1.00000    1.00000    1.00    1.00\n",
      "NEW_BLOODPRESSURE_HS2        768.0    0.078125    0.268543   0.000   0.000   0.00000    0.0000    1.00000    1.00000    1.00    1.00\n"
     ]
    }
   ],
   "source": [
    "check_df(df)"
   ]
  },
  {
   "cell_type": "code",
   "execution_count": 60,
   "metadata": {},
   "outputs": [
    {
     "name": "stdout",
     "output_type": "stream",
     "text": [
      "Gözlemler: 768\n",
      "Değişkenler: 17\n",
      "cat_cols: 1\n",
      "num_cols: 8\n",
      "cat_but_car: 0\n",
      "num_but_cat: 1\n"
     ]
    }
   ],
   "source": [
    "# Yine grab colnames lazım\n",
    "cat_cols, num_cols, cat_but_car = grab_col_names(df, cat_th=5, car_th=20)"
   ]
  },
  {
   "cell_type": "code",
   "execution_count": 62,
   "metadata": {},
   "outputs": [],
   "source": [
    "cat_cols = cat_cols.remove(\"OUTCOME\")"
   ]
  },
  {
   "cell_type": "code",
   "execution_count": 65,
   "metadata": {},
   "outputs": [
    {
     "name": "stdout",
     "output_type": "stream",
     "text": [
      "PREGNANCIES False\n",
      "GLUCOSE False\n",
      "BLOODPRESSURE False\n",
      "SKINTHICKNESS False\n",
      "INSULIN True\n",
      "BMI False\n",
      "DIABETESPEDIGREEFUNCTION False\n",
      "AGE False\n"
     ]
    }
   ],
   "source": [
    "# Outlier\n",
    "for col in num_cols:\n",
    "    print(col, check_outlier(df, col,0.05,0.95))"
   ]
  },
  {
   "cell_type": "code",
   "execution_count": 66,
   "metadata": {},
   "outputs": [],
   "source": [
    "replace_with_thresholds(df,\"INSULIN\")"
   ]
  },
  {
   "cell_type": "code",
   "execution_count": 67,
   "metadata": {},
   "outputs": [
    {
     "name": "stdout",
     "output_type": "stream",
     "text": [
      "PREGNANCIES False\n",
      "GLUCOSE False\n",
      "BLOODPRESSURE False\n",
      "SKINTHICKNESS False\n",
      "INSULIN False\n",
      "BMI False\n",
      "DIABETESPEDIGREEFUNCTION False\n",
      "AGE False\n"
     ]
    }
   ],
   "source": [
    "# Outlier\n",
    "for col in num_cols:\n",
    "    print(col, check_outlier(df, col,0.05,0.95))"
   ]
  },
  {
   "cell_type": "code",
   "execution_count": 68,
   "metadata": {},
   "outputs": [],
   "source": [
    "# Standartlaştırma\n",
    "\n",
    "X_scaled = StandardScaler().fit_transform(df[num_cols])"
   ]
  },
  {
   "cell_type": "code",
   "execution_count": 69,
   "metadata": {},
   "outputs": [],
   "source": [
    "df[num_cols] = pd.DataFrame(X_scaled,columns=df[num_cols].columns)"
   ]
  },
  {
   "cell_type": "code",
   "execution_count": 70,
   "metadata": {},
   "outputs": [],
   "source": [
    "y = df[\"OUTCOME\"]\n",
    "X = df.drop([\"OUTCOME\"],axis=1)"
   ]
  },
  {
   "cell_type": "code",
   "execution_count": 71,
   "metadata": {},
   "outputs": [
    {
     "name": "stdout",
     "output_type": "stream",
     "text": [
      "#################### Shape #####################\n",
      "(768, 17)\n",
      "#################### Types #####################\n",
      "PREGNANCIES                    float64\n",
      "GLUCOSE                        float64\n",
      "BLOODPRESSURE                  float64\n",
      "SKINTHICKNESS                  float64\n",
      "INSULIN                        float64\n",
      "BMI                            float64\n",
      "DIABETESPEDIGREEFUNCTION       float64\n",
      "AGE                            float64\n",
      "OUTCOME                          int64\n",
      "NEW_GLUCOSE_CAT_PREDIABETES      uint8\n",
      "NEW_AGE_CAT_OLD                  uint8\n",
      "NEW_AGE_CAT_YOUNG                uint8\n",
      "NEW_BMI_RANGE_HEALTY             uint8\n",
      "NEW_BMI_RANGE_OVERWEIGHT         uint8\n",
      "NEW_BMI_RANGE_OBESE              uint8\n",
      "NEW_BLOODPRESSURE_HS1            uint8\n",
      "NEW_BLOODPRESSURE_HS2            uint8\n",
      "dtype: object\n",
      "#################### Head #####################\n",
      "   PREGNANCIES   GLUCOSE  BLOODPRESSURE  SKINTHICKNESS   INSULIN       BMI  DIABETESPEDIGREEFUNCTION       AGE  OUTCOME  NEW_GLUCOSE_CAT_PREDIABETES  NEW_AGE_CAT_OLD  NEW_AGE_CAT_YOUNG  NEW_BMI_RANGE_HEALTY  NEW_BMI_RANGE_OVERWEIGHT  NEW_BMI_RANGE_OBESE  NEW_BLOODPRESSURE_HS1  NEW_BLOODPRESSURE_HS2\n",
      "0     0.639947  0.848324       0.149641       0.907270 -0.787602  0.204013                  0.468492  1.425995        1                            1                0                  0                     0                         0                    1                      0                      0\n",
      "1    -0.844885 -1.123396      -0.160546       0.530902 -0.787602 -0.684422                 -0.365061 -0.190672        0                            0                0                  1                     0                         1                    0                      0                      0\n",
      "2     1.233880  1.943724      -0.263941      -1.288212 -0.787602 -1.103255                  0.604397 -0.105584        1                            1                0                  1                     1                         0                    0                      0                      0\n",
      "3    -0.844885 -0.998208      -0.160546       0.154533  0.217583 -0.494043                 -0.920763 -1.041549        0                            0                0                  1                     0                         1                    0                      0                      0\n",
      "4    -1.141852  0.504055      -1.504687       0.907270  1.008900  1.409746                  5.484909 -0.020496        1                            0                0                  1                     0                         0                    1                      0                      0\n",
      "#################### Tail #####################\n",
      "     PREGNANCIES   GLUCOSE  BLOODPRESSURE  SKINTHICKNESS   INSULIN       BMI  DIABETESPEDIGREEFUNCTION       AGE  OUTCOME  NEW_GLUCOSE_CAT_PREDIABETES  NEW_AGE_CAT_OLD  NEW_AGE_CAT_YOUNG  NEW_BMI_RANGE_HEALTY  NEW_BMI_RANGE_OVERWEIGHT  NEW_BMI_RANGE_OBESE  NEW_BLOODPRESSURE_HS1  NEW_BLOODPRESSURE_HS2\n",
      "763     1.827813 -0.622642       0.356432       1.722735  1.137221  0.115169                 -0.908682  2.532136        0                            0                1                  0                     0                         0                    1                      0                      0\n",
      "764    -0.547919  0.034598       0.046245       0.405445 -0.787602  0.610154                 -0.398282 -0.531023        0                            0                0                  1                     0                         0                    1                      0                      0\n",
      "765     0.342981  0.003301       0.149641       0.154533  0.410066 -0.735190                 -0.685193 -0.275760        0                            0                0                  1                     0                         1                    0                      0                      0\n",
      "766    -0.844885  0.159787      -0.470732      -1.288212 -0.787602 -0.240205                 -0.371101  1.170732        1                            0                0                  0                     0                         0                    1                      0                      0\n",
      "767    -0.844885 -0.873019       0.046245       0.656358 -0.787602 -0.202129                 -0.473785 -0.871374        0                            0                0                  1                     0                         0                    1                      0                      0\n",
      "#################### NA #####################\n",
      "PREGNANCIES                    0\n",
      "GLUCOSE                        0\n",
      "BLOODPRESSURE                  0\n",
      "SKINTHICKNESS                  0\n",
      "INSULIN                        0\n",
      "BMI                            0\n",
      "DIABETESPEDIGREEFUNCTION       0\n",
      "AGE                            0\n",
      "OUTCOME                        0\n",
      "NEW_GLUCOSE_CAT_PREDIABETES    0\n",
      "NEW_AGE_CAT_OLD                0\n",
      "NEW_AGE_CAT_YOUNG              0\n",
      "NEW_BMI_RANGE_HEALTY           0\n",
      "NEW_BMI_RANGE_OVERWEIGHT       0\n",
      "NEW_BMI_RANGE_OBESE            0\n",
      "NEW_BLOODPRESSURE_HS1          0\n",
      "NEW_BLOODPRESSURE_HS2          0\n",
      "dtype: int64\n",
      "#################### Quantiles #####################\n",
      "                             count          mean       std       min        0%        5%       50%       95%       99%      100%       max\n",
      "PREGNANCIES                  768.0 -6.476301e-17  1.000652 -1.141852 -1.141852 -1.141852 -0.250952  1.827813  2.718712  3.906578  3.906578\n",
      "GLUCOSE                      768.0 -9.251859e-18  1.000652 -3.783654 -3.783654 -1.311179 -0.121888  1.881130  2.350587  2.444478  2.444478\n",
      "BLOODPRESSURE                768.0  1.503427e-17  1.000652 -3.572597 -3.572597 -1.571894  0.149641  1.080200  1.907364  2.734528  2.734528\n",
      "SKINTHICKNESS                768.0  1.006140e-16  1.000652 -1.288212 -1.288212 -1.288212  0.154533  1.471822  1.931619  4.921866  4.921866\n",
      "INSULIN                      768.0  8.037552e-17  1.000652 -0.787602 -0.787602 -0.787602 -0.461451  2.345582  2.614256  2.614256  2.614256\n",
      "BMI                          768.0  2.590520e-16  1.000652 -4.060474 -4.060474 -1.293634  0.000942  1.574106  2.381820  4.455807  4.455807\n",
      "DIABETESPEDIGREEFUNCTION     768.0  2.451743e-16  1.000652 -1.189553 -1.189553 -1.001249 -0.300128  1.996219  3.704036  5.883565  5.883565\n",
      "AGE                          768.0  1.931325e-16  1.000652 -1.041549 -1.041549 -1.041549 -0.360847  2.106697  2.872487  4.063716  4.063716\n",
      "OUTCOME                      768.0  3.489583e-01  0.476951  0.000000  0.000000  0.000000  0.000000  1.000000  1.000000  1.000000  1.000000\n",
      "NEW_GLUCOSE_CAT_PREDIABETES  768.0  2.565104e-01  0.436991  0.000000  0.000000  0.000000  0.000000  1.000000  1.000000  1.000000  1.000000\n",
      "NEW_AGE_CAT_OLD              768.0  6.510417e-02  0.246870  0.000000  0.000000  0.000000  0.000000  1.000000  1.000000  1.000000  1.000000\n",
      "NEW_AGE_CAT_YOUNG            768.0  6.354167e-01  0.481627  0.000000  0.000000  0.000000  1.000000  1.000000  1.000000  1.000000  1.000000\n",
      "NEW_BMI_RANGE_HEALTY         768.0  1.328125e-01  0.339593  0.000000  0.000000  0.000000  0.000000  1.000000  1.000000  1.000000  1.000000\n",
      "NEW_BMI_RANGE_OVERWEIGHT     768.0  2.330729e-01  0.423064  0.000000  0.000000  0.000000  0.000000  1.000000  1.000000  1.000000  1.000000\n",
      "NEW_BMI_RANGE_OBESE          768.0  6.145833e-01  0.487011  0.000000  0.000000  0.000000  1.000000  1.000000  1.000000  1.000000  1.000000\n",
      "NEW_BLOODPRESSURE_HS1        768.0  1.888021e-01  0.391606  0.000000  0.000000  0.000000  0.000000  1.000000  1.000000  1.000000  1.000000\n",
      "NEW_BLOODPRESSURE_HS2        768.0  7.812500e-02  0.268543  0.000000  0.000000  0.000000  0.000000  1.000000  1.000000  1.000000  1.000000\n"
     ]
    }
   ],
   "source": [
    "check_df(df)"
   ]
  },
  {
   "cell_type": "code",
   "execution_count": 77,
   "metadata": {},
   "outputs": [],
   "source": [
    "def diabetes_data_prep(dataframe):\n",
    "    dataframe.columns = [col.upper() for col in dataframe.columns]\n",
    "\n",
    "    # Glucose\n",
    "    dataframe[\"NEW_GLUCOSE_CAT\"] = pd.cut(x=dataframe[\"GLUCOSE\"],bins=[-1,139,200],labels = [\"normal\",\"prediabetes\"])\n",
    "\n",
    "    # Age\n",
    "    dataframe.loc[(df[\"AGE\"]<35), \"NEW_AGE_CAT\"] = \"young\"\n",
    "    dataframe.loc[(df[\"AGE\"]>=35) & (df[\"AGE\"]<=55), \"NEW_AGE_CAT\"] = \"middleage\"\n",
    "    dataframe.loc[(df[\"AGE\"]>55), \"NEW_AGE_CAT\"] = \"old\"\n",
    "\n",
    "    # BMI\n",
    "    dataframe[\"NEW_BMI_RANGE\"] = pd.cut(x=dataframe[\"BMI\"],bins=[-1,18.5,24.9,29.9,100],\n",
    "                                    labels = [\"underweight\",\"healty\",\"overweight\",\"obese\"])\n",
    "                                    \n",
    "    # Blood Pressure\n",
    "    dataframe[\"NEW_BLOODPRESSURE\"] = pd.cut(x=dataframe[\"BLOODPRESSURE\"],bins=[-1,79,89,123], labels=[\"normal\",\"hs1\",\"hs2\"])\n",
    "\n",
    "    cat_cols, num_cols, cat_but_cat = grab_col_names(dataframe, cat_th=5, car_th=20)\n",
    "\n",
    "    cat_cols = [col for col in cat_cols if \"OUTCOME\" not in col]\n",
    "\n",
    "    dataframe = one_hot_encoder(dataframe, cat_cols, drop_first=True)\n",
    "\n",
    "    dataframe.columns = [col.upper() for col in dataframe.columns]\n",
    "    \n",
    "    cat_cols, num_cols, cat_but_car = grab_col_names(dataframe, cat_th=5, car_th=20)\n",
    "\n",
    "    cat_cols = [col for col in cat_cols if \"OUTCOME\" not in col]\n",
    "\n",
    "    replace_with_thresholds(dataframe,\"INSULIN\")\n",
    "\n",
    "    X_scaled = StandardScaler().fit_transform(dataframe[num_cols])\n",
    "    dataframe[num_cols] = pd.DataFrame(X_scaled,columns=df[num_cols].columns)\n",
    "\n",
    "    y = dataframe[\"OUTCOME\"]\n",
    "    X = dataframe.drop([\"OUTCOME\"],axis=1)\n",
    "\n",
    "    return X, y"
   ]
  },
  {
   "cell_type": "code",
   "execution_count": 74,
   "metadata": {},
   "outputs": [],
   "source": [
    "df = pd.read_csv(\"diabetes.csv\")"
   ]
  },
  {
   "cell_type": "code",
   "execution_count": 75,
   "metadata": {},
   "outputs": [
    {
     "name": "stdout",
     "output_type": "stream",
     "text": [
      "#################### Shape #####################\n",
      "(768, 9)\n",
      "#################### Types #####################\n",
      "Pregnancies                   int64\n",
      "Glucose                       int64\n",
      "BloodPressure                 int64\n",
      "SkinThickness                 int64\n",
      "Insulin                       int64\n",
      "BMI                         float64\n",
      "DiabetesPedigreeFunction    float64\n",
      "Age                           int64\n",
      "Outcome                       int64\n",
      "dtype: object\n",
      "#################### Head #####################\n",
      "   Pregnancies  Glucose  BloodPressure  SkinThickness  Insulin   BMI  DiabetesPedigreeFunction  Age  Outcome\n",
      "0            6      148             72             35        0  33.6                     0.627   50        1\n",
      "1            1       85             66             29        0  26.6                     0.351   31        0\n",
      "2            8      183             64              0        0  23.3                     0.672   32        1\n",
      "3            1       89             66             23       94  28.1                     0.167   21        0\n",
      "4            0      137             40             35      168  43.1                     2.288   33        1\n",
      "#################### Tail #####################\n",
      "     Pregnancies  Glucose  BloodPressure  SkinThickness  Insulin   BMI  DiabetesPedigreeFunction  Age  Outcome\n",
      "763           10      101             76             48      180  32.9                     0.171   63        0\n",
      "764            2      122             70             27        0  36.8                     0.340   27        0\n",
      "765            5      121             72             23      112  26.2                     0.245   30        0\n",
      "766            1      126             60              0        0  30.1                     0.349   47        1\n",
      "767            1       93             70             31        0  30.4                     0.315   23        0\n",
      "#################### NA #####################\n",
      "Pregnancies                 0\n",
      "Glucose                     0\n",
      "BloodPressure               0\n",
      "SkinThickness               0\n",
      "Insulin                     0\n",
      "BMI                         0\n",
      "DiabetesPedigreeFunction    0\n",
      "Age                         0\n",
      "Outcome                     0\n",
      "dtype: int64\n",
      "#################### Quantiles #####################\n",
      "                          count        mean         std     min      0%        5%       50%        95%        99%    100%     max\n",
      "Pregnancies               768.0    3.845052    3.369578   0.000   0.000   0.00000    3.0000   10.00000   13.00000   17.00   17.00\n",
      "Glucose                   768.0  120.894531   31.972618   0.000   0.000  79.00000  117.0000  181.00000  196.00000  199.00  199.00\n",
      "BloodPressure             768.0   69.105469   19.355807   0.000   0.000  38.70000   72.0000   90.00000  106.00000  122.00  122.00\n",
      "SkinThickness             768.0   20.536458   15.952218   0.000   0.000   0.00000   23.0000   44.00000   51.33000   99.00   99.00\n",
      "Insulin                   768.0   79.799479  115.244002   0.000   0.000   0.00000   30.5000  293.00000  519.90000  846.00  846.00\n",
      "BMI                       768.0   31.992578    7.884160   0.000   0.000  21.80000   32.0000   44.39500   50.75900   67.10   67.10\n",
      "DiabetesPedigreeFunction  768.0    0.471876    0.331329   0.078   0.078   0.14035    0.3725    1.13285    1.69833    2.42    2.42\n",
      "Age                       768.0   33.240885   11.760232  21.000  21.000  21.00000   29.0000   58.00000   67.00000   81.00   81.00\n",
      "Outcome                   768.0    0.348958    0.476951   0.000   0.000   0.00000    0.0000    1.00000    1.00000    1.00    1.00\n"
     ]
    }
   ],
   "source": [
    "check_df(df)"
   ]
  },
  {
   "cell_type": "code",
   "execution_count": 78,
   "metadata": {},
   "outputs": [
    {
     "name": "stdout",
     "output_type": "stream",
     "text": [
      "Gözlemler: 768\n",
      "Değişkenler: 13\n",
      "cat_cols: 5\n",
      "num_cols: 8\n",
      "cat_but_car: 0\n",
      "num_but_cat: 1\n",
      "Gözlemler: 768\n",
      "Değişkenler: 17\n",
      "cat_cols: 1\n",
      "num_cols: 8\n",
      "cat_but_car: 0\n",
      "num_but_cat: 1\n"
     ]
    }
   ],
   "source": [
    "X , y = diabetes_data_prep(df)"
   ]
  },
  {
   "cell_type": "code",
   "execution_count": 79,
   "metadata": {},
   "outputs": [
    {
     "name": "stdout",
     "output_type": "stream",
     "text": [
      "#################### Shape #####################\n",
      "(768, 16)\n",
      "#################### Types #####################\n",
      "PREGNANCIES                    float64\n",
      "GLUCOSE                        float64\n",
      "BLOODPRESSURE                  float64\n",
      "SKINTHICKNESS                  float64\n",
      "INSULIN                        float64\n",
      "BMI                            float64\n",
      "DIABETESPEDIGREEFUNCTION       float64\n",
      "AGE                            float64\n",
      "NEW_GLUCOSE_CAT_PREDIABETES      uint8\n",
      "NEW_AGE_CAT_OLD                  uint8\n",
      "NEW_AGE_CAT_YOUNG                uint8\n",
      "NEW_BMI_RANGE_HEALTY             uint8\n",
      "NEW_BMI_RANGE_OVERWEIGHT         uint8\n",
      "NEW_BMI_RANGE_OBESE              uint8\n",
      "NEW_BLOODPRESSURE_HS1            uint8\n",
      "NEW_BLOODPRESSURE_HS2            uint8\n",
      "dtype: object\n",
      "#################### Head #####################\n",
      "   PREGNANCIES   GLUCOSE  BLOODPRESSURE  SKINTHICKNESS   INSULIN       BMI  DIABETESPEDIGREEFUNCTION       AGE  NEW_GLUCOSE_CAT_PREDIABETES  NEW_AGE_CAT_OLD  NEW_AGE_CAT_YOUNG  NEW_BMI_RANGE_HEALTY  NEW_BMI_RANGE_OVERWEIGHT  NEW_BMI_RANGE_OBESE  NEW_BLOODPRESSURE_HS1  NEW_BLOODPRESSURE_HS2\n",
      "0     0.639947  0.848324       0.149641       0.907270 -0.787602  0.204013                  0.468492  1.425995                            1                0                  0                     0                         0                    1                      0                      0\n",
      "1    -0.844885 -1.123396      -0.160546       0.530902 -0.787602 -0.684422                 -0.365061 -0.190672                            0                0                  1                     0                         1                    0                      0                      0\n",
      "2     1.233880  1.943724      -0.263941      -1.288212 -0.787602 -1.103255                  0.604397 -0.105584                            1                0                  1                     1                         0                    0                      0                      0\n",
      "3    -0.844885 -0.998208      -0.160546       0.154533  0.217583 -0.494043                 -0.920763 -1.041549                            0                0                  1                     0                         1                    0                      0                      0\n",
      "4    -1.141852  0.504055      -1.504687       0.907270  1.008900  1.409746                  5.484909 -0.020496                            0                0                  1                     0                         0                    1                      0                      0\n",
      "#################### Tail #####################\n",
      "     PREGNANCIES   GLUCOSE  BLOODPRESSURE  SKINTHICKNESS   INSULIN       BMI  DIABETESPEDIGREEFUNCTION       AGE  NEW_GLUCOSE_CAT_PREDIABETES  NEW_AGE_CAT_OLD  NEW_AGE_CAT_YOUNG  NEW_BMI_RANGE_HEALTY  NEW_BMI_RANGE_OVERWEIGHT  NEW_BMI_RANGE_OBESE  NEW_BLOODPRESSURE_HS1  NEW_BLOODPRESSURE_HS2\n",
      "763     1.827813 -0.622642       0.356432       1.722735  1.137221  0.115169                 -0.908682  2.532136                            0                1                  0                     0                         0                    1                      0                      0\n",
      "764    -0.547919  0.034598       0.046245       0.405445 -0.787602  0.610154                 -0.398282 -0.531023                            0                0                  1                     0                         0                    1                      0                      0\n",
      "765     0.342981  0.003301       0.149641       0.154533  0.410066 -0.735190                 -0.685193 -0.275760                            0                0                  1                     0                         1                    0                      0                      0\n",
      "766    -0.844885  0.159787      -0.470732      -1.288212 -0.787602 -0.240205                 -0.371101  1.170732                            0                0                  0                     0                         0                    1                      0                      0\n",
      "767    -0.844885 -0.873019       0.046245       0.656358 -0.787602 -0.202129                 -0.473785 -0.871374                            0                0                  1                     0                         0                    1                      0                      0\n",
      "#################### NA #####################\n",
      "PREGNANCIES                    0\n",
      "GLUCOSE                        0\n",
      "BLOODPRESSURE                  0\n",
      "SKINTHICKNESS                  0\n",
      "INSULIN                        0\n",
      "BMI                            0\n",
      "DIABETESPEDIGREEFUNCTION       0\n",
      "AGE                            0\n",
      "NEW_GLUCOSE_CAT_PREDIABETES    0\n",
      "NEW_AGE_CAT_OLD                0\n",
      "NEW_AGE_CAT_YOUNG              0\n",
      "NEW_BMI_RANGE_HEALTY           0\n",
      "NEW_BMI_RANGE_OVERWEIGHT       0\n",
      "NEW_BMI_RANGE_OBESE            0\n",
      "NEW_BLOODPRESSURE_HS1          0\n",
      "NEW_BLOODPRESSURE_HS2          0\n",
      "dtype: int64\n",
      "#################### Quantiles #####################\n",
      "                             count          mean       std       min        0%        5%       50%       95%       99%      100%       max\n",
      "PREGNANCIES                  768.0 -6.476301e-17  1.000652 -1.141852 -1.141852 -1.141852 -0.250952  1.827813  2.718712  3.906578  3.906578\n",
      "GLUCOSE                      768.0 -9.251859e-18  1.000652 -3.783654 -3.783654 -1.311179 -0.121888  1.881130  2.350587  2.444478  2.444478\n",
      "BLOODPRESSURE                768.0  1.503427e-17  1.000652 -3.572597 -3.572597 -1.571894  0.149641  1.080200  1.907364  2.734528  2.734528\n",
      "SKINTHICKNESS                768.0  1.006140e-16  1.000652 -1.288212 -1.288212 -1.288212  0.154533  1.471822  1.931619  4.921866  4.921866\n",
      "INSULIN                      768.0  8.037552e-17  1.000652 -0.787602 -0.787602 -0.787602 -0.461451  2.345582  2.614256  2.614256  2.614256\n",
      "BMI                          768.0  2.590520e-16  1.000652 -4.060474 -4.060474 -1.293634  0.000942  1.574106  2.381820  4.455807  4.455807\n",
      "DIABETESPEDIGREEFUNCTION     768.0  2.451743e-16  1.000652 -1.189553 -1.189553 -1.001249 -0.300128  1.996219  3.704036  5.883565  5.883565\n",
      "AGE                          768.0  1.931325e-16  1.000652 -1.041549 -1.041549 -1.041549 -0.360847  2.106697  2.872487  4.063716  4.063716\n",
      "NEW_GLUCOSE_CAT_PREDIABETES  768.0  2.565104e-01  0.436991  0.000000  0.000000  0.000000  0.000000  1.000000  1.000000  1.000000  1.000000\n",
      "NEW_AGE_CAT_OLD              768.0  6.510417e-02  0.246870  0.000000  0.000000  0.000000  0.000000  1.000000  1.000000  1.000000  1.000000\n",
      "NEW_AGE_CAT_YOUNG            768.0  6.354167e-01  0.481627  0.000000  0.000000  0.000000  1.000000  1.000000  1.000000  1.000000  1.000000\n",
      "NEW_BMI_RANGE_HEALTY         768.0  1.328125e-01  0.339593  0.000000  0.000000  0.000000  0.000000  1.000000  1.000000  1.000000  1.000000\n",
      "NEW_BMI_RANGE_OVERWEIGHT     768.0  2.330729e-01  0.423064  0.000000  0.000000  0.000000  0.000000  1.000000  1.000000  1.000000  1.000000\n",
      "NEW_BMI_RANGE_OBESE          768.0  6.145833e-01  0.487011  0.000000  0.000000  0.000000  1.000000  1.000000  1.000000  1.000000  1.000000\n",
      "NEW_BLOODPRESSURE_HS1        768.0  1.888021e-01  0.391606  0.000000  0.000000  0.000000  0.000000  1.000000  1.000000  1.000000  1.000000\n",
      "NEW_BLOODPRESSURE_HS2        768.0  7.812500e-02  0.268543  0.000000  0.000000  0.000000  0.000000  1.000000  1.000000  1.000000  1.000000\n"
     ]
    }
   ],
   "source": [
    "check_df(X)"
   ]
  },
  {
   "cell_type": "code",
   "execution_count": null,
   "metadata": {},
   "outputs": [],
   "source": []
  }
 ],
 "metadata": {
  "kernelspec": {
   "display_name": "Python 3.10.6 64-bit (windows store)",
   "language": "python",
   "name": "python3"
  },
  "language_info": {
   "codemirror_mode": {
    "name": "ipython",
    "version": 3
   },
   "file_extension": ".py",
   "mimetype": "text/x-python",
   "name": "python",
   "nbconvert_exporter": "python",
   "pygments_lexer": "ipython3",
   "version": "3.10.6"
  },
  "orig_nbformat": 4,
  "vscode": {
   "interpreter": {
    "hash": "bdeb59d3b64914835d647b3375aaf9a9a525da8506b206b2e4c562ce2d2d091a"
   }
  }
 },
 "nbformat": 4,
 "nbformat_minor": 2
}
